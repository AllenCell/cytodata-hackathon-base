{
 "cells": [
  {
   "cell_type": "code",
   "execution_count": 107,
   "metadata": {},
   "outputs": [],
   "source": [
    "import numpy as np\n",
    "import pandas as pd\n",
    "from sklearn.preprocessing import MinMaxScaler\n",
    "from scipy.stats import boxcox"
   ]
  },
  {
   "cell_type": "markdown",
   "metadata": {},
   "source": [
    "## Normalization methods\n",
    "- MinMax Scaled Normalization\n",
    "- Box-cox if needed"
   ]
  },
  {
   "cell_type": "code",
   "execution_count": 108,
   "metadata": {},
   "outputs": [
    {
     "name": "stderr",
     "output_type": "stream",
     "text": [
      "/Users/erikserrano/Programs/miniconda3/envs/datasci/lib/python3.10/site-packages/numpy/core/_methods.py:236: RuntimeWarning: overflow encountered in multiply\n",
      "  x = um.multiply(x, x, out=x)\n"
     ]
    }
   ],
   "source": [
    "def box_cox_transform(array: np.ndarray[float]) -> np.ndarray:\n",
    "    transformed_arr, lambda_val = boxcox(array)\n",
    "    return transformed_arr\n",
    "\n",
    "# creating toy data:\n",
    "# -- this is toydata will be replaced with actual data\n",
    "toydata = np.random.rand(25)+1 \n",
    "toydata = toydata.reshape(5, 5).astype(np.float32)\n",
    "\n",
    "# Apply MinMaxScaler techniques\n",
    "scaler = MinMaxScaler()\n",
    "minmax_scaled = scaler.fit_transform(toydata)\n",
    "minmax_scaled[minmax_scaled==0] = 1.0e-12\n",
    "\n",
    "# conduct small EDA\n",
    "data_df = pd.DataFrame(data=minmax_scaled)\n",
    "boxcox_data = data_df.apply(lambda x: box_cox_transform(x))"
   ]
  }
 ],
 "metadata": {
  "kernelspec": {
   "display_name": "Python 3.10.6 ('datasci')",
   "language": "python",
   "name": "python3"
  },
  "language_info": {
   "codemirror_mode": {
    "name": "ipython",
    "version": 3
   },
   "file_extension": ".py",
   "mimetype": "text/x-python",
   "name": "python",
   "nbconvert_exporter": "python",
   "pygments_lexer": "ipython3",
   "version": "3.10.6"
  },
  "orig_nbformat": 4,
  "vscode": {
   "interpreter": {
    "hash": "6763a51aae8a0c25edf82fa56f221cfee97a9fe5bbe42775d95229c47c8ec475"
   }
  }
 },
 "nbformat": 4,
 "nbformat_minor": 2
}
