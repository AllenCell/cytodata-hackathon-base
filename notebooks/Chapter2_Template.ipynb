{
 "cells": [
  {
   "cell_type": "markdown",
   "id": "36b67fed-d335-491d-a933-30a5ff088a6c",
   "metadata": {
    "tags": []
   },
   "source": [
    "# Chapter 2 - Accessing the Dataset\n",
    "\n",
    "- \n",
    "-\n",
    "-\n",
    "-\n",
    "-"
   ]
  },
  {
   "cell_type": "markdown",
   "id": "1fa0dc53-72fb-4872-89c3-c049ee1d399f",
   "metadata": {
    "jp-MarkdownHeadingCollapsed": true,
    "tags": []
   },
   "source": [
    "#### Assets "
   ]
  },
  {
   "cell_type": "code",
   "execution_count": 1,
   "id": "c3f9cbfe-57ae-465e-bb3e-fa2fa2a58107",
   "metadata": {},
   "outputs": [],
   "source": [
    "import warnings\n",
    "import pandas as pd\n",
    "import numpy as np\n",
    "import matplotlib.pyplot as plt\n",
    "import seaborn as sns\n",
    "import nbvv\n",
    "from upath import UPath as Path\n",
    "from aicsimageio import AICSImage\n",
    "from ome_zarr.reader import Reader\n",
    "from ome_zarr.io import parse_url\n",
    "import logging\n",
    "logging.getLogger(\"bfio\").setLevel(logging.ERROR)\n",
    "logging.getLogger(\"aicsimageio\").setLevel(logging.ERROR)\n",
    "\n",
    "\n",
    "def read_ome_zarr(path, level=0, image_name=\"default\"):\n",
    "    path = str(path if image_name is None else Path(path) / image_name)\n",
    "    reader = Reader(parse_url(path))\n",
    "\n",
    "    node = next(iter(reader()))\n",
    "    pps = node.metadata[\"coordinateTransformations\"][0][0][\"scale\"][-3:]\n",
    "   \n",
    "    return AICSImage(\n",
    "        node.data[level].compute(),\n",
    "        channel_names=node.metadata[\"name\"],\n",
    "        physical_pixel_sizes=pps\n",
    "    )\n",
    "\n",
    "def rescale_image(img_data, channels):\n",
    "    img_data = img_data.squeeze().astype(np.float32)\n",
    "    \n",
    "    for ix, channel in enumerate(channels):\n",
    "        if \"_seg\" not in channel:\n",
    "            img_data[ix] -= 1\n",
    "            \n",
    "            img_data[ix] = np.where(\n",
    "                img_data[ix] >= 0,\n",
    "                img_data[ix] / img_data.max(),\n",
    "                -1\n",
    "            )\n",
    "    return img_data.astype(np.float16)\n"
   ]
  },
  {
   "cell_type": "code",
   "execution_count": 2,
   "id": "91a51b69-aab2-44e6-a71d-05350769706e",
   "metadata": {},
   "outputs": [],
   "source": [
    "df = pd.read_parquet(\"s3://variance-dataset/processed/manifest.parquet\")"
   ]
  },
  {
   "cell_type": "markdown",
   "id": "634b3d77-97e5-497c-ac7b-7dc1d37f73cb",
   "metadata": {
    "jp-MarkdownHeadingCollapsed": true,
    "tags": []
   },
   "source": [
    "#### Jupyter Notebook Help"
   ]
  },
  {
   "cell_type": "code",
   "execution_count": null,
   "id": "78083bcf-7909-47dd-88c9-99059db6e3ce",
   "metadata": {},
   "outputs": [],
   "source": []
  },
  {
   "cell_type": "markdown",
   "id": "116d20f4-be0f-4dfb-bce0-849802677a18",
   "metadata": {
    "jp-MarkdownHeadingCollapsed": true,
    "tags": []
   },
   "source": [
    "#### Python Pandas Resources"
   ]
  },
  {
   "cell_type": "code",
   "execution_count": null,
   "id": "99b559fe-9b41-46c1-8899-ed0947778e4b",
   "metadata": {},
   "outputs": [],
   "source": []
  },
  {
   "cell_type": "markdown",
   "id": "16b411aa-c3fd-4a89-8187-aeb35e239b98",
   "metadata": {
    "tags": []
   },
   "source": [
    "## Chapter 2.1 Understanding the Dataset"
   ]
  },
  {
   "cell_type": "markdown",
   "id": "1c98d2db-8836-4d7a-a183-795f8aae9569",
   "metadata": {
    "tags": []
   },
   "source": [
    "### The hiPSC Single-Cell Image Dataset\n",
    "Our dataset consists of 3D live-cell images of *normal human induced pluripotent stem cells (hiPSCs)*, which are a useful human cell model system. The dataset includes 25 cell lines representing fluorescently tagged major organelles, cellular structures, and compartments. Images of these cells were obtained in 3D using spinning-disk confocal microscopes and were further processed using deep learning-based segmentation. For the Purpose of this hackathon this Dataset has been filtered down to 214037 cells.\n",
    "\n",
    "<img src=\"resources/hipsc_single_cell_image_dataset_summary.png\"/>"
   ]
  },
  {
   "cell_type": "markdown",
   "id": "8773a167-41b2-41bf-8c81-d1974bc968d1",
   "metadata": {},
   "source": [
    "### From FOVs to single-cell images\n",
    "The hiPSC Single-Cell Image dataset consists of **215,081** single-cell images which were extracted from **18,100** fields of view (FOVs) of our cell colonies. Each row of the dataframe represents a cell, while the columns contain metadata, metrics, imaging data, etc..."
   ]
  },
  {
   "cell_type": "code",
   "execution_count": 7,
   "id": "663fa85e-3b07-4c7a-9303-eea41af9a6ca",
   "metadata": {},
   "outputs": [],
   "source": [
    "# Breif Pre-Processing Description"
   ]
  },
  {
   "cell_type": "code",
   "execution_count": null,
   "id": "fb4703ad-2671-4991-b2d9-9b20f3356809",
   "metadata": {},
   "outputs": [],
   "source": [
    "# Some Visualizations of the dataset"
   ]
  },
  {
   "cell_type": "markdown",
   "id": "f98e656b-c1b0-404e-b591-2b90111e31dd",
   "metadata": {
    "tags": []
   },
   "source": [
    "## Chapter 2.2 Sub-Datasets"
   ]
  },
  {
   "cell_type": "markdown",
   "id": "b460331d-7cbc-4f54-ba46-60e3797aac7f",
   "metadata": {
    "tags": []
   },
   "source": [
    "### Dataset Catagories\n",
    "\n",
    "The dataset columns have been broken down into 4 Catagories [`cell metadata`, `field-of-view metadata`,`cell metrics`,`cell images`]. These catagories are recognized as a secondary header."
   ]
  },
  {
   "cell_type": "code",
   "execution_count": 4,
   "id": "3983e611-b236-4dd4-82f1-42b071f8c11c",
   "metadata": {},
   "outputs": [
    {
     "data": {
      "text/html": [
       "<div>\n",
       "<style scoped>\n",
       "    .dataframe tbody tr th:only-of-type {\n",
       "        vertical-align: middle;\n",
       "    }\n",
       "\n",
       "    .dataframe tbody tr th {\n",
       "        vertical-align: top;\n",
       "    }\n",
       "\n",
       "    .dataframe thead th {\n",
       "        text-align: right;\n",
       "    }\n",
       "</style>\n",
       "<table border=\"1\" class=\"dataframe\">\n",
       "  <thead>\n",
       "    <tr style=\"text-align: right;\">\n",
       "      <th></th>\n",
       "      <th>CellId</th>\n",
       "      <th>roi</th>\n",
       "      <th>crop_raw</th>\n",
       "      <th>crop_seg</th>\n",
       "      <th>name_dict</th>\n",
       "      <th>fov_path</th>\n",
       "      <th>fov_seg_path</th>\n",
       "      <th>struct_seg_path</th>\n",
       "      <th>structure_name</th>\n",
       "      <th>this_cell_nbr_complete</th>\n",
       "      <th>...</th>\n",
       "      <th>max_projection_y</th>\n",
       "      <th>mean_projection_y</th>\n",
       "      <th>median_projection_y</th>\n",
       "      <th>max_projection_x</th>\n",
       "      <th>mean_projection_x</th>\n",
       "      <th>median_projection_x</th>\n",
       "      <th>center_slice</th>\n",
       "      <th>fits_z</th>\n",
       "      <th>fits_y</th>\n",
       "      <th>fits_x</th>\n",
       "    </tr>\n",
       "  </thead>\n",
       "  <tbody>\n",
       "    <tr>\n",
       "      <th>0</th>\n",
       "      <td>230741</td>\n",
       "      <td>[27, 146, 267, 548, 476, 744]</td>\n",
       "      <td>/allen/aics/assay-dev/computational/data/dna_c...</td>\n",
       "      <td>/allen/aics/assay-dev/computational/data/dna_c...</td>\n",
       "      <td>{'crop_raw': ['dna', 'membrane', 'structure'],...</td>\n",
       "      <td>/allen/programs/allencell/data/proj0/df4/7de/f...</td>\n",
       "      <td>/allen/programs/allencell/data/proj0/bf4/d80/8...</td>\n",
       "      <td>/allen/programs/allencell/data/proj0/4c8/d6b/c...</td>\n",
       "      <td>TOMM20</td>\n",
       "      <td>1</td>\n",
       "      <td>...</td>\n",
       "      <td>s3://variance-dataset/max_projection_y/230741....</td>\n",
       "      <td>s3://variance-dataset/mean_projection_y/230741...</td>\n",
       "      <td>s3://variance-dataset/median_projection_y/2307...</td>\n",
       "      <td>s3://variance-dataset/max_projection_x/230741....</td>\n",
       "      <td>s3://variance-dataset/mean_projection_x/230741...</td>\n",
       "      <td>s3://variance-dataset/median_projection_x/2307...</td>\n",
       "      <td>s3://variance-dataset/center_slice/230741.ome....</td>\n",
       "      <td>True</td>\n",
       "      <td>True</td>\n",
       "      <td>True</td>\n",
       "    </tr>\n",
       "    <tr>\n",
       "      <th>1</th>\n",
       "      <td>230745</td>\n",
       "      <td>[27, 132, 124, 412, 443, 755]</td>\n",
       "      <td>/allen/aics/assay-dev/computational/data/dna_c...</td>\n",
       "      <td>/allen/aics/assay-dev/computational/data/dna_c...</td>\n",
       "      <td>{'crop_raw': ['dna', 'membrane', 'structure'],...</td>\n",
       "      <td>/allen/programs/allencell/data/proj0/df4/7de/f...</td>\n",
       "      <td>/allen/programs/allencell/data/proj0/bf4/d80/8...</td>\n",
       "      <td>/allen/programs/allencell/data/proj0/4c8/d6b/c...</td>\n",
       "      <td>TOMM20</td>\n",
       "      <td>1</td>\n",
       "      <td>...</td>\n",
       "      <td>s3://variance-dataset/max_projection_y/230745....</td>\n",
       "      <td>s3://variance-dataset/mean_projection_y/230745...</td>\n",
       "      <td>s3://variance-dataset/median_projection_y/2307...</td>\n",
       "      <td>s3://variance-dataset/max_projection_x/230745....</td>\n",
       "      <td>s3://variance-dataset/mean_projection_x/230745...</td>\n",
       "      <td>s3://variance-dataset/median_projection_x/2307...</td>\n",
       "      <td>s3://variance-dataset/center_slice/230745.ome....</td>\n",
       "      <td>True</td>\n",
       "      <td>True</td>\n",
       "      <td>True</td>\n",
       "    </tr>\n",
       "    <tr>\n",
       "      <th>2</th>\n",
       "      <td>230746</td>\n",
       "      <td>[27, 130, 224, 559, 334, 574]</td>\n",
       "      <td>/allen/aics/assay-dev/computational/data/dna_c...</td>\n",
       "      <td>/allen/aics/assay-dev/computational/data/dna_c...</td>\n",
       "      <td>{'crop_raw': ['dna', 'membrane', 'structure'],...</td>\n",
       "      <td>/allen/programs/allencell/data/proj0/df4/7de/f...</td>\n",
       "      <td>/allen/programs/allencell/data/proj0/bf4/d80/8...</td>\n",
       "      <td>/allen/programs/allencell/data/proj0/4c8/d6b/c...</td>\n",
       "      <td>TOMM20</td>\n",
       "      <td>0</td>\n",
       "      <td>...</td>\n",
       "      <td>s3://variance-dataset/max_projection_y/230746....</td>\n",
       "      <td>s3://variance-dataset/mean_projection_y/230746...</td>\n",
       "      <td>s3://variance-dataset/median_projection_y/2307...</td>\n",
       "      <td>s3://variance-dataset/max_projection_x/230746....</td>\n",
       "      <td>s3://variance-dataset/mean_projection_x/230746...</td>\n",
       "      <td>s3://variance-dataset/median_projection_x/2307...</td>\n",
       "      <td>s3://variance-dataset/center_slice/230746.ome....</td>\n",
       "      <td>True</td>\n",
       "      <td>True</td>\n",
       "      <td>True</td>\n",
       "    </tr>\n",
       "    <tr>\n",
       "      <th>3</th>\n",
       "      <td>230748</td>\n",
       "      <td>[27, 138, 287, 577, 386, 614]</td>\n",
       "      <td>/allen/aics/assay-dev/computational/data/dna_c...</td>\n",
       "      <td>/allen/aics/assay-dev/computational/data/dna_c...</td>\n",
       "      <td>{'crop_raw': ['dna', 'membrane', 'structure'],...</td>\n",
       "      <td>/allen/programs/allencell/data/proj0/df4/7de/f...</td>\n",
       "      <td>/allen/programs/allencell/data/proj0/bf4/d80/8...</td>\n",
       "      <td>/allen/programs/allencell/data/proj0/4c8/d6b/c...</td>\n",
       "      <td>TOMM20</td>\n",
       "      <td>0</td>\n",
       "      <td>...</td>\n",
       "      <td>s3://variance-dataset/max_projection_y/230748....</td>\n",
       "      <td>s3://variance-dataset/mean_projection_y/230748...</td>\n",
       "      <td>s3://variance-dataset/median_projection_y/2307...</td>\n",
       "      <td>s3://variance-dataset/max_projection_x/230748....</td>\n",
       "      <td>s3://variance-dataset/mean_projection_x/230748...</td>\n",
       "      <td>s3://variance-dataset/median_projection_x/2307...</td>\n",
       "      <td>s3://variance-dataset/center_slice/230748.ome....</td>\n",
       "      <td>True</td>\n",
       "      <td>True</td>\n",
       "      <td>True</td>\n",
       "    </tr>\n",
       "    <tr>\n",
       "      <th>4</th>\n",
       "      <td>230754</td>\n",
       "      <td>[27, 141, 11, 227, 502, 808]</td>\n",
       "      <td>/allen/aics/assay-dev/computational/data/dna_c...</td>\n",
       "      <td>/allen/aics/assay-dev/computational/data/dna_c...</td>\n",
       "      <td>{'crop_raw': ['dna', 'membrane', 'structure'],...</td>\n",
       "      <td>/allen/programs/allencell/data/proj0/df4/7de/f...</td>\n",
       "      <td>/allen/programs/allencell/data/proj0/bf4/d80/8...</td>\n",
       "      <td>/allen/programs/allencell/data/proj0/4c8/d6b/c...</td>\n",
       "      <td>TOMM20</td>\n",
       "      <td>0</td>\n",
       "      <td>...</td>\n",
       "      <td>s3://variance-dataset/max_projection_y/230754....</td>\n",
       "      <td>s3://variance-dataset/mean_projection_y/230754...</td>\n",
       "      <td>s3://variance-dataset/median_projection_y/2307...</td>\n",
       "      <td>s3://variance-dataset/max_projection_x/230754....</td>\n",
       "      <td>s3://variance-dataset/mean_projection_x/230754...</td>\n",
       "      <td>s3://variance-dataset/median_projection_x/2307...</td>\n",
       "      <td>s3://variance-dataset/center_slice/230754.ome....</td>\n",
       "      <td>True</td>\n",
       "      <td>True</td>\n",
       "      <td>True</td>\n",
       "    </tr>\n",
       "  </tbody>\n",
       "</table>\n",
       "<p>5 rows × 1242 columns</p>\n",
       "</div>"
      ],
      "text/plain": [
       "   CellId                            roi  \\\n",
       "0  230741  [27, 146, 267, 548, 476, 744]   \n",
       "1  230745  [27, 132, 124, 412, 443, 755]   \n",
       "2  230746  [27, 130, 224, 559, 334, 574]   \n",
       "3  230748  [27, 138, 287, 577, 386, 614]   \n",
       "4  230754   [27, 141, 11, 227, 502, 808]   \n",
       "\n",
       "                                            crop_raw  \\\n",
       "0  /allen/aics/assay-dev/computational/data/dna_c...   \n",
       "1  /allen/aics/assay-dev/computational/data/dna_c...   \n",
       "2  /allen/aics/assay-dev/computational/data/dna_c...   \n",
       "3  /allen/aics/assay-dev/computational/data/dna_c...   \n",
       "4  /allen/aics/assay-dev/computational/data/dna_c...   \n",
       "\n",
       "                                            crop_seg  \\\n",
       "0  /allen/aics/assay-dev/computational/data/dna_c...   \n",
       "1  /allen/aics/assay-dev/computational/data/dna_c...   \n",
       "2  /allen/aics/assay-dev/computational/data/dna_c...   \n",
       "3  /allen/aics/assay-dev/computational/data/dna_c...   \n",
       "4  /allen/aics/assay-dev/computational/data/dna_c...   \n",
       "\n",
       "                                           name_dict  \\\n",
       "0  {'crop_raw': ['dna', 'membrane', 'structure'],...   \n",
       "1  {'crop_raw': ['dna', 'membrane', 'structure'],...   \n",
       "2  {'crop_raw': ['dna', 'membrane', 'structure'],...   \n",
       "3  {'crop_raw': ['dna', 'membrane', 'structure'],...   \n",
       "4  {'crop_raw': ['dna', 'membrane', 'structure'],...   \n",
       "\n",
       "                                            fov_path  \\\n",
       "0  /allen/programs/allencell/data/proj0/df4/7de/f...   \n",
       "1  /allen/programs/allencell/data/proj0/df4/7de/f...   \n",
       "2  /allen/programs/allencell/data/proj0/df4/7de/f...   \n",
       "3  /allen/programs/allencell/data/proj0/df4/7de/f...   \n",
       "4  /allen/programs/allencell/data/proj0/df4/7de/f...   \n",
       "\n",
       "                                        fov_seg_path  \\\n",
       "0  /allen/programs/allencell/data/proj0/bf4/d80/8...   \n",
       "1  /allen/programs/allencell/data/proj0/bf4/d80/8...   \n",
       "2  /allen/programs/allencell/data/proj0/bf4/d80/8...   \n",
       "3  /allen/programs/allencell/data/proj0/bf4/d80/8...   \n",
       "4  /allen/programs/allencell/data/proj0/bf4/d80/8...   \n",
       "\n",
       "                                     struct_seg_path structure_name  \\\n",
       "0  /allen/programs/allencell/data/proj0/4c8/d6b/c...         TOMM20   \n",
       "1  /allen/programs/allencell/data/proj0/4c8/d6b/c...         TOMM20   \n",
       "2  /allen/programs/allencell/data/proj0/4c8/d6b/c...         TOMM20   \n",
       "3  /allen/programs/allencell/data/proj0/4c8/d6b/c...         TOMM20   \n",
       "4  /allen/programs/allencell/data/proj0/4c8/d6b/c...         TOMM20   \n",
       "\n",
       "   this_cell_nbr_complete  ...  \\\n",
       "0                       1  ...   \n",
       "1                       1  ...   \n",
       "2                       0  ...   \n",
       "3                       0  ...   \n",
       "4                       0  ...   \n",
       "\n",
       "                                    max_projection_y  \\\n",
       "0  s3://variance-dataset/max_projection_y/230741....   \n",
       "1  s3://variance-dataset/max_projection_y/230745....   \n",
       "2  s3://variance-dataset/max_projection_y/230746....   \n",
       "3  s3://variance-dataset/max_projection_y/230748....   \n",
       "4  s3://variance-dataset/max_projection_y/230754....   \n",
       "\n",
       "                                   mean_projection_y  \\\n",
       "0  s3://variance-dataset/mean_projection_y/230741...   \n",
       "1  s3://variance-dataset/mean_projection_y/230745...   \n",
       "2  s3://variance-dataset/mean_projection_y/230746...   \n",
       "3  s3://variance-dataset/mean_projection_y/230748...   \n",
       "4  s3://variance-dataset/mean_projection_y/230754...   \n",
       "\n",
       "                                 median_projection_y  \\\n",
       "0  s3://variance-dataset/median_projection_y/2307...   \n",
       "1  s3://variance-dataset/median_projection_y/2307...   \n",
       "2  s3://variance-dataset/median_projection_y/2307...   \n",
       "3  s3://variance-dataset/median_projection_y/2307...   \n",
       "4  s3://variance-dataset/median_projection_y/2307...   \n",
       "\n",
       "                                    max_projection_x  \\\n",
       "0  s3://variance-dataset/max_projection_x/230741....   \n",
       "1  s3://variance-dataset/max_projection_x/230745....   \n",
       "2  s3://variance-dataset/max_projection_x/230746....   \n",
       "3  s3://variance-dataset/max_projection_x/230748....   \n",
       "4  s3://variance-dataset/max_projection_x/230754....   \n",
       "\n",
       "                                   mean_projection_x  \\\n",
       "0  s3://variance-dataset/mean_projection_x/230741...   \n",
       "1  s3://variance-dataset/mean_projection_x/230745...   \n",
       "2  s3://variance-dataset/mean_projection_x/230746...   \n",
       "3  s3://variance-dataset/mean_projection_x/230748...   \n",
       "4  s3://variance-dataset/mean_projection_x/230754...   \n",
       "\n",
       "                                 median_projection_x  \\\n",
       "0  s3://variance-dataset/median_projection_x/2307...   \n",
       "1  s3://variance-dataset/median_projection_x/2307...   \n",
       "2  s3://variance-dataset/median_projection_x/2307...   \n",
       "3  s3://variance-dataset/median_projection_x/2307...   \n",
       "4  s3://variance-dataset/median_projection_x/2307...   \n",
       "\n",
       "                                        center_slice fits_z fits_y fits_x  \n",
       "0  s3://variance-dataset/center_slice/230741.ome....   True   True   True  \n",
       "1  s3://variance-dataset/center_slice/230745.ome....   True   True   True  \n",
       "2  s3://variance-dataset/center_slice/230746.ome....   True   True   True  \n",
       "3  s3://variance-dataset/center_slice/230748.ome....   True   True   True  \n",
       "4  s3://variance-dataset/center_slice/230754.ome....   True   True   True  \n",
       "\n",
       "[5 rows x 1242 columns]"
      ]
     },
     "execution_count": 4,
     "metadata": {},
     "output_type": "execute_result"
    }
   ],
   "source": [
    "df.head()"
   ]
  },
  {
   "cell_type": "markdown",
   "id": "4c9215f3-b8b6-42f6-99cc-0a57b6af44d4",
   "metadata": {
    "tags": []
   },
   "source": [
    "### Creating Sub-Datasets"
   ]
  },
  {
   "cell_type": "code",
   "execution_count": null,
   "id": "74d1315e-5127-4710-970d-08b68231547a",
   "metadata": {},
   "outputs": [],
   "source": [
    "# By Catagory"
   ]
  },
  {
   "cell_type": "code",
   "execution_count": null,
   "id": "fbc49d0a-ceb0-4cd1-960b-f538b2c84160",
   "metadata": {},
   "outputs": [],
   "source": [
    "# By Columns"
   ]
  },
  {
   "cell_type": "markdown",
   "id": "f4de8f6d-afca-4e54-b3d2-136672ec0aea",
   "metadata": {
    "tags": []
   },
   "source": [
    "## Chapter 2.3 Interacting with the Dataset"
   ]
  },
  {
   "cell_type": "code",
   "execution_count": null,
   "id": "2d5d4d40-df25-4aea-9a66-8eafc16f2af8",
   "metadata": {},
   "outputs": [],
   "source": [
    "# Querying"
   ]
  },
  {
   "cell_type": "code",
   "execution_count": 6,
   "id": "989e844b-7429-4940-890f-d21693e7687b",
   "metadata": {},
   "outputs": [],
   "source": [
    "# Grouping"
   ]
  },
  {
   "cell_type": "markdown",
   "id": "1adff68b-01a7-4d09-9a80-18bd7126f75c",
   "metadata": {
    "tags": []
   },
   "source": [
    "## Chapter 2.4 Column Descriptions\n",
    "\n",
    "\n",
    "The dataset contains over 1200 columns with important metrics which you may want to incorporate during the challenge. We have filtered this list of columns to 87 of which we think will be important to your efforts. In this section we'll create a tiny dash app that runs within the notebook in order to display an interactive table of the columns and their descriptions. **The table is searchable** lending itself to more efficient querying."
   ]
  },
  {
   "cell_type": "code",
   "execution_count": 8,
   "id": "4bf576a8-3152-4b29-89bb-7292e63c34aa",
   "metadata": {},
   "outputs": [
    {
     "ename": "ModuleNotFoundError",
     "evalue": "No module named 'jupyter_dash'",
     "output_type": "error",
     "traceback": [
      "\u001b[0;31m---------------------------------------------------------------------------\u001b[0m",
      "\u001b[0;31mModuleNotFoundError\u001b[0m                       Traceback (most recent call last)",
      "Input \u001b[0;32mIn [8]\u001b[0m, in \u001b[0;36m<cell line: 1>\u001b[0;34m()\u001b[0m\n\u001b[0;32m----> 1\u001b[0m \u001b[38;5;28;01mfrom\u001b[39;00m \u001b[38;5;21;01mjupyter_dash\u001b[39;00m \u001b[38;5;28;01mimport\u001b[39;00m JupyterDash\n\u001b[1;32m      2\u001b[0m \u001b[38;5;28;01mimport\u001b[39;00m \u001b[38;5;21;01mdash\u001b[39;00m\n\u001b[1;32m      3\u001b[0m \u001b[38;5;28;01mfrom\u001b[39;00m \u001b[38;5;21;01mdash\u001b[39;00m \u001b[38;5;28;01mimport\u001b[39;00m dcc\n",
      "\u001b[0;31mModuleNotFoundError\u001b[0m: No module named 'jupyter_dash'"
     ]
    }
   ],
   "source": [
    "from jupyter_dash import JupyterDash\n",
    "import dash\n",
    "from dash import dcc\n",
    "from dash import html\n",
    "JupyterDash.infer_jupyter_proxy_config()"
   ]
  },
  {
   "cell_type": "code",
   "execution_count": null,
   "id": "d1e88154-07ab-4eff-9636-4a2fef981fc8",
   "metadata": {},
   "outputs": [],
   "source": [
    "col_df = pd.read_csv(\"resources/colname_test.csv\",delimiter=\":\",header=None)\n",
    "col_df.columns = [\"column name\",\"description\"]"
   ]
  },
  {
   "cell_type": "code",
   "execution_count": 5,
   "id": "4268882e-3255-4b00-bcba-4eadb49d3fd5",
   "metadata": {},
   "outputs": [],
   "source": [
    "# Some sort of Look up method built in for looking at column definitions \n",
    "from dash import dash_table\n",
    "app = JupyterDash(__name__)\n",
    "server = app.server\n",
    "\n",
    "app.layout = dash_table.DataTable(\n",
    "    col_df.to_dict('records'), \n",
    "    [{\"name\": i, \"id\": i} for i in col_df.columns],\n",
    "    style_data={\n",
    "        'whiteSpace':'normal',\n",
    "        'height': 'auto',\n",
    "        'lineHeight':'15px',\n",
    "        'backgroundColor': 'rgb(50,50,50)',\n",
    "        'color': 'white',\n",
    "    },\n",
    "    style_header={\n",
    "        'backgroundColor':'rgb(30,30,30)',\n",
    "        'color':'white'\n",
    "    },  \n",
    "    style_cell={\n",
    "        'textAlign':'left'\n",
    "    },\n",
    "    filter_action=\"native\",\n",
    ")\n"
   ]
  },
  {
   "cell_type": "code",
   "execution_count": null,
   "id": "ad3389b0-0f14-45a2-8675-d56df48985b3",
   "metadata": {},
   "outputs": [],
   "source": [
    "app.run_server(mode=\"inline\", port=8588,) # This runs on a specified port. Either enable port forwarding on your maching. #TODO work with Gui to enable this directly from the app rather than port forwarding. "
   ]
  }
 ],
 "metadata": {
  "kernelspec": {
   "display_name": "Python 3 (ipykernel)",
   "language": "python",
   "name": "python3"
  },
  "language_info": {
   "codemirror_mode": {
    "name": "ipython",
    "version": 3
   },
   "file_extension": ".py",
   "mimetype": "text/x-python",
   "name": "python",
   "nbconvert_exporter": "python",
   "pygments_lexer": "ipython3",
   "version": "3.9.13"
  }
 },
 "nbformat": 4,
 "nbformat_minor": 5
}
