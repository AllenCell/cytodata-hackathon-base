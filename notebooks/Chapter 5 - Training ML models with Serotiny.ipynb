{
 "cells": [
  {
   "cell_type": "markdown",
   "id": "26bed1c8-fc44-4369-b188-4170a5b9e017",
   "metadata": {},
   "source": [
    "Chapter 5: Training ML models with Serotiny\n",
    "Suggested: Alex, Gui\n",
    "- Quick explanation of serotiny’s yaml-based task formulation\n",
    "- Show how one can start a simple training based on 2D images to classify, e.g. edge vs. non-edge cells\n",
    "- Show how one can load and apply the trained model\n",
    "- Show how to bring in a pretrained model (2D RESNET)\n",
    "- Show that we can use the latent space from 3D images (which has been precomputed and stored)\n",
    "\n"
   ]
  },
  {
   "cell_type": "code",
   "execution_count": 13,
   "id": "43473233-c3d4-4d95-be6f-bc93c511fcdd",
   "metadata": {
    "tags": []
   },
   "outputs": [],
   "source": [
    "import warnings\n",
    "import pandas as pd\n",
    "import numpy as np\n",
    "import matplotlib.pyplot as plt\n",
    "import seaborn as sns\n",
    "import nbvv\n",
    "from upath import UPath as Path\n",
    "from aicsimageio import AICSImage\n",
    "from ome_zarr.reader import Reader\n",
    "from ome_zarr.io import parse_url\n",
    "import logging\n",
    "logging.getLogger(\"bfio\").setLevel(logging.ERROR)\n",
    "logging.getLogger(\"aicsimageio\").setLevel(logging.ERROR)\n",
    "\n",
    "\n",
    "# Should these functions not be \n",
    "\n",
    "def read_ome_zarr(path, level=0, image_name=\"default\"):\n",
    "    path = str(path if image_name is None else Path(path) / image_name)\n",
    "    reader = Reader(parse_url(path))\n",
    "\n",
    "    node = next(iter(reader()))\n",
    "    pps = node.metadata[\"coordinateTransformations\"][0][0][\"scale\"][-3:]\n",
    "   \n",
    "    return AICSImage(\n",
    "        node.data[level].compute(),\n",
    "        channel_names=node.metadata[\"name\"],\n",
    "        physical_pixel_sizes=pps\n",
    "    )\n",
    "\n",
    "def rescale_image(img_data, channels):\n",
    "    img_data = img_data.squeeze().astype(np.float32)\n",
    "    \n",
    "    for ix, channel in enumerate(channels):\n",
    "        if \"_seg\" not in channel:\n",
    "            img_data[ix] -= 1\n",
    "            \n",
    "            img_data[ix] = np.where(\n",
    "                img_data[ix] >= 0,\n",
    "                img_data[ix] / img_data.max(),\n",
    "                -1\n",
    "            )\n",
    "    return img_data.astype(np.float16)"
   ]
  },
  {
   "cell_type": "markdown",
   "id": "7f337331-424d-4139-b2e8-06958c139950",
   "metadata": {},
   "source": [
    "## Load the manifest and explore dimensions"
   ]
  },
  {
   "cell_type": "code",
   "execution_count": 16,
   "id": "e619ed29-e90a-4669-b212-302b75a4371c",
   "metadata": {},
   "outputs": [
    {
     "name": "stdout",
     "output_type": "stream",
     "text": [
      "Number of cells: 215081\n",
      "Number of columns: 1242\n"
     ]
    }
   ],
   "source": [
    "cells_df = pd.read_parquet(\"s3://variance-dataset/processed/manifest.parquet\")\n",
    "print(f'Number of cells: {len(cells_df)}')\n",
    "print(f'Number of columns: {len(cells_df.columns)}')"
   ]
  },
  {
   "cell_type": "markdown",
   "id": "7c96afa7-d31c-4f67-9f76-0736439342eb",
   "metadata": {
    "tags": []
   },
   "source": [
    "## Make a simple data of edge vs. non-edge cells"
   ]
  },
  {
   "cell_type": "code",
   "execution_count": 29,
   "id": "137c8837-2b7c-408c-af79-bd2b12798e84",
   "metadata": {},
   "outputs": [
    {
     "name": "stderr",
     "output_type": "stream",
     "text": [
      "/tmp/ipykernel_3006/2312792999.py:7: FutureWarning: The default dtype for empty Series will be 'object' instead of 'float64' in a future version. Specify a dtype explicitly to silence this warning.\n",
      "  index = pd.Series([])\n",
      "/tmp/ipykernel_3006/2312792999.py:9: FutureWarning: The series.append method is deprecated and will be removed from pandas in a future version. Use pandas.concat instead.\n",
      "  index = index.append(\n",
      "/tmp/ipykernel_3006/2312792999.py:9: FutureWarning: The series.append method is deprecated and will be removed from pandas in a future version. Use pandas.concat instead.\n",
      "  index = index.append(\n"
     ]
    },
    {
     "name": "stdout",
     "output_type": "stream",
     "text": [
      "Number of cells: 2000\n",
      "Number of columns: 1243\n"
     ]
    }
   ],
   "source": [
    "from serotiny.transforms.dataframe.transforms import split_dataframe\n",
    "Path('./serotiny_data/').mkdir(parents=True, exist_ok=True)\n",
    "\n",
    "n = 1000 #number of cells per class\n",
    "# Sample cells for each class\n",
    "edge_label = cells_df[\"edge_flag\"].unique()\n",
    "index = pd.Series([])\n",
    "for s, struct in enumerate(edge_label):\n",
    "    index = index.append(\n",
    "        cells_df[cells_df[\"edge_flag\"] == s]\n",
    "        .sample(n=n)\n",
    "        .index.to_series()\n",
    "    )\n",
    "cells_edgeVSnoedge = cells_df.loc[index]\n",
    "# Add the train, test and validate split\n",
    "cells_edgeVSnoedge = split_dataframe(dataframe=cells_edgeVSnoedge,train_frac=0.7,val_frac=0.2,return_splits=False)\n",
    "#\n",
    "cells_edgeVSnoedge.to_csv('./serotiny_data/cells_edgeVSnoedge.csv') \n",
    "print(f'Number of cells: {len(cells_edgeVSnoedge)}')\n",
    "print(f'Number of columns: {len(cells_edgeVSnoedge.columns)}')\n",
    "\n"
   ]
  },
  {
   "cell_type": "markdown",
   "id": "2afb1e3b-400a-447f-a082-73a434164aaf",
   "metadata": {},
   "source": [
    "https://allencell.github.io/serotiny/getting_started.html\n",
    "Using the cookiecutter to create a serotiny project"
   ]
  },
  {
   "cell_type": "code",
   "execution_count": 11,
   "id": "cf6dc508-63df-449a-8a79-d6012046d2ba",
   "metadata": {},
   "outputs": [],
   "source": [
    "!pip install cookiecutter | grep -v 'already satisfied' #avoid warnings"
   ]
  },
  {
   "cell_type": "code",
   "execution_count": null,
   "id": "ff5aadbb-82d3-4c00-915e-3ec57cfa22b3",
   "metadata": {},
   "outputs": [],
   "source": [
    "# !cookiecutter https://github.com/AllenCellModeling/serotiny-project-cookiecutter ran this in the terminal"
   ]
  },
  {
   "cell_type": "code",
   "execution_count": 12,
   "id": "1177cb03-9a0c-4e18-bbd3-4cedf3b3af7f",
   "metadata": {},
   "outputs": [
    {
     "name": "stdout",
     "output_type": "stream",
     "text": [
      "Obtaining file:///home/aicsuser/cytodata-hackathon-base/notebooks/ch5_attempt1\n",
      "  Installing build dependencies: started\n",
      "  Installing build dependencies: finished with status 'done'\n",
      "  Checking if build backend supports build_editable: started\n",
      "  Checking if build backend supports build_editable: finished with status 'done'\n",
      "  Getting requirements to build editable: started\n",
      "  Getting requirements to build editable: finished with status 'done'\n",
      "  Preparing editable metadata (pyproject.toml): started\n",
      "  Preparing editable metadata (pyproject.toml): finished with status 'done'\n",
      "Building wheels for collected packages: ch5-attempt1\n",
      "  Building editable for ch5-attempt1 (pyproject.toml): started\n",
      "  Building editable for ch5-attempt1 (pyproject.toml): finished with status 'done'\n",
      "  Created wheel for ch5-attempt1: filename=ch5_attempt1-0.0.0-py3-none-any.whl size=1405 sha256=4b7629a0c33122ea34b31f5b4d531bbde871f5fc00946050363d2bbf8634b237\n",
      "  Stored in directory: /tmp/pip-ephem-wheel-cache-0wa_uwbc/wheels/3e/62/f7/f13b52bb2a4764d3dc44abce459c034c4fdc2fd0a2658e66de\n",
      "Successfully built ch5-attempt1\n",
      "Installing collected packages: ch5-attempt1\n",
      "  Attempting uninstall: ch5-attempt1\n",
      "    Found existing installation: ch5-attempt1 0.0.0\n",
      "    Uninstalling ch5-attempt1-0.0.0:\n",
      "      Successfully uninstalled ch5-attempt1-0.0.0\n",
      "Successfully installed ch5-attempt1-0.0.0\n"
     ]
    }
   ],
   "source": [
    "!pip install -e ch5_attempt1/ | grep -v 'already satisfied' #avoid warnings"
   ]
  },
  {
   "cell_type": "code",
   "execution_count": null,
   "id": "e112ae66-d284-4ab1-8a2f-b2d34efbebe5",
   "metadata": {},
   "outputs": [],
   "source": []
  }
 ],
 "metadata": {
  "kernelspec": {
   "display_name": "Python 3 (ipykernel)",
   "language": "python",
   "name": "python3"
  },
  "language_info": {
   "codemirror_mode": {
    "name": "ipython",
    "version": 3
   },
   "file_extension": ".py",
   "mimetype": "text/x-python",
   "name": "python",
   "nbconvert_exporter": "python",
   "pygments_lexer": "ipython3",
   "version": "3.9.13"
  }
 },
 "nbformat": 4,
 "nbformat_minor": 5
}
