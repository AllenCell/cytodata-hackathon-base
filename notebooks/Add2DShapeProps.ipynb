{
 "cells": [
  {
   "cell_type": "code",
   "execution_count": null,
   "id": "653b6b27-18d8-4fcd-944d-0fce4de102e5",
   "metadata": {},
   "outputs": [],
   "source": [
    "import pandas\n",
    "import skimage.exposure\n",
    "import numpy\n",
    "import mahotas\n",
    "from aicsimageprocessing import read_ome_zarr\n",
    "from aicsimageio import AICSImage"
   ]
  },
  {
   "cell_type": "code",
   "execution_count": null,
   "id": "dfa6509c-f489-4d4a-8266-1aa1583cd948",
   "metadata": {},
   "outputs": [],
   "source": [
    "def add_2D_shapes(csvname):\n",
    "\n",
    "    def measure_2D_shapes(full_image,ProjType,feature_dict):\n",
    "        # Channels 1,2,3 are dna, mem, structure intensities\n",
    "        # Channels 4,5,6 are dna, mem, structure segmentations\n",
    "        #channels = {0:'Brightfield',1:'DNA',2:'Membrane',3:'Structure'}\n",
    "        compartments = {4:'Nucleus',5:'Cell',6:'Organelle'}\n",
    "        features = {}\n",
    "        desired_properties = [\"label\",\"area\",\"perimeter\",\"bbox\",\"bbox_area\",\"major_axis_length\",\n",
    "                \"minor_axis_length\",\"orientation\",\"centroid\",\"equivalent_diameter\",\"extent\",\n",
    "                \"eccentricity\",\"convex_area\",\"solidity\",\"euler_number\",\"moments\",\"moments_central\",\n",
    "                \"moments_normalized\"]\n",
    "        for eachcomp in compartments.keys():\n",
    "            labels = skimage.measure.label(full_image[0,eachcomp,0,:,:])\n",
    "            starting_props = [\"area\",\"perimeter\",\"major_axis_length\",\"minor_axis_length\",\"eccentricity\",\"orientation\",\"centroid-1\",\"centroid-0\",\n",
    "             \"bbox_area\",\"bbox-1\",\"bbox-3\",\"bbox-0\",\"bbox-2\",\"extent\",\"solidity\",\"euler_number\",\"convex_area\",\n",
    "             \"equivalent_diameter\"]\n",
    "            for x in range(4):\n",
    "                for y in range(4):\n",
    "                    starting_props.append(f\"moments_normalized-{x}-{y}\")\n",
    "                    if x!= 3:\n",
    "                        starting_props.append(f\"moments_central-{x}-{y}\")\n",
    "            props=skimage.measure.regionprops_table(labels,properties=desired_properties)\n",
    "            for feature_name in starting_props:\n",
    "                object_name = \"Shape_2D_{:}_{:}_{:}\".format(compartments[eachcomp],ProjType, feature_name)\n",
    "                if len(props[feature_name])==0:\n",
    "                    feature_dict[object_name].append(numpy.nan)\n",
    "                elif len(props[feature_name])==1:\n",
    "                    feature_dict[object_name].append(float(props[feature_name]))\n",
    "                else:\n",
    "                    feature_dict[object_name].append(float(numpy.mean(props[feature_name])))\n",
    "        return feature_dict\n",
    "\n",
    "    cols2D = ['max_projection_x','max_projection_y','max_projection_z','mean_projection_x','mean_projection_y','mean_projection_z','center_slice',]\n",
    "    #cols2D = ['max_projection_x']\n",
    "    feature_dict={}\n",
    "    starting_props = [\"area\",\"perimeter\",\"major_axis_length\",\"minor_axis_length\",\"eccentricity\",\"orientation\",\"centroid-1\",\"centroid-0\",\n",
    "     \"bbox_area\",\"bbox-1\",\"bbox-3\",\"bbox-0\",\"bbox-2\",\"extent\",\"solidity\",\"euler_number\",\"convex_area\",\n",
    "     \"equivalent_diameter\"]\n",
    "    for x in range(4):\n",
    "        for y in range(4):\n",
    "            starting_props.append(f\"moments_normalized-{x}-{y}\")\n",
    "            if x!= 3:\n",
    "                starting_props.append(f\"moments_central-{x}-{y}\")\n",
    "                starting_props.append(f\"moments_central-{x}-{y}\")\n",
    "    compartments = {4:'Nucleus',5:'Cell',6:'Organelle'}\n",
    "    for eachcomp in compartments.keys():\n",
    "        for feature_name in starting_props:\n",
    "            for ProjType in cols2D:\n",
    "                object_name = \"Shape_2D_{:}_{:}_{:}\".format(compartments[eachcomp],ProjType, feature_name)\n",
    "                feature_dict[object_name]=[]\n",
    "    \n",
    "    df = pandas.read_csv(csvname)\n",
    "    for _, eachrow in df.iterrows():\n",
    "        for ProjType in cols2D:\n",
    "            im = AICSImage(eachrow[ProjType]).data\n",
    "            feature_dict = measure_2D_shapes(im,ProjType,feature_dict)\n",
    "    import json\n",
    "    with open(\"shape.json\"\"w\") as outfile:\n",
    "        json.dump(feature_dict, outfile)\n",
    "    df = pandas.concat([df,pandas.DataFrame(feature_dict)],axis=1)\n",
    "    df.to_csv(csvname,index=False)"
   ]
  },
  {
   "cell_type": "code",
   "execution_count": null,
   "id": "b8f31ba0-2c0f-4684-9e2d-ace4b589aa57",
   "metadata": {},
   "outputs": [],
   "source": [
    "add_2D_shapes('../data/mitocells_truncated.csv')"
   ]
  },
  {
   "cell_type": "code",
   "execution_count": null,
   "id": "39fb5829-d760-4990-86fa-2b7497c6196a",
   "metadata": {},
   "outputs": [],
   "source": []
  }
 ],
 "metadata": {
  "kernelspec": {
   "display_name": "Python 3 (ipykernel)",
   "language": "python",
   "name": "python3"
  },
  "language_info": {
   "codemirror_mode": {
    "name": "ipython",
    "version": 3
   },
   "file_extension": ".py",
   "mimetype": "text/x-python",
   "name": "python",
   "nbconvert_exporter": "python",
   "pygments_lexer": "ipython3",
   "version": "3.10.6"
  }
 },
 "nbformat": 4,
 "nbformat_minor": 5
}
