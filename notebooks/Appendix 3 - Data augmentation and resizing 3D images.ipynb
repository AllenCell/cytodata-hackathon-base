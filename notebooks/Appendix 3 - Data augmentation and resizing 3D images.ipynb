{
 "cells": [
  {
   "cell_type": "markdown",
   "id": "26bed1c8-fc44-4369-b188-4170a5b9e017",
   "metadata": {
    "tags": []
   },
   "source": [
    "# Appendix 3 - Data augmentation and resizing 3D images\n",
    "**Estimated time to run through notebook is 20 minutes** \n",
    "\n",
    "This notebook shows how to\n",
    "-  [Load libraries, predefine some functions, load the manifest, and make a dataset](#preprocessing)\n",
    "-  [Configuring serotiny](#config)\n",
    "-  [Resize images for 3D training](#train3D)\n",
    "-  [Conclusion](#end)"
   ]
  },
  {
   "cell_type": "markdown",
   "id": "88af942f-9677-4d14-8435-4e9b957c77fe",
   "metadata": {
    "jp-MarkdownHeadingCollapsed": true,
    "tags": []
   },
   "source": [
    "#### Resources \n",
    "- Serotiny code: https://github.com/AllenCell/serotiny\n",
    "- Serotiny documentation: https://allencell.github.io/serotiny\n",
    "- Hydra for configurability https://hydra.cc/\n",
    "- MLFlow for experiment tracking https://mlflow.org/\n",
    "- Pytorch Lightning for DL training/testing/predictions https://pytorchlightning.ai/"
   ]
  },
  {
   "cell_type": "markdown",
   "id": "a358f163-99ee-4499-a22d-5435ed82ca09",
   "metadata": {
    "tags": []
   },
   "source": [
    "## <a id='preprocessing'></a>Load libraries, predefine some functions, load the manifest, and make a dataset \n"
   ]
  },
  {
   "cell_type": "markdown",
   "id": "e89c2d81-b881-4e35-8dc6-1ee0601ae810",
   "metadata": {
    "tags": []
   },
   "source": [
    "### Load libraries and predefined functions"
   ]
  },
  {
   "cell_type": "code",
   "execution_count": null,
   "id": "67c64fb0-0d8f-418f-ba71-8d4c6c0ef01a",
   "metadata": {
    "tags": []
   },
   "outputs": [],
   "source": [
    "from upath import UPath as Path\n",
    "import pandas as pd\n",
    "import numpy as np\n",
    "import matplotlib.pyplot as plt\n",
    "import seaborn as sns\n",
    "import nbvv\n",
    "\n",
    "from serotiny.io.image import image_loader\n",
    "from cytodata_aics.io_utils import rescale_image"
   ]
  },
  {
   "cell_type": "markdown",
   "id": "c71bf68c-4d83-416b-a832-ffde659ec89b",
   "metadata": {
    "tags": []
   },
   "source": [
    "### Load the manifest and explore dimensions"
   ]
  },
  {
   "cell_type": "code",
   "execution_count": null,
   "id": "6146df3c-d6e2-45f1-a27e-3619ed42943d",
   "metadata": {
    "tags": []
   },
   "outputs": [],
   "source": [
    "df = pd.read_parquet(\"s3://allencell-cytodata-variance-data/processed/hackathon_manifest_092022.parquet\")\n",
    "print(f'Number of cells: {len(df)}')\n",
    "print(f'Number of columns: {len(df.columns)}')"
   ]
  },
  {
   "cell_type": "markdown",
   "id": "479ac9a5-b898-4115-ae11-386717a5e95e",
   "metadata": {
    "tags": []
   },
   "source": [
    "### Make a simple dataset of edge vs. non-edge cells"
   ]
  },
  {
   "cell_type": "code",
   "execution_count": null,
   "id": "b4783106-e55d-4f77-b646-6ec5540bd783",
   "metadata": {},
   "outputs": [],
   "source": [
    "from serotiny.transforms.dataframe.transforms import split_dataframe\n",
    "\n",
    "Path(\"/home/aicsuser/serotiny_data/\").mkdir(parents=True, exist_ok=True)\n",
    "\n",
    "n = 1000 # number of cells per class\n",
    "cells_edgeVSnoedge = df.groupby(\"edge_flag\").sample(n)\n",
    "\n",
    "# Add the train, test and validate split\n",
    "cells_edgeVSnoedge = split_dataframe(dataframe=cells_edgeVSnoedge, train_frac=0.7, val_frac=0.2, return_splits=False)\n",
    "\n",
    "cells_edgeVSnoedge.to_csv(\"/home/aicsuser/serotiny_data/cells_edgeVSnoedge_2.csv\") \n",
    "print(f\"Number of cells: {len(cells_edgeVSnoedge)}\")\n",
    "print(f\"Number of columns: {len(cells_edgeVSnoedge.columns)}\")"
   ]
  },
  {
   "cell_type": "markdown",
   "id": "49fc0c18-91b7-4cde-9790-9890d690268e",
   "metadata": {
    "tags": []
   },
   "source": [
    "## <a id='config'></a>Configuring serotiny"
   ]
  },
  {
   "cell_type": "code",
   "execution_count": null,
   "id": "f2c45f19-9322-462d-81c8-411d53edabcf",
   "metadata": {
    "tags": []
   },
   "outputs": [],
   "source": [
    "run_name = f\"memdna_zproj_{now_str()}\"\n",
    "print(run_name)\n",
    "\n",
    "!serotiny train \\\n",
    "    model=example2_classifier_2d \\\n",
    "    data=example2_dataloader_2d \\\n",
    "    mlflow.experiment_name=cytodata_chapter5 \\\n",
    "    mlflow.run_name={run_name} \\\n",
    "    trainer.gpus=[0] \\\n",
    "    trainer.max_epochs=10"
   ]
  },
  {
   "cell_type": "markdown",
   "id": "09c95327-ec22-49e5-bbd5-a04d8f04df0c",
   "metadata": {},
   "source": [
    "As refered to in Chapter 5, `serotiny` requires you to have configured 5 modules. \n",
    "Below we will see an example of how each one is configured, but before that it is worth talking about\n",
    "the syntax used for these configurations.\n",
    "\n",
    "`serotiny` uses `hydra` as a configuration framework. In `hydra`, configs are written in YAML and they\n",
    "can use a special syntax to represent the instantiation of classes (and partial functions), or the invocation of functions.\n",
    "\n",
    "For example, suppose we have a class `SomeClass` inside the module `some_class` of a package `some_package`. The way one would\n",
    "instantiate this class within a `hydra` config would be like:\n",
    "\n",
    "---\n",
    "\n",
    "   \n",
    "```yaml\n",
    "_target_: some_package.some_class.SomeClass  # this is the \"path\" to the class.\n",
    "\n",
    "# assuming this class takes `param1` and `param2` as arguments\n",
    "param1: a\n",
    "param2: b\n",
    "```\n",
    "\n",
    "---\n",
    "\n",
    "You may have guessed this, but if your class takes an object of some other class as a parameter, you can have nested instantiations like:\n",
    "\n",
    "---\n",
    "\n",
    "```yaml\n",
    "_target_: some_package.some_class.SomeClass  # this is the \"path\" to the class.\n",
    "\n",
    "# assuming this class takes `param1` and `param2` as arguments\n",
    "param1: a\n",
    "param2: b\n",
    "\n",
    "# assuming this class also takes `param3` as an argument, and that it should be an instantiation\n",
    "# of a class some_package.another_class.AnotherClass\n",
    "param3:\n",
    "  _target_: some_package.another_class.AnotherClass\n",
    "  arg1: 1\n",
    "  arg2: 2\n",
    "```\n",
    "\n",
    "---\n",
    "\n",
    "When we call `hydra.utils.instantiate` on the config object that results from reading this YAML, the class gets instantiated!\n",
    "This is the main mechanism used by `serotiny` to obtain the several objects it needs to carry out the training/testing/prediction of a model.\n",
    "\n"
   ]
  },
  {
   "cell_type": "markdown",
   "id": "0fe9c629-a51b-4ca5-98b2-1e3c4085b445",
   "metadata": {
    "tags": []
   },
   "source": [
    "##### **Advanced version**"
   ]
  },
  {
   "cell_type": "markdown",
   "id": "ef323205-c93d-4428-a270-7eb57f2bbc59",
   "metadata": {
    "jp-MarkdownHeadingCollapsed": true,
    "tags": []
   },
   "source": [
    "This version of a `data` config uses some YAML tricks and the `_aux_` section (which is ignored by `serotiny`) to\n",
    "more flexibly build models\n",
    "\n",
    "```yaml\n",
    "_aux_: \n",
    "  _a: &hidden_channels 4\n",
    "  _b: &kernel_size 3\n",
    "  _c: &conv_block\n",
    "    _target_: torch.nn.Sequential\n",
    "    _args_:\n",
    "      - _target_: torch.nn.LazyConv2d\n",
    "        out_channels: *hidden_channels\n",
    "        kernel_size: *kernel_size\n",
    "        stride: 1\n",
    "      - _target_: torch.nn.LeakyReLU\n",
    "      - _target_: torch.nn.LazyBatchNorm2d\n",
    "\n",
    "_target_: serotiny.models.BasicModel\n",
    "x_label: image\n",
    "y_label: class\n",
    "network:\n",
    "  _target_: torch.nn.Sequential\n",
    "  _args_:\n",
    "    - *conv_block\n",
    "    - *conv_block\n",
    "    - *conv_block\n",
    "    - _target_: serotiny.networks.layers.Flatten\n",
    "    - _target_: torch.nn.LazyLinear\n",
    "      out_features: 1\n",
    "    - _target_: torch.nn.Sigmoid\n",
    "    \n",
    "loss:\n",
    "  _target_: torch.nn.BCELoss\n",
    "  \n",
    "  \n",
    "# a function used by `serotiny predict` to store the results of feeding data through the model\n",
    "save_predictions:\n",
    "  _target_: cytodata_aics.model_utils.save_predictions_classifier\n",
    "  _partial_: true\n",
    "\n",
    "# fields to include in the output for each batch\n",
    "fields_to_log:\n",
    "  - id\n",
    "```"
   ]
  },
  {
   "cell_type": "markdown",
   "id": "5bcbff44-e2a9-4609-a67e-c2edd8daf479",
   "metadata": {},
   "source": [
    "## <a id='train3D'></a>Resize images for 3D training  "
   ]
  },
  {
   "cell_type": "markdown",
   "id": "65f0b1e6-a37a-4a91-bd46-b09a7ca8fe39",
   "metadata": {
    "tags": []
   },
   "source": [
    "#### Updating the `data` config to resize the images"
   ]
  },
  {
   "cell_type": "markdown",
   "id": "ef22a53c-cc32-4aaa-8e52-18537f5c8cba",
   "metadata": {},
   "source": [
    "```yaml\n",
    "_target_: serotiny.datamodules.ManifestDatamodule\n",
    "\n",
    "path: /home/aicsuser/serotiny_data/cells_edgeVSnoedge.csv\n",
    "\n",
    "batch_size: 64\n",
    "num_workers: 6\n",
    "loaders:\n",
    "  id:\n",
    "    _target_: serotiny.io.dataframe.loaders.LoadColumn\n",
    "    column: CellId\n",
    "    dtype: int\n",
    "  class:\n",
    "    _target_: serotiny.io.dataframe.loaders.LoadColumn\n",
    "    column: edge_flag\n",
    "    dtype: float32\n",
    "  image:\n",
    "    _target_: serotiny.io.dataframe.loaders.LoadImage\n",
    "    column: registered_path\n",
    "    select_channels: ['membrane']\n",
    "    dtype: float32\n",
    "    ome_zarr_level: 1 #scaling the image\n",
    "    transform:\n",
    "        - _partial_: true\n",
    "          _target_: cytodata_aics.io_utils.rescale_image\n",
    "          channels: ['membrane']\n",
    "        - _target_: monai.transforms.GaussianSharpen #transformation will be applied to all select_channels\n",
    "          \n",
    "          \n",
    "       \n",
    "    \n",
    "    \n",
    "split_column: \"split\"\n",
    "```"
   ]
  },
  {
   "cell_type": "markdown",
   "id": "1844f1b1-81d1-4a5b-adee-e2652763e6d1",
   "metadata": {},
   "source": [
    "#### Changing the working directory"
   ]
  },
  {
   "cell_type": "code",
   "execution_count": null,
   "id": "5d470202-420d-471e-a16c-840d4e6d6c0b",
   "metadata": {},
   "outputs": [],
   "source": [
    "# we need the commands we type to be ran from the serotiny project root\n",
    "# (because that's what `serotiny` expects) so we change directories here,\n",
    "# so we can run commands within the notebook\n",
    "import os\n",
    "os.chdir(\"/home/aicsuser/cytodata-hackathon-base\")"
   ]
  },
  {
   "cell_type": "markdown",
   "id": "c1c4b036-1806-4039-9796-c14fa172eaa3",
   "metadata": {},
   "source": [
    "#### Creating a run name based on the current date and time"
   ]
  },
  {
   "cell_type": "code",
   "execution_count": null,
   "id": "f314aeaa-d1de-483e-a675-7da4e92e0b7b",
   "metadata": {},
   "outputs": [],
   "source": [
    "from datetime import datetime\n",
    "\n",
    "# util to avoid referring to the same run unintentionally\n",
    "now_str = lambda : datetime.now().strftime(\"%Y%m%d_%H%M%S\")"
   ]
  },
  {
   "cell_type": "markdown",
   "id": "56111725-48c4-4731-ad17-322ea62f8196",
   "metadata": {},
   "source": [
    "#### Starting a training. Track the training at http://mlflow.cytodata.allencell.org/"
   ]
  },
  {
   "cell_type": "markdown",
   "id": "8953dc9e-7515-473a-85d8-a954e6f31216",
   "metadata": {},
   "source": [
    "++data.loaders.image.ome_zarr_level=1 \\\n",
    "level = 0 # full image\n",
    "level = 1 # .5 scaled image in all 3 dimensions\n",
    "level = 2 # .25 scaled in ....\n"
   ]
  },
  {
   "cell_type": "code",
   "execution_count": null,
   "id": "90f90e95-ac6a-4995-8c5f-b2f269153afd",
   "metadata": {
    "tags": []
   },
   "outputs": [],
   "source": [
    "run_name = f\"some_3d_run_{now_str()}\"\n",
    "\n",
    "!serotiny train \\\n",
    "    model=example_classifier_3d \\\n",
    "    data=example_dataloader_3d \\\n",
    "    mlflow.experiment_name=cytodata_chapter5 \\\n",
    "    mlflow.run_name={run_name} \\\n",
    "    trainer.gpus=[0] \\\n",
    "    trainer.max_epochs=1 "
   ]
  },
  {
   "cell_type": "markdown",
   "id": "05dde5b4-56de-4007-9a89-883e4732fadb",
   "metadata": {},
   "source": [
    "Note: The above task takes more the 16GB (it will not fit on the AWS computers) 45618MiB / 81920MiB"
   ]
  },
  {
   "cell_type": "markdown",
   "id": "b7f447fc-239d-422c-8a00-02266a3fcea1",
   "metadata": {},
   "source": [
    "### Make predictions from the pretrained model"
   ]
  },
  {
   "cell_type": "code",
   "execution_count": null,
   "id": "ed506499-7f87-4e69-b137-e0d061e9c795",
   "metadata": {
    "tags": []
   },
   "outputs": [],
   "source": [
    "!serotiny predict \\\n",
    "    model=example_classifier_3d \\\n",
    "    data=example_dataloader_3d \\\n",
    "    mlflow.experiment_name=cytodata_chapter5 \\\n",
    "    mlflow.run_name={run_name} \\\n",
    "    trainer.gpus=[0]"
   ]
  },
  {
   "cell_type": "markdown",
   "id": "4b6d0de2-90d8-41ee-8fe1-4d872cd90ace",
   "metadata": {
    "tags": []
   },
   "source": [
    "### Retrieving predictions from MLFlow"
   ]
  },
  {
   "cell_type": "code",
   "execution_count": null,
   "id": "7ec203f7-2aa3-4e8f-8e64-7b57dfa55413",
   "metadata": {
    "tags": []
   },
   "outputs": [],
   "source": [
    "mlflow.set_tracking_uri(\"http://mlflow.mlflow.svc.cluster.local\")\n",
    "\n",
    "with download_artifact(\"predictions/model_predictions.csv\", experiment_name=\"cytodata_chapter5\", run_name=run_name) as path:\n",
    "    predictions_3d_df = pd.read_csv(path)"
   ]
  },
  {
   "cell_type": "code",
   "execution_count": null,
   "id": "67a19c7d-9a17-4d52-a90a-c1a35c841662",
   "metadata": {},
   "outputs": [],
   "source": [
    "predictions_3d_df = predictions_3d_df.merge(cells_edgeVSnoedge[['CellId','split']].rename(columns={'CellId':'id'}), on = 'id')\n",
    "predictions_3d_df\n",
    "# print(len(predictions_3d_df))"
   ]
  },
  {
   "cell_type": "code",
   "execution_count": null,
   "id": "709f5b92-21f1-4aea-a4bf-8387be444897",
   "metadata": {},
   "outputs": [],
   "source": [
    "plt.hist(predictions_3d_df.yhat.to_numpy())\n",
    "plt.show()"
   ]
  },
  {
   "cell_type": "markdown",
   "id": "fe556d11-bba4-4c7b-a935-62946d7dcb9c",
   "metadata": {
    "tags": []
   },
   "source": [
    "### Confusion matrices of train, valid and test splits "
   ]
  },
  {
   "cell_type": "code",
   "execution_count": null,
   "id": "3a75a6b4-f89d-409e-99a2-95fb26d02b93",
   "metadata": {},
   "outputs": [],
   "source": [
    "from sklearn.metrics import confusion_matrix,accuracy_score,classification_report\n",
    "\n",
    "# make confusion matrix for each split\n",
    "splits = ['train','valid','test']\n",
    "fig, axes = plt.subplots(nrows=1,ncols=len(splits),figsize=(10, 3), dpi=100)\n",
    "\n",
    "for i,split in enumerate(splits):\n",
    "    \n",
    "    y_true = predictions_3d_df[predictions_3d_df['split']==split]['y'].to_numpy()\n",
    "    y_pred = predictions_3d_df[predictions_3d_df['split']==split]['yhat'].to_numpy()\n",
    "    y_pred = np.round(y_pred) #get to crisp binary class labels from posterior probability\n",
    "\n",
    "    # Computer confusion matrix\n",
    "    cm = confusion_matrix(y_true, y_pred)    \n",
    "    score = accuracy_score(y_true,y_pred) #compute accuracy score\n",
    "    cm_df = pd.DataFrame(cm)\n",
    "    sns.heatmap(cm_df, annot=True, fmt='d',ax = axes[i])\n",
    "    axes[i].set_title(f'Accuracy on {split} is {score:.2f}')\n",
    "    axes[i].set_xlabel('True')\n",
    "    axes[i].set_ylabel('Predicted')\n",
    "\n",
    "plt.show()"
   ]
  },
  {
   "cell_type": "markdown",
   "id": "b5039aa3-3c1f-43ea-b34b-578c426b520c",
   "metadata": {},
   "source": [
    "# <a id='end'></a>Conclusion\n"
   ]
  }
 ],
 "metadata": {
  "kernelspec": {
   "display_name": "Python 3 (ipykernel)",
   "language": "python",
   "name": "python3"
  },
  "language_info": {
   "codemirror_mode": {
    "name": "ipython",
    "version": 3
   },
   "file_extension": ".py",
   "mimetype": "text/x-python",
   "name": "python",
   "nbconvert_exporter": "python",
   "pygments_lexer": "ipython3",
   "version": "3.10.6"
  }
 },
 "nbformat": 4,
 "nbformat_minor": 5
}
