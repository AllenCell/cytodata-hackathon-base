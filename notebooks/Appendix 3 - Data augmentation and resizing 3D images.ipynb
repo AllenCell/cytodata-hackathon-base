{
 "cells": [
  {
   "cell_type": "markdown",
   "id": "26bed1c8-fc44-4369-b188-4170a5b9e017",
   "metadata": {
    "tags": []
   },
   "source": [
    "# Appendix 3 - Data augmentation and resizing 3D images\n",
    "**Estimated time to run through notebook is 20 minutes** \n",
    "\n",
    "This notebook shows how to\n",
    "-  [Load libraries, predefine some functions, load the manifest, and make a dataset](#preprocessing) \n",
    "-  [Resize images for 3D training](#train3D)\n",
    "-  [Conclusion](#end)"
   ]
  },
  {
   "cell_type": "markdown",
   "id": "88af942f-9677-4d14-8435-4e9b957c77fe",
   "metadata": {
    "jp-MarkdownHeadingCollapsed": true,
    "tags": []
   },
   "source": [
    "#### Resources \n",
    "- Serotiny code: https://github.com/AllenCell/serotiny\n",
    "- Serotiny documentation: https://allencell.github.io/serotiny\n",
    "- Hydra for configurability https://hydra.cc/\n",
    "- MLFlow for experiment tracking https://mlflow.org/\n",
    "- Pytorch Lightning for DL training/testing/predictions https://pytorchlightning.ai/"
   ]
  },
  {
   "cell_type": "markdown",
   "id": "a358f163-99ee-4499-a22d-5435ed82ca09",
   "metadata": {
    "jp-MarkdownHeadingCollapsed": true,
    "tags": []
   },
   "source": [
    "## <a id='preprocessing'></a>Load libraries, predefine some functions, load the manifest, and make a dataset \n"
   ]
  },
  {
   "cell_type": "markdown",
   "id": "e89c2d81-b881-4e35-8dc6-1ee0601ae810",
   "metadata": {
    "tags": []
   },
   "source": [
    "### Load libraries and predefined functions"
   ]
  },
  {
   "cell_type": "code",
   "execution_count": 6,
   "id": "67c64fb0-0d8f-418f-ba71-8d4c6c0ef01a",
   "metadata": {
    "tags": []
   },
   "outputs": [],
   "source": [
    "from upath import UPath as Path\n",
    "import pandas as pd\n",
    "import numpy as np\n",
    "import matplotlib.pyplot as plt\n",
    "import seaborn as sns\n",
    "import nbvv\n",
    "\n",
    "from serotiny.io.image import image_loader\n",
    "from cytodata_aics.io_utils import rescale_image"
   ]
  },
  {
   "cell_type": "markdown",
   "id": "c71bf68c-4d83-416b-a832-ffde659ec89b",
   "metadata": {
    "tags": []
   },
   "source": [
    "### Load the manifest and explore dimensions"
   ]
  },
  {
   "cell_type": "code",
   "execution_count": 7,
   "id": "6146df3c-d6e2-45f1-a27e-3619ed42943d",
   "metadata": {
    "tags": []
   },
   "outputs": [
    {
     "name": "stdout",
     "output_type": "stream",
     "text": [
      "Number of cells: 214037\n",
      "Number of columns: 78\n"
     ]
    }
   ],
   "source": [
    "#on-prem\n",
    "#df = pd.read_parquet(\"s3://variancedataset/processed/hackathon_manifest_09292022.parquet\")\n",
    "#in-cloud\n",
    "df = pd.read_parquet(\"s3://allencell-cytodata-variance-data/processed/hackathon_manifest_092022.parquet\")\n",
    "print(f'Number of cells: {len(df)}')\n",
    "print(f'Number of columns: {len(df.columns)}')"
   ]
  },
  {
   "cell_type": "markdown",
   "id": "479ac9a5-b898-4115-ae11-386717a5e95e",
   "metadata": {
    "tags": []
   },
   "source": [
    "### Make a simple dataset of edge vs. non-edge cells"
   ]
  },
  {
   "cell_type": "code",
   "execution_count": 8,
   "id": "b4783106-e55d-4f77-b646-6ec5540bd783",
   "metadata": {},
   "outputs": [
    {
     "name": "stdout",
     "output_type": "stream",
     "text": [
      "Number of cells: 2000\n",
      "Number of columns: 79\n"
     ]
    }
   ],
   "source": [
    "from serotiny.transforms.dataframe.transforms import split_dataframe\n",
    "\n",
    "Path(\"/home/aicsuser/serotiny_data/\").mkdir(parents=True, exist_ok=True)\n",
    "\n",
    "n = 1000 # number of cells per class\n",
    "cells_edgeVSnoedge = df.groupby(\"edge_flag\").sample(n)\n",
    "\n",
    "# Add the train, test and validate split\n",
    "cells_edgeVSnoedge = split_dataframe(dataframe=cells_edgeVSnoedge, train_frac=0.7, val_frac=0.2, return_splits=False)\n",
    "\n",
    "cells_edgeVSnoedge.to_csv(\"/home/aicsuser/serotiny_data/cells_edgeVSnoedge.csv\") \n",
    "print(f\"Number of cells: {len(cells_edgeVSnoedge)}\")\n",
    "print(f\"Number of columns: {len(cells_edgeVSnoedge.columns)}\")"
   ]
  },
  {
   "cell_type": "markdown",
   "id": "97c935e8-b8df-43f7-b869-ff3e2d6621d7",
   "metadata": {
    "tags": []
   },
   "source": [
    "`serotiny` is a Python package and framework to help you create configurable and reproducible DL projects. It uses [hydra](https://hydra.cc/) for configurability, [MLFlow](https://mlflow.org/) for experiment tracking,\n",
    "and [Pytorch Lightning](https://pytorchlightning.ai/) for DL model training/testing/predictions.\n",
    "\n",
    "### Project structure\n",
    "With `serotiny` a DL project has a predefined structure (which this repo already complies with). To start a new project with the appropriate structure, you can use the [serotiny-project cookiecutter](https://github.com/allencellmodeling/serotiny-project-cookiecutter)\n",
    "\n",
    "A serotiny project contains a Python package, and a config folder. This config folder is composed of 5 config groups:\n",
    "\n",
    "<img src=\"resources/serotiny.png\" width=\"700\"/>\n",
    "\n",
    "\n",
    "### `serotiny` commands\n",
    "Aside from the predefined structure and config folder, `serotiny` has set of commands which know how to read a project's configuration (and override it)\n",
    "and execute DL tasks.\n",
    "\n",
    "For example, we could train a model using the a model config called `my_classifier` (which would live in `config/model/my_classifier.yaml`), and a data config\n",
    "called `my_train_data` (which would live in `config/data/my_train_data.yaml`) and overriding some of the `mlflow` config parameters.\n",
    "<br><small>Note: Because we didn't specify a top-level `mlflow` config, i.e. we didn't do `mlflow=...`, `serotiny` will use the default config, which lives in `config/mlflow/default.yaml`</small>\n",
    "\n",
    "```\n",
    "$ serotiny train model=my_classifier data=my_train_data mlflow.experiment_name=some_experiment mlflow.run_name=1st_run\n",
    "```\n",
    "\n",
    "Once the model finishes training, we could use it to make predictions on a different dataset, configured in `my_predict_data`\n",
    "\n",
    "```\n",
    "$ serotiny predict model=my_classifier data=my_predict_data mlflow.experiment_name=some_experiment mlflow.run_name=1st_run\n",
    "```\n"
   ]
  },
  {
   "cell_type": "markdown",
   "id": "5bcbff44-e2a9-4609-a67e-c2edd8daf479",
   "metadata": {},
   "source": [
    "## <a id='train3D'></a>Resize images for 3D training  "
   ]
  },
  {
   "cell_type": "markdown",
   "id": "65f0b1e6-a37a-4a91-bd46-b09a7ca8fe39",
   "metadata": {
    "tags": []
   },
   "source": [
    "#### Updating the `data` config to resize the images"
   ]
  },
  {
   "cell_type": "markdown",
   "id": "ef22a53c-cc32-4aaa-8e52-18537f5c8cba",
   "metadata": {},
   "source": [
    "```yaml\n",
    "_target_: serotiny.datamodules.ManifestDatamodule\n",
    "\n",
    "path: /home/aicsuser/serotiny_data/cells_edgeVSnoedge.csv\n",
    "\n",
    "batch_size: 64\n",
    "num_workers: 10\n",
    "loaders:\n",
    "  id:\n",
    "    _target_: serotiny.io.dataframe.loaders.LoadColumn\n",
    "    column: CellId\n",
    "    dtype: int\n",
    "  class:\n",
    "    _target_: serotiny.io.dataframe.loaders.LoadColumn\n",
    "    column: edge_flag\n",
    "    dtype: float32\n",
    "  image:\n",
    "    _target_: serotiny.io.dataframe.loaders.LoadImage\n",
    "    column: registered_path\n",
    "    select_channels: ['membrane']\n",
    "    dtype: float32\n",
    "    ome_zarr_level: 1 #scaling the image\n",
    "    transform:\n",
    "        - _partial_: true\n",
    "          _target_: cytodata_aics.io_utils.rescale_image\n",
    "          channels: ['membrane']\n",
    "        - _target_: monai.transforms.GaussianSharpen #transformation will be applied to all select_channels\n",
    "          \n",
    "          \n",
    "       \n",
    "    \n",
    "    \n",
    "split_column: \"split\"\n",
    "```"
   ]
  },
  {
   "cell_type": "markdown",
   "id": "1844f1b1-81d1-4a5b-adee-e2652763e6d1",
   "metadata": {},
   "source": [
    "#### Changing the working directory"
   ]
  },
  {
   "cell_type": "code",
   "execution_count": 9,
   "id": "5d470202-420d-471e-a16c-840d4e6d6c0b",
   "metadata": {},
   "outputs": [],
   "source": [
    "# we need the commands we type to be ran from the serotiny project root\n",
    "# (because that's what `serotiny` expects) so we change directories here,\n",
    "# so we can run commands within the notebook\n",
    "import os\n",
    "os.chdir(\"/home/aicsuser/cytodata-hackathon-base\")"
   ]
  },
  {
   "cell_type": "markdown",
   "id": "c1c4b036-1806-4039-9796-c14fa172eaa3",
   "metadata": {},
   "source": [
    "#### Creating a run name based on the current date and time"
   ]
  },
  {
   "cell_type": "code",
   "execution_count": 10,
   "id": "f314aeaa-d1de-483e-a675-7da4e92e0b7b",
   "metadata": {},
   "outputs": [],
   "source": [
    "from datetime import datetime\n",
    "\n",
    "# util to avoid referring to the same run unintentionally\n",
    "now_str = lambda : datetime.now().strftime(\"%Y%m%d_%H%M%S\")"
   ]
  },
  {
   "cell_type": "markdown",
   "id": "56111725-48c4-4731-ad17-322ea62f8196",
   "metadata": {},
   "source": [
    "#### Starting a training. Track the training at https://mlflow.a100.int.allencell.org/ (on-prem) OR http://mlflow.cytodata.allencell.org/ (in cloud)"
   ]
  },
  {
   "cell_type": "markdown",
   "id": "8953dc9e-7515-473a-85d8-a954e6f31216",
   "metadata": {},
   "source": [
    "++data.loaders.image.ome_zarr_level=1 \\\n",
    "level = 0 # full image\n",
    "level = 1 # .5 scaled image in all 3 dimensions\n",
    "level = 2 # .25 scaled in ....\n"
   ]
  },
  {
   "cell_type": "code",
   "execution_count": 12,
   "id": "90f90e95-ac6a-4995-8c5f-b2f269153afd",
   "metadata": {
    "tags": []
   },
   "outputs": [
    {
     "name": "stdout",
     "output_type": "stream",
     "text": [
      "[2022-10-10 17:40:49,511][torch.distributed.nn.jit.instantiator][INFO] - Created a temporary directory at /tmp/tmpz9yvlkz2\n",
      "[2022-10-10 17:40:49,512][torch.distributed.nn.jit.instantiator][INFO] - Writing /tmp/tmpz9yvlkz2/_remote_module_non_scriptable.py\n",
      "[2022-10-10 17:40:49,723][pytorch_lightning.utilities.seed][INFO] - Global seed set to 42\n",
      "[2022-10-10 17:40:49,724][serotiny.ml_ops.ml_ops][INFO] - Instantiating datamodule\n",
      "[2022-10-10 17:40:52,300][serotiny.ml_ops.ml_ops][INFO] - Instantiating trainer\n",
      "/opt/conda/lib/python3.10/site-packages/pytorch_lightning/trainer/connectors/accelerator_connector.py:447: LightningDeprecationWarning: Setting `Trainer(gpus=[0])` is deprecated in v1.7 and will be removed in v2.0. Please use `Trainer(accelerator='gpu', devices=[0])` instead.\n",
      "  rank_zero_deprecation(\n",
      "[2022-10-10 17:40:52,589][pytorch_lightning.utilities.rank_zero][INFO] - GPU available: True (cuda), used: True\n",
      "[2022-10-10 17:40:52,589][pytorch_lightning.utilities.rank_zero][INFO] - TPU available: False, using: 0 TPU cores\n",
      "[2022-10-10 17:40:52,589][pytorch_lightning.utilities.rank_zero][INFO] - IPU available: False, using: 0 IPUs\n",
      "[2022-10-10 17:40:52,589][pytorch_lightning.utilities.rank_zero][INFO] - HPU available: False, using: 0 HPUs\n",
      "[2022-10-10 17:40:52,665][serotiny.ml_ops.ml_ops][INFO] - Instantiating model\n",
      "/opt/conda/lib/python3.10/site-packages/torch/nn/modules/lazy.py:178: UserWarning: Lazy modules are a new feature under heavy development so changes to the API or functionality can happen at any moment.\n",
      "  warnings.warn('Lazy modules are a new feature under heavy development '\n",
      "[2022-10-10 17:40:52,715][serotiny.ml_ops.mlflow_utils][INFO] - Validating and processing MLFlow configuration\n",
      "2022/10/10 17:40:52 WARNING mlflow.utils.autologging_utils: You are using an unsupported version of pytorch. If you encounter errors during autologging, try upgrading / downgrading pytorch to a supported version, or try upgrading MLflow.\n",
      "/opt/conda/lib/python3.10/site-packages/serotiny/ml_ops/mlflow_utils.py:156: FutureWarning: ``mlflow.tracking.fluent.list_run_infos`` is deprecated. This method will be removed in a future release. Use ``search_runs()`` instead.\n",
      "  for run_info in mlflow.list_run_infos(experiment_id=experiment_id):\n",
      "/opt/conda/lib/python3.10/site-packages/mlflow/tracking/fluent.py:1599: FutureWarning: ``mlflow.tracking.client.MlflowClient.list_run_infos`` is deprecated. This method will be removed in a future release. Use ``search_runs()`` instead.\n",
      "  return MlflowClient().list_run_infos(\n",
      "[2022-10-10 17:40:53,493][serotiny.ml_ops.mlflow_utils][INFO] - Calling trainer.fit\n",
      "/opt/conda/lib/python3.10/site-packages/pytorch_lightning/callbacks/model_checkpoint.py:616: UserWarning: Checkpoint directory /home/aicsuser/cytodata-hackathon-base/checkpoints exists and is not empty.\n",
      "  rank_zero_warn(f\"Checkpoint directory {dirpath} exists and is not empty.\")\n",
      "[2022-10-10 17:40:57,000][pytorch_lightning.accelerators.cuda][INFO] - LOCAL_RANK: 0 - CUDA_VISIBLE_DEVICES: [0]\n",
      "/opt/conda/lib/python3.10/site-packages/pytorch_lightning/utilities/model_summary/model_summary.py:410: UserWarning: A layer with UninitializedParameter was found. Thus, the total number of parameters detected may be inaccurate.\n",
      "  warning_cache.warn(\n",
      "[2022-10-10 17:40:57,005][pytorch_lightning.callbacks.model_summary][INFO] - \n",
      "  | Name    | Type       | Params\n",
      "---------------------------------------\n",
      "0 | network | Sequential | 0     \n",
      "1 | loss    | BCELoss    | 0     \n",
      "---------------------------------------\n",
      "0         Trainable params\n",
      "0         Non-trainable params\n",
      "0         Total params\n",
      "0.000     Total estimated model params size (MB)\n",
      "Sanity Checking: 0it [00:00, ?it/s]/opt/conda/lib/python3.10/site-packages/torch/utils/data/dataloader.py:563: UserWarning: This DataLoader will create 10 worker processes in total. Our suggested max number of worker in current system is 8, which is smaller than what this DataLoader is going to create. Please be aware that excessive worker creation might get DataLoader running slow or even freeze, lower the worker number to avoid potential slowness/freeze if necessary.\n",
      "  warnings.warn(_create_warning_msg(\n",
      "Sanity Checking DataLoader 0:   0%|                       | 0/2 [00:00<?, ?it/s]Error executing job with overrides: ['model=example_classifier_3d', 'data=example_dataloader_3d', 'mlflow.experiment_name=cytodata_chapter5', 'mlflow.run_name=some_3d_run_20221010_174045', 'trainer.gpus=[0]', 'trainer.max_epochs=1']\n",
      "Traceback (most recent call last):\n",
      "  File \"/opt/conda/bin/serotiny\", line 8, in <module>\n",
      "    sys.exit(main())\n",
      "  File \"/opt/conda/lib/python3.10/site-packages/serotiny/cli/cli.py\", line 58, in main\n",
      "    hydra.main(config_path=None, config_name=mode, version_base=None)(\n",
      "  File \"/opt/conda/lib/python3.10/site-packages/hydra/main.py\", line 90, in decorated_main\n",
      "    _run_hydra(\n",
      "  File \"/opt/conda/lib/python3.10/site-packages/hydra/_internal/utils.py\", line 389, in _run_hydra\n",
      "    _run_app(\n",
      "  File \"/opt/conda/lib/python3.10/site-packages/hydra/_internal/utils.py\", line 452, in _run_app\n",
      "    run_and_report(\n",
      "  File \"/opt/conda/lib/python3.10/site-packages/hydra/_internal/utils.py\", line 216, in run_and_report\n",
      "    raise ex\n",
      "  File \"/opt/conda/lib/python3.10/site-packages/hydra/_internal/utils.py\", line 213, in run_and_report\n",
      "    return func()\n",
      "  File \"/opt/conda/lib/python3.10/site-packages/hydra/_internal/utils.py\", line 453, in <lambda>\n",
      "    lambda: hydra.run(\n",
      "  File \"/opt/conda/lib/python3.10/site-packages/hydra/_internal/hydra.py\", line 132, in run\n",
      "    _ = ret.return_value\n",
      "  File \"/opt/conda/lib/python3.10/site-packages/hydra/core/utils.py\", line 260, in return_value\n",
      "    raise self._return_value\n",
      "  File \"/opt/conda/lib/python3.10/site-packages/hydra/core/utils.py\", line 186, in run_job\n",
      "    ret.return_value = task_function(task_cfg)\n",
      "  File \"/opt/conda/lib/python3.10/site-packages/serotiny/ml_ops/ml_ops.py\", line 143, in _do_model_op_wrapper\n",
      "    _do_model_op(\n",
      "  File \"/opt/conda/lib/python3.10/site-packages/serotiny/ml_ops/ml_ops.py\", line 79, in _do_model_op\n",
      "    mlflow_fit(\n",
      "  File \"/opt/conda/lib/python3.10/site-packages/serotiny/ml_ops/mlflow_utils.py\", line 311, in mlflow_fit\n",
      "    trainer.fit(model, data, ckpt_path=ckpt_path)\n",
      "  File \"/opt/conda/lib/python3.10/site-packages/mlflow/utils/autologging_utils/safety.py\", line 555, in safe_patch_function\n",
      "    patch_function(call_original, *args, **kwargs)\n",
      "  File \"/opt/conda/lib/python3.10/site-packages/mlflow/utils/autologging_utils/safety.py\", line 254, in patch_with_managed_run\n",
      "    result = patch_function(original, *args, **kwargs)\n",
      "  File \"/opt/conda/lib/python3.10/site-packages/mlflow/pytorch/_pytorch_autolog.py\", line 367, in patched_fit\n",
      "    result = original(self, *args, **kwargs)\n",
      "  File \"/opt/conda/lib/python3.10/site-packages/mlflow/utils/autologging_utils/safety.py\", line 536, in call_original\n",
      "    return call_original_fn_with_event_logging(_original_fn, og_args, og_kwargs)\n",
      "  File \"/opt/conda/lib/python3.10/site-packages/mlflow/utils/autologging_utils/safety.py\", line 471, in call_original_fn_with_event_logging\n",
      "    original_fn_result = original_fn(*og_args, **og_kwargs)\n",
      "  File \"/opt/conda/lib/python3.10/site-packages/mlflow/utils/autologging_utils/safety.py\", line 533, in _original_fn\n",
      "    original_result = original(*_og_args, **_og_kwargs)\n",
      "  File \"/opt/conda/lib/python3.10/site-packages/pytorch_lightning/trainer/trainer.py\", line 696, in fit\n",
      "    self._call_and_handle_interrupt(\n",
      "  File \"/opt/conda/lib/python3.10/site-packages/pytorch_lightning/trainer/trainer.py\", line 650, in _call_and_handle_interrupt\n",
      "    return trainer_fn(*args, **kwargs)\n",
      "  File \"/opt/conda/lib/python3.10/site-packages/pytorch_lightning/trainer/trainer.py\", line 735, in _fit_impl\n",
      "    results = self._run(model, ckpt_path=self.ckpt_path)\n",
      "  File \"/opt/conda/lib/python3.10/site-packages/pytorch_lightning/trainer/trainer.py\", line 1166, in _run\n",
      "    results = self._run_stage()\n",
      "  File \"/opt/conda/lib/python3.10/site-packages/pytorch_lightning/trainer/trainer.py\", line 1252, in _run_stage\n",
      "    return self._run_train()\n",
      "  File \"/opt/conda/lib/python3.10/site-packages/pytorch_lightning/trainer/trainer.py\", line 1274, in _run_train\n",
      "    self._run_sanity_check()\n",
      "  File \"/opt/conda/lib/python3.10/site-packages/pytorch_lightning/trainer/trainer.py\", line 1343, in _run_sanity_check\n",
      "    val_loop.run()\n",
      "  File \"/opt/conda/lib/python3.10/site-packages/pytorch_lightning/loops/loop.py\", line 200, in run\n",
      "    self.advance(*args, **kwargs)\n",
      "  File \"/opt/conda/lib/python3.10/site-packages/pytorch_lightning/loops/dataloader/evaluation_loop.py\", line 155, in advance\n",
      "    dl_outputs = self.epoch_loop.run(self._data_fetcher, dl_max_batches, kwargs)\n",
      "  File \"/opt/conda/lib/python3.10/site-packages/pytorch_lightning/loops/loop.py\", line 200, in run\n",
      "    self.advance(*args, **kwargs)\n",
      "  File \"/opt/conda/lib/python3.10/site-packages/pytorch_lightning/loops/epoch/evaluation_epoch_loop.py\", line 143, in advance\n",
      "    output = self._evaluation_step(**kwargs)\n",
      "  File \"/opt/conda/lib/python3.10/site-packages/pytorch_lightning/loops/epoch/evaluation_epoch_loop.py\", line 240, in _evaluation_step\n",
      "    output = self.trainer._call_strategy_hook(hook_name, *kwargs.values())\n",
      "  File \"/opt/conda/lib/python3.10/site-packages/pytorch_lightning/trainer/trainer.py\", line 1704, in _call_strategy_hook\n",
      "    output = fn(*args, **kwargs)\n",
      "  File \"/opt/conda/lib/python3.10/site-packages/pytorch_lightning/strategies/strategy.py\", line 370, in validation_step\n",
      "    return self.model.validation_step(*args, **kwargs)\n",
      "  File \"/opt/conda/lib/python3.10/site-packages/serotiny/models/base_model.py\", line 96, in validation_step\n",
      "    return self._step(\"val\", batch, batch_idx, logger=True)\n",
      "  File \"/opt/conda/lib/python3.10/site-packages/serotiny/models/basic_model.py\", line 89, in _step\n",
      "    yhat = self.forward(x)\n",
      "  File \"/opt/conda/lib/python3.10/site-packages/serotiny/models/basic_model.py\", line 84, in forward\n",
      "    return self.network(x, **kwargs)\n",
      "  File \"/opt/conda/lib/python3.10/site-packages/torch/nn/modules/module.py\", line 1130, in _call_impl\n",
      "    return forward_call(*input, **kwargs)\n",
      "  File \"/opt/conda/lib/python3.10/site-packages/torch/nn/modules/container.py\", line 139, in forward\n",
      "    input = module(input)\n",
      "  File \"/opt/conda/lib/python3.10/site-packages/torch/nn/modules/module.py\", line 1130, in _call_impl\n",
      "    return forward_call(*input, **kwargs)\n",
      "  File \"/opt/conda/lib/python3.10/site-packages/torch/nn/modules/container.py\", line 139, in forward\n",
      "    input = module(input)\n",
      "  File \"/opt/conda/lib/python3.10/site-packages/torch/nn/modules/module.py\", line 1148, in _call_impl\n",
      "    result = forward_call(*input, **kwargs)\n",
      "  File \"/opt/conda/lib/python3.10/site-packages/torch/nn/modules/batchnorm.py\", line 135, in forward\n",
      "    self._check_input_dim(input)\n",
      "  File \"/opt/conda/lib/python3.10/site-packages/torch/nn/modules/batchnorm.py\", line 513, in _check_input_dim\n",
      "    raise ValueError(\"expected 5D input (got {}D input)\".format(input.dim()))\n",
      "ValueError: expected 5D input (got 4D input)\n",
      "                                                                                \r"
     ]
    }
   ],
   "source": [
    "run_name = f\"some_3d_run_{now_str()}\"\n",
    "\n",
    "!serotiny train \\\n",
    "    model=example_classifier_3d \\\n",
    "    data=example_dataloader_3d \\\n",
    "    mlflow.experiment_name=cytodata_chapter5 \\\n",
    "    mlflow.run_name={run_name} \\\n",
    "    trainer.gpus=[0] \\\n",
    "    trainer.max_epochs=1 "
   ]
  },
  {
   "cell_type": "markdown",
   "id": "05dde5b4-56de-4007-9a89-883e4732fadb",
   "metadata": {},
   "source": [
    "Note: The above task takes more the 16GB (it will not fit on the AWS computers) 45618MiB / 81920MiB"
   ]
  },
  {
   "cell_type": "markdown",
   "id": "b7f447fc-239d-422c-8a00-02266a3fcea1",
   "metadata": {},
   "source": [
    "### Make predictions from the pretrained model"
   ]
  },
  {
   "cell_type": "code",
   "execution_count": null,
   "id": "ed506499-7f87-4e69-b137-e0d061e9c795",
   "metadata": {
    "tags": []
   },
   "outputs": [],
   "source": [
    "!serotiny predict \\\n",
    "    model=example_classifier_3d \\\n",
    "    data=example_dataloader_3d \\\n",
    "    mlflow.experiment_name=cytodata_chapter5 \\\n",
    "    mlflow.run_name={run_name} \\\n",
    "    trainer.gpus=[0]"
   ]
  },
  {
   "cell_type": "markdown",
   "id": "4b6d0de2-90d8-41ee-8fe1-4d872cd90ace",
   "metadata": {
    "tags": []
   },
   "source": [
    "### Retrieving predictions from MLFlow"
   ]
  },
  {
   "cell_type": "code",
   "execution_count": null,
   "id": "7ec203f7-2aa3-4e8f-8e64-7b57dfa55413",
   "metadata": {
    "tags": []
   },
   "outputs": [],
   "source": [
    "mlflow.set_tracking_uri(\"https://mlflow.a100.int.allencell.org\")\n",
    "\n",
    "with download_artifact(\"predictions/model_predictions.csv\", experiment_name=\"cytodata_chapter5\", run_name=run_name) as path:\n",
    "    predictions_3d_df = pd.read_csv(path)"
   ]
  },
  {
   "cell_type": "code",
   "execution_count": null,
   "id": "67a19c7d-9a17-4d52-a90a-c1a35c841662",
   "metadata": {},
   "outputs": [],
   "source": [
    "predictions_3d_df = predictions_3d_df.merge(cells_edgeVSnoedge[['CellId','split']].rename(columns={'CellId':'id'}), on = 'id')\n",
    "predictions_3d_df\n",
    "# print(len(predictions_3d_df))"
   ]
  },
  {
   "cell_type": "code",
   "execution_count": null,
   "id": "709f5b92-21f1-4aea-a4bf-8387be444897",
   "metadata": {},
   "outputs": [],
   "source": [
    "plt.hist(predictions_3d_df.yhat.to_numpy())\n",
    "plt.show()"
   ]
  },
  {
   "cell_type": "markdown",
   "id": "fe556d11-bba4-4c7b-a935-62946d7dcb9c",
   "metadata": {
    "tags": []
   },
   "source": [
    "### Confusion matrices of train, valid and test splits "
   ]
  },
  {
   "cell_type": "code",
   "execution_count": null,
   "id": "3a75a6b4-f89d-409e-99a2-95fb26d02b93",
   "metadata": {},
   "outputs": [],
   "source": [
    "from sklearn.metrics import confusion_matrix,accuracy_score,classification_report\n",
    "\n",
    "# make confusion matrix for each split\n",
    "splits = ['train','valid','test']\n",
    "fig, axes = plt.subplots(nrows=1,ncols=len(splits),figsize=(10, 3), dpi=100)\n",
    "\n",
    "for i,split in enumerate(splits):\n",
    "    \n",
    "    y_true = predictions_3d_df[predictions_3d_df['split']==split]['y'].to_numpy()\n",
    "    y_pred = predictions_3d_df[predictions_3d_df['split']==split]['yhat'].to_numpy()\n",
    "    y_pred = np.round(y_pred) #get to crisp binary class labels from posterior probability\n",
    "\n",
    "    # Computer confusion matrix\n",
    "    cm = confusion_matrix(y_true, y_pred)    \n",
    "    score = accuracy_score(y_true,y_pred) #compute accuracy score\n",
    "    cm_df = pd.DataFrame(cm)\n",
    "    sns.heatmap(cm_df, annot=True, fmt='d',ax = axes[i])\n",
    "    axes[i].set_title(f'Accuracy on {split} is {score:.2f}')\n",
    "    axes[i].set_xlabel('True')\n",
    "    axes[i].set_ylabel('Predicted')\n",
    "\n",
    "plt.show()"
   ]
  },
  {
   "cell_type": "markdown",
   "id": "b5039aa3-3c1f-43ea-b34b-578c426b520c",
   "metadata": {},
   "source": [
    "# <a id='end'></a>Conclusion\n"
   ]
  }
 ],
 "metadata": {
  "kernelspec": {
   "display_name": "Python 3 (ipykernel)",
   "language": "python",
   "name": "python3"
  },
  "language_info": {
   "codemirror_mode": {
    "name": "ipython",
    "version": 3
   },
   "file_extension": ".py",
   "mimetype": "text/x-python",
   "name": "python",
   "nbconvert_exporter": "python",
   "pygments_lexer": "ipython3",
   "version": "3.10.6"
  }
 },
 "nbformat": 4,
 "nbformat_minor": 5
}
