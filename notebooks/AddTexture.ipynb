{
 "cells": [
  {
   "cell_type": "code",
   "execution_count": 1,
   "id": "653b6b27-18d8-4fcd-944d-0fce4de102e5",
   "metadata": {},
   "outputs": [
    {
     "name": "stderr",
     "output_type": "stream",
     "text": [
      "19-Oct-22 21:03:03 - bfio.backends - WARNING  - Java backend is not available. This could be due to a missing dependency (jpype).\n"
     ]
    }
   ],
   "source": [
    "import pandas\n",
    "import skimage.exposure\n",
    "import numpy\n",
    "import mahotas\n",
    "from aicsimageprocessing import read_ome_zarr"
   ]
  },
  {
   "cell_type": "code",
   "execution_count": 2,
   "id": "9cac37fb-8e9a-461e-82bb-650e4cd8a060",
   "metadata": {},
   "outputs": [],
   "source": [
    "def add_textures(csvname):\n",
    "\n",
    "    def measure_3D_textures(full_image,sizes,feature_dict):\n",
    "        # Channels 1,2,3 are dna, mem, structure intensities\n",
    "        # Channels 4,5,6 are dna, mem, structure segmentations\n",
    "        channels = {0:'Brightfield',1:'DNA',2:'Membrane',3:'Structure'}\n",
    "        compartments = {4:'Nucleus',5:'Cell',6:'Organelle'}\n",
    "        features = {}\n",
    "        direction_feature_names = \"\"\"AngularSecondMoment Contrast Correlation Variance\n",
    "    InverseDifferenceMoment SumAverage SumVariance SumEntropy Entropy\n",
    "    DifferenceVariance DifferenceEntropy InfoMeas1 InfoMeas2\"\"\".split()\n",
    "        n_directions = 13\n",
    "        for eachchan in channels.keys():\n",
    "            image = full_image[0,eachchan,:,:,:]\n",
    "            pixel_data = skimage.exposure.rescale_intensity(image,out_range='uint8')\n",
    "            for eachcomp in compartments.keys():\n",
    "                labels = full_image[0,eachcomp,:,:,:]\n",
    "                binary_labels = labels>0\n",
    "                label_data = pixel_data*binary_labels\n",
    "                for size in sizes:\n",
    "                    texture_features = mahotas.features.haralick(\n",
    "                            label_data, distance=size, ignore_zeros=True\n",
    "                        )\n",
    "                    for direction, direction_features in enumerate(texture_features):\n",
    "                        for feature_name, feature in zip(direction_feature_names, direction_features):\n",
    "                            object_name = \"{:}_{:}_{:}_{:02d}_{:02d}\".format(compartments[eachcomp],channels[eachchan],feature_name, direction, size)\n",
    "                            feature_dict[object_name]=feature\n",
    "        return feature_dict\n",
    "\n",
    "    sizes = [3,5,10,20]\n",
    "    feature_dict={}\n",
    "    direction_feature_names = \"\"\"AngularSecondMoment Contrast Correlation Variance\n",
    "    InverseDifferenceMoment SumAverage SumVariance SumEntropy Entropy\n",
    "    DifferenceVariance DifferenceEntropy InfoMeas1 InfoMeas2\"\"\".split()\n",
    "    directions=13\n",
    "    channels = {0:'Brightfield',1:'DNA',2:'Membrane',3:'Structure'}\n",
    "    compartments = {4:'Nucleus',5:'Cell',6:'Organelle'}\n",
    "    for eachchan in channels.keys():\n",
    "        for eachcomp in compartments.keys():\n",
    "            for direction in range(13):\n",
    "                for feature_name in direction_feature_names:\n",
    "                    for size in sizes:\n",
    "                        object_name = \"Texture_3D_{:}_{:}_{:}_{:02d}_{:02d}\".format(compartments[eachcomp],channels[eachchan],feature_name, direction, size)\n",
    "                        feature_dict[object_name]=[]\n",
    "    \n",
    "    df = pandas.read_csv(csvname)\n",
    "    for eachrow in df['3d_image']:\n",
    "        im = read_ome_zarr(eachrow).data\n",
    "        feature_dict = measure_3D_textures(im,[3,5,10,20],feature_dict)\n",
    "\n",
    "    df.join(pandas.DataFrame(feature_dict))\n",
    "    df.to_csv(csvname)\n",
    "\n",
    "                    \n"
   ]
  },
  {
   "cell_type": "code",
   "execution_count": null,
   "id": "20f9078d-d377-4fff-86c5-7329a77c53a6",
   "metadata": {},
   "outputs": [],
   "source": [
    "add_textures('../data/mitocells_truncated.csv')"
   ]
  },
  {
   "cell_type": "code",
   "execution_count": null,
   "id": "dfa6509c-f489-4d4a-8266-1aa1583cd948",
   "metadata": {},
   "outputs": [],
   "source": []
  }
 ],
 "metadata": {
  "kernelspec": {
   "display_name": "Python 3 (ipykernel)",
   "language": "python",
   "name": "python3"
  },
  "language_info": {
   "codemirror_mode": {
    "name": "ipython",
    "version": 3
   },
   "file_extension": ".py",
   "mimetype": "text/x-python",
   "name": "python",
   "nbconvert_exporter": "python",
   "pygments_lexer": "ipython3",
   "version": "3.10.6"
  }
 },
 "nbformat": 4,
 "nbformat_minor": 5
}
