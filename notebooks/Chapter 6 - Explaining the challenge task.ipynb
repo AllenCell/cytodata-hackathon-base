{
 "cells": [
  {
   "cell_type": "markdown",
   "id": "26bed1c8-fc44-4369-b188-4170a5b9e017",
   "metadata": {},
   "source": [
    "Chapter 6: Explaining the challenge task\n",
    "Suggested: Theo, everyone\n",
    "- Show the mitotic cells (n) in the dataset, explain how we got to these mitotic labels (manual annotation and machine prediction)\n",
    "- Link to integrated mitotic cell on allencell.org\n",
    "- Explain how we do the train, test, validation, split (perhaps this should be a column in the manifest, or that can be pulled into the manifest)\n",
    "- Train a simple model to predict mitotic stage based on metrics (random forests)\n",
    "- Explaining the task\n",
    "- Can you build a more advanced classifier, one with the lowest possible error on the test set?\n",
    "- Are there mislabeled cells in the dataset, i.e. those that are systematically mispredicted?\n",
    "- Which features (metrics and image channels) boost classification performance?\n",
    "- Does it help to use 3D images vs 2D images?\n",
    "- Can you report on biological observations / insights based on this task?\n",
    "\n"
   ]
  }
 ],
 "metadata": {
  "kernelspec": {
   "display_name": "Python 3 (ipykernel)",
   "language": "python",
   "name": "python3"
  },
  "language_info": {
   "codemirror_mode": {
    "name": "ipython",
    "version": 3
   },
   "file_extension": ".py",
   "mimetype": "text/x-python",
   "name": "python",
   "nbconvert_exporter": "python",
   "pygments_lexer": "ipython3",
   "version": "3.9.13"
  }
 },
 "nbformat": 4,
 "nbformat_minor": 5
}
