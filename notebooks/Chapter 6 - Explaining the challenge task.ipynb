{
 "cells": [
  {
   "cell_type": "markdown",
   "id": "414b3d06-1199-485c-81b5-9d398f8956ec",
   "metadata": {
    "tags": []
   },
   "source": [
    "# 6 Explaining the challenge task\n",
    "**Estimated time to run through notebook is 20 minutes** \n",
    "\n",
    "This notebook shows how to\n",
    "-  [Load libraries, predefine some functions, and load the manifest](#preprocessing)\n",
    "-  [6.1 Mitotic cells in the dataset](#make)\n",
    "-  [6.2 Make a simple classifier](#rf)\n",
    "-  [6.3 Here are the hackathon tasks](#tasks)\n",
    "-  [Conclusion](#end)"
   ]
  },
  {
   "cell_type": "markdown",
   "id": "969de9f2-52d5-4abd-baa4-01aab16a049f",
   "metadata": {
    "tags": []
   },
   "source": [
    "#### Resources\n",
    "- Previous chapters"
   ]
  },
  {
   "cell_type": "markdown",
   "id": "d3b86ebc-3026-4f1a-b7f6-b114bb41dab7",
   "metadata": {
    "jp-MarkdownHeadingCollapsed": true,
    "tags": []
   },
   "source": [
    "## <a id='preprocessing'></a>Load libraries, predefine some functions, and load the manifest "
   ]
  },
  {
   "cell_type": "markdown",
   "id": "005621bb-4fbb-4cd9-bf8c-c9dbd1fdb43f",
   "metadata": {
    "tags": []
   },
   "source": [
    "### Load libraries and predefined functions"
   ]
  },
  {
   "cell_type": "code",
   "execution_count": null,
   "id": "67c64fb0-0d8f-418f-ba71-8d4c6c0ef01a",
   "metadata": {
    "tags": []
   },
   "outputs": [],
   "source": [
    "import logging\n",
    "logging.getLogger(\"bfio\").setLevel(logging.ERROR)\n",
    "logging.getLogger(\"bfio.backends\").setLevel(logging.ERROR)\n",
    "logging.getLogger(\"aicsimageio\").setLevel(logging.ERROR)\n",
    "\n",
    "from upath import UPath as Path\n",
    "import pandas as pd\n",
    "import numpy as np\n",
    "import matplotlib.pyplot as plt\n",
    "import seaborn as sns\n",
    "import nbvv\n",
    "import os\n",
    "import warnings\n",
    "from aicsimageio import transforms, AICSImage\n",
    "from aicsimageprocessing import diagnostic_sheet, read_ome_zarr, rescale_image, imgtoprojection\n",
    "\n",
    "from serotiny.io.image import image_loader\n",
    "from cytodata_aics.io_utils import rescale_image"
   ]
  },
  {
   "cell_type": "markdown",
   "id": "9eb943ee-4df7-45a4-935f-dbc7869b9c73",
   "metadata": {
    "tags": []
   },
   "source": [
    "### Load the manifest and explore dimensions"
   ]
  },
  {
   "cell_type": "code",
   "execution_count": null,
   "id": "6146df3c-d6e2-45f1-a27e-3619ed42943d",
   "metadata": {
    "tags": []
   },
   "outputs": [],
   "source": [
    "df = pd.read_parquet(\"s3://allencell-cytodata-variance-data/processed/hackathon_manifest_09292022.parquet\")\n",
    "print(f'Number of cells: {len(df)}')\n",
    "print(f'Number of columns: {len(df.columns)}')"
   ]
  },
  {
   "cell_type": "markdown",
   "id": "33867e05-2d60-421e-a9df-7e3fa97bb8bc",
   "metadata": {
    "jp-MarkdownHeadingCollapsed": true,
    "tags": []
   },
   "source": [
    "## <a id='make'></a> 6.1 Mitotic cells in the dataset"
   ]
  },
  {
   "cell_type": "markdown",
   "id": "c5349487-ada9-4802-8a30-d7e91d803c6e",
   "metadata": {},
   "source": [
    " ### Make a bar plot of the number of mitotic cells in the dataset"
   ]
  },
  {
   "cell_type": "code",
   "execution_count": null,
   "id": "3da2cc8e-ee18-4b90-9cd9-966b3a2f9d62",
   "metadata": {},
   "outputs": [],
   "source": [
    "%matplotlib inline\n",
    "plt.style.use('seaborn-v0_8-white')   #print(plt.style.available)\n",
    "# Code from Chapter 4 to make a bar plot\n",
    "table = pd.pivot_table(df, index=\"cell_stage\", aggfunc=\"size\")\n",
    "fig, axes = plt.subplots(figsize=(20, 7), dpi=100)\n",
    "table.plot.barh(stacked=True, ax=axes)\n",
    "axes.set_ylabel(None)\n",
    "axes.set_title(\"Structures and Cell Stage\")\n",
    "axes.grid(True, which=\"major\", axis=\"x\")\n",
    "axes.set_axisbelow(True)\n",
    "axes.invert_yaxis()\n",
    "plt.show()"
   ]
  },
  {
   "cell_type": "code",
   "execution_count": null,
   "id": "304ac7c0-6093-430e-8259-d23f1c8f03ba",
   "metadata": {},
   "outputs": [],
   "source": [
    "# Print the numbers\n",
    "print(table)"
   ]
  },
  {
   "cell_type": "markdown",
   "id": "37fc4a91-d082-43dc-b213-8018f9031d19",
   "metadata": {},
   "source": [
    "### Make a mitotic dataset for the challenge"
   ]
  },
  {
   "cell_type": "code",
   "execution_count": null,
   "id": "e79aefc2-fac2-4d4c-805d-b7531a0d0d47",
   "metadata": {},
   "outputs": [],
   "source": [
    "#From Chapter 5\n",
    "#loading library, making path for \n",
    "from serotiny.transforms.dataframe.transforms import split_dataframe\n",
    "Path(\"/home/aicsuser/serotiny_data/\").mkdir(parents=True, exist_ok=True)\n",
    "\n",
    "# Sample n cells per group\n",
    "n = 2000 # number of cells per mitotic class\n",
    "cells_to_include=[]\n",
    "for name, group in df.groupby('cell_stage'):    \n",
    "    sampled_group = group.sample(min([n,len(group)]))\n",
    "    cells_to_include.append(sampled_group)\n",
    "df_mitocells = pd.concat(cells_to_include).reset_index(drop=True)\n",
    "\n",
    "# Discarding all the M6M7_single cells\n",
    "df_mitocells = df_mitocells.drop(df_mitocells[df_mitocells['cell_stage']=='M6M7_single'].index)\n",
    "\n",
    "# Add the train, test and validate split\n",
    "df_mitocells = split_dataframe(dataframe=df_mitocells, train_frac=0.7, val_frac=0.2, return_splits=False)\n",
    "\n",
    "df_mitocells.to_csv(\"/home/aicsuser/serotiny_data/mitocells.csv\") \n",
    "print(f\"Number of cells: {len(df_mitocells)}\")\n",
    "print(f\"Number of columns: {len(df_mitocells.columns)}\")"
   ]
  },
  {
   "cell_type": "code",
   "execution_count": null,
   "id": "0b6d447f-67c2-4b05-ab66-15845ca0e4f1",
   "metadata": {},
   "outputs": [],
   "source": [
    "# The bar plot again\n",
    "%matplotlib inline\n",
    "plt.style.use('seaborn-v0_8-white')   #print(plt.style.available)\n",
    "# Code from Chapter 4 to make a bar plot\n",
    "table = pd.pivot_table(df_mitocells, index=\"cell_stage\", aggfunc=\"size\")\n",
    "fig, axes = plt.subplots(figsize=(20, 7), dpi=100)\n",
    "table.plot.barh(stacked=True, ax=axes)\n",
    "axes.set_ylabel(None)\n",
    "axes.set_title(\"Structures and Cell Stage\")\n",
    "axes.grid(True, which=\"major\", axis=\"x\")\n",
    "axes.set_axisbelow(True)\n",
    "axes.invert_yaxis()\n",
    "plt.show()\n",
    "print(table)"
   ]
  },
  {
   "cell_type": "markdown",
   "id": "11a21e5f-2ce1-437a-8ccc-ec45599dd85f",
   "metadata": {},
   "source": [
    "### Why do we remove the M6M7_single cells?"
   ]
  },
  {
   "cell_type": "code",
   "execution_count": null,
   "id": "78521d9f-8ac0-418b-84fa-f7c5fefbc0c7",
   "metadata": {},
   "outputs": [],
   "source": [
    "# From Chapter 3\n",
    "# Lets sample 20 cells of non edge (0) and edge (1) cells\n",
    "df_sample = df.loc[df['cell_stage'].isin(['M6M7_complete','M6M7_single'])]\n",
    "df_sample = df_sample.groupby('cell_stage').apply(lambda x: x.sample(20)).reset_index(drop=True)"
   ]
  },
  {
   "cell_type": "code",
   "execution_count": null,
   "id": "d4e9bad7-5cfc-42d9-9b51-dec9dfba410a",
   "metadata": {},
   "outputs": [],
   "source": [
    "# Now, lets make 2 diagnostic sheets for non edge and edge cells \n",
    "# Here we can also specify a feature to be added as text on the plot\n",
    "# In this example, we plot nuclear height (column name MEM_position_depth)\n",
    "\n",
    "# This may take some time depending on the number of images being projected\n",
    "plt.style.use(\"dark_background\")\n",
    "warnings.simplefilter(action='ignore', category=FutureWarning)\n",
    "\n",
    "diagnostic_sheet(df_sample, \n",
    "                 save_dir = \"./\", # Created a diagnostic_sheets folder in the current working dir\n",
    "                 image_column = \"registered_path\", # Pass in the 3D image path or one of the 2D image paths like max_projection_x\n",
    "                 max_cells=25, # max cells per sheet\n",
    "                 channels = [1,2,3], # DNA, Membrane, Structure intensity channels\n",
    "                 colors = [[0, 1, 1], [1, 0, 1], [1,1,1]], # Cyan, Magenta, White\n",
    "                 proj_method = \"max\", # options - max, mean, sum\n",
    "                 metadata = \"cell_stage\", # Optional, Metadata to stratify the diagnostic sheets\n",
    "                 feature = \"cell_volume\", # Optional, Feature to add as text,\n",
    "                 fig_width = None, # Default is number of columns * 7\n",
    "                 fig_height = None, # Default is number of rows * 5,\n",
    "                 distributed_executor_address = None, # An optional executor address to pass to some computation engine.\n",
    "                 batch_size = None, # process all at once\n",
    "                 overwrite=True)\n",
    "\n",
    "\n"
   ]
  },
  {
   "cell_type": "code",
   "execution_count": null,
   "id": "6c30bb30-7ede-450a-80b8-3ef6b5948609",
   "metadata": {},
   "outputs": [],
   "source": [
    "# Lets load up the saved diagnostic sheets and compare edge and non edge cells\n",
    "# For a more zoomed in view, click on the image directly and view it in the browser\n",
    "fig, (ax, ax1) = plt.subplots(1,2,figsize=(20,20))\n",
    "ax.imshow(plt.imread(os.getcwd() + \"/diagnostic_sheets/\" + \"cell_stage_M6M7_complete_1.png\"))\n",
    "ax1.imshow(plt.imread(os.getcwd() + \"/diagnostic_sheets/\" + \"cell_stage_M6M7_single_1.png\"))\n",
    "ax.set_axis_off()\n",
    "ax.set_title('M6M7_complete cells')\n",
    "ax1.set_axis_off()\n",
    "ax1.set_title('M6M7_single cells')"
   ]
  },
  {
   "cell_type": "code",
   "execution_count": null,
   "id": "6a4d429d-1006-4de5-98b1-e8150782b2d0",
   "metadata": {},
   "outputs": [],
   "source": [
    "# Visualize a cell\n",
    "# From Chapter 3\n",
    "import nbvv\n",
    "from aicsimageprocessing import read_ome_zarr\n",
    "\n",
    "# Boolean Indexing\n",
    "a_cell =df[\n",
    "    (df['gene'] == \"TUBA1B\") &       #microtubules\n",
    "    (df['cell_stage'] == \"M6M7_complete\")    \n",
    "].sample(1).iloc[0]\n",
    "\n",
    "full_img = read_ome_zarr(a_cell[\"registered_path\"])\n",
    "img_data = full_img.data.squeeze()\n",
    "print(img_data.shape)\n",
    "channel_names = full_img.channel_names\n",
    "print(channel_names)\n",
    "\n",
    "nbvv.volshow(\n",
    "    img_data,\n",
    "    spacing=[1,1,1],  # fullb_img.physical_pixel_sizes,\n",
    "    channel_names=channel_names\n",
    ")"
   ]
  },
  {
   "cell_type": "markdown",
   "id": "7afda919-3c05-4f76-9cc1-7044e036b986",
   "metadata": {
    "jp-MarkdownHeadingCollapsed": true,
    "tags": []
   },
   "source": [
    "## <a id='rf'></a> 6.2 Make a simple classifier"
   ]
  },
  {
   "cell_type": "code",
   "execution_count": null,
   "id": "6b9440fc-1ffb-49c0-948e-a2f4dafbe5d0",
   "metadata": {},
   "outputs": [],
   "source": [
    "#Adapted from Chapter 4\n",
    "# Import RF classifier and confusion matrix functionality\n",
    "from sklearn.ensemble import RandomForestClassifier\n",
    "from sklearn.metrics import confusion_matrix,accuracy_score,classification_report\n",
    "\n",
    "# Initialize classifer\n",
    "# clf = RandomForestClassifier(max_depth=2, random_state=0)\n",
    "clf = RandomForestClassifier(max_depth=2, random_state=0, class_weight='balanced')\n",
    "\n",
    "# Make the dataset (features matrix X and class labels y)\n",
    "selected_features = ['nuclear_volume','nuclear_height','nuclear_surface_area',\n",
    "                     'cell_volume','cell_height','cell_surface_area',\n",
    "                    ]\n",
    "Xy_train = df_mitocells[df_mitocells['split']=='train'][[*selected_features, 'cell_stage']].dropna(axis=0).to_numpy()\n",
    "X_train = Xy_train[:,0:-1]\n",
    "y_train = Xy_train[:,-1]\n",
    "print(Xy_train.shape)\n",
    "Xy_test = df_mitocells[df_mitocells['split']=='test'][[*selected_features, 'cell_stage']].dropna(axis=0).to_numpy()\n",
    "X_test = Xy_test[:,0:-1]\n",
    "y_test = Xy_test[:,-1]\n",
    "print(Xy_test.shape)\n",
    "\n",
    "# Fit the model\n",
    "clf.fit(X_train, y_train)\n",
    "# Apply the model (to the training dataset)\n",
    "y_trainpred = clf.predict(X_train)\n",
    "# Apply the model (to the test dataset)\n",
    "y_testpred = clf.predict(X_test)\n",
    "\n",
    "# Show performance as a confusion matrix\n",
    "cm_train = confusion_matrix(y_train, y_trainpred, labels = df_mitocells['cell_stage'].unique())                        \n",
    "cm_test = confusion_matrix(y_test, y_testpred, labels = df_mitocells['cell_stage'].unique())                        \n",
    "\n",
    "# plot it\n",
    "labels = df_mitocells['cell_stage'].unique()\n",
    "cm_train_df = pd.DataFrame(cm_train)\n",
    "cm_test_df = pd.DataFrame(cm_test)\n",
    "score_train = accuracy_score(y_test,y_testpred) #compute accuracy score\n",
    "score_test = accuracy_score(y_train,y_trainpred) #compute accuracy score\n",
    "fig, axes = plt.subplots(nrows=1, ncols=2, figsize=(15, 5), dpi=100)\n",
    "#train\n",
    "sns.heatmap(cm_train_df, annot=True, fmt='d',ax=axes[0])\n",
    "axes[0].set_title(f'Train accuracy is {score_train:.2f}')\n",
    "axes[0].set_ylabel('True')\n",
    "axes[0].set_xlabel('Predicted')\n",
    "axes[0].set_xticklabels([''] + labels)\n",
    "axes[0].set_yticklabels([''] + labels)\n",
    "#test\n",
    "sns.heatmap(cm_test_df, annot=True, fmt='d',ax=axes[1])\n",
    "axes[1].set_title(f'Test accuracy is {score_test:.2f}')\n",
    "axes[1].set_ylabel('True')\n",
    "axes[1].set_xlabel('Predicted')\n",
    "axes[1].set_xticklabels([''] + labels)\n",
    "axes[1].set_yticklabels([''] + labels)\n",
    "plt.show()\n"
   ]
  },
  {
   "cell_type": "markdown",
   "id": "49ea6376-614f-4bc9-87cf-e64b6b6f55f4",
   "metadata": {
    "jp-MarkdownHeadingCollapsed": true,
    "tags": []
   },
   "source": [
    "## <a id='tasks'></a> 6.3 Here are the hackathon tasks"
   ]
  },
  {
   "cell_type": "markdown",
   "id": "53792b3c-1804-4f4a-b1fc-64ca237e958a",
   "metadata": {},
   "source": [
    "#### Performance and  Feature Interpretation\n",
    "- Can you build a more advanced classifier, one with the lowest possible error on the test set?\n",
    "- Which features (metrics and image channels) boost classification performance?\n",
    "- Does it help to use 3D images vs 2D images?\n",
    "- Can you classify cell cycle stage based on the bright-field channel?\n",
    "- Are there mislabeled cells in the dataset, i.e. cells that are systematically mis-predicted or that appear as outliers given their mitotic stage?\n",
    "  - Are mistakes enriched in a particular cell line?\n",
    "#### Structure specific tasks\n",
    "- If you focus on one specific cell line / marker / structure, e.g. microtubules, can you describe/use differences across the mitotic stages\n",
    "  - Can you use the structure channel within a cell line to distinguish mitotic stages? How does this relate to different structures? Is it easier for one structure vs. another?\n",
    "#### Latent spaces\n",
    "- Can you build an auto-encoder for the various cell-cycle stages and generate representative metrics/images for each cell cycle stage?\n",
    "- Can you build a pseudo-time trajectory and project organelle metrics, such as volume, over the cell cycle?\n",
    "\n"
   ]
  },
  {
   "cell_type": "markdown",
   "id": "c0f5e841-8fd2-4ff9-9751-adcee962bd61",
   "metadata": {},
   "source": [
    "# <a id='end'></a>Conclusion\n",
    "In this chapter we prepared the mitotic dataset for the hackathon tasks. Now you are ready to form teams and discuss with your team which task(s) you will tackle and how. The hackacthon assistants are ready to actively engage with you."
   ]
  }
 ],
 "metadata": {
  "kernelspec": {
   "display_name": "Python 3 (ipykernel)",
   "language": "python",
   "name": "python3"
  },
  "language_info": {
   "codemirror_mode": {
    "name": "ipython",
    "version": 3
   },
   "file_extension": ".py",
   "mimetype": "text/x-python",
   "name": "python",
   "nbconvert_exporter": "python",
   "pygments_lexer": "ipython3",
   "version": "3.10.6"
  }
 },
 "nbformat": 4,
 "nbformat_minor": 5
}
