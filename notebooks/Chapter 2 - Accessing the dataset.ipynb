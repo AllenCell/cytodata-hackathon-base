{
 "cells": [
  {
   "cell_type": "markdown",
   "id": "36b67fed-d335-491d-a933-30a5ff088a6c",
   "metadata": {
    "tags": []
   },
   "source": [
    "# 2 - Accessing the Dataset\n",
    "**Estimated time to run through notebook is 20 minutes** \n",
    "\n",
    "This notebook is split into the following sections:\n",
    "- [Load libraries, predefine some functions](#preprocessing)\n",
    "- [2.1 Understanding the dataset](#understanding)\n",
    "- [2.2 Subsetting the dataset](#sub)\n",
    "- [2.3 Interacting with the dataset](#interact) \n",
    "- [2.4 Interacting with a table to query column descriptions](#columns)\n",
    "- [Conclusion](#conclusion)"
   ]
  },
  {
   "cell_type": "markdown",
   "id": "82ba4ce4-3be5-4c94-89c8-42df460f9476",
   "metadata": {},
   "source": [
    "#### Resources\n",
    "- Jupyter Notebooks - https://jupyter-notebook.readthedocs.io/en/stable/notebook.html The Jupyter Notebook team has lots of great documentation regarding the use of notebook. Check it out if you are interested in learning more.\n",
    "- pandas for reading and slicing manifests - https://pandas.pydata.org Pandas is a python package that is regulary used throughout this workshop. You may have some extra questions or need some practice with this package. Check out the [tutorials](https://pandas.pydata.org/docs/getting_started/tutorials.html) and the [documentation](https://pandas.pydata.org/docs/user_guide/index.html#user-guide) for more information.\n",
    "- plotly for plotting - https://plotly.com/python/getting-started/\n",
    "\n"
   ]
  },
  {
   "cell_type": "markdown",
   "id": "8d5e7403-458d-422d-bd4f-7006d8e044e5",
   "metadata": {
    "jp-MarkdownHeadingCollapsed": true,
    "tags": []
   },
   "source": [
    "## <a id='preprocessing'></a>Load libraries, predefine some functions"
   ]
  },
  {
   "cell_type": "markdown",
   "id": "44959898-16c2-41bf-bb4b-b2f9c0c79a5b",
   "metadata": {
    "tags": []
   },
   "source": [
    "### Load libraries and predefined functions"
   ]
  },
  {
   "cell_type": "markdown",
   "id": "e6e3b7ed-9641-46a5-afb9-21e877f22cc1",
   "metadata": {},
   "source": [
    "Every chapter starts with a block of code that will import packages and functions that will be used downstream for parsing, analysis and visualization."
   ]
  },
  {
   "cell_type": "code",
   "execution_count": null,
   "id": "c3f9cbfe-57ae-465e-bb3e-fa2fa2a58107",
   "metadata": {},
   "outputs": [],
   "source": [
    "import warnings\n",
    "import pandas as pd\n",
    "import plotly.express as px\n",
    "import numpy as np"
   ]
  },
  {
   "cell_type": "markdown",
   "id": "16b411aa-c3fd-4a89-8187-aeb35e239b98",
   "metadata": {
    "jp-MarkdownHeadingCollapsed": true,
    "tags": []
   },
   "source": [
    "## <a id='understanding'></a> 2.1 Understanding the dataset"
   ]
  },
  {
   "cell_type": "markdown",
   "id": "1c98d2db-8836-4d7a-a183-795f8aae9569",
   "metadata": {
    "tags": []
   },
   "source": [
    "### The hiPSC Single-Cell Image Dataset\n",
    "Our dataset consists of 3D live-cell images of *normal human induced pluripotent stem cells (hiPSCs)*, which are a useful human cell model system. The dataset includes 25 cell lines representing fluorescently tagged major organelles, cellular structures, and compartments. Images of these cells were obtained in 3D using spinning-disk confocal microscopes and were further processed using deep learning-based segmentation.\n",
    "\n",
    "<img src=\"resources/hipsc_single_cell_image_dataset_summary.png\"/>\n",
    "\n",
    "As was described in the first chapter, the dataset consists of 25 different fluorescently tagged proteins that we use to visualize some of the majore organelles. Below you'll find a table that describes the gene, protein, a description, where in the cell the protein is generally locatated, as well the structure that the protein represents."
   ]
  },
  {
   "cell_type": "code",
   "execution_count": null,
   "id": "5f3e4f40-c7c0-4368-97bc-40cc1a8db255",
   "metadata": {},
   "outputs": [],
   "source": [
    "import plotly.graph_objects as go\n",
    "cell_line_anno = pd.read_csv(\"resources/cell_line_annotation.txt\",delimiter=\"\\t\")\n",
    "\n",
    "fig_tab = go.Figure(\n",
    "    data=[go.Table(\n",
    "        columnwidth=[80,80,400,80,80],\n",
    "        header=dict(values=list(cell_line_anno.columns),\n",
    "            fill_color='paleturquoise',\n",
    "            align = 'left'),\n",
    "        cells=dict(values=[cell_line_anno.Gene,cell_line_anno.Protein,cell_line_anno['Description (from Uniprot)'],cell_line_anno['Cellular Component'],cell_line_anno.Structure],\n",
    "                   fill_color='lavender',\n",
    "                   align='left'))\n",
    "\n",
    "    ]\n",
    ")\n",
    "fig_tab.update_layout(\n",
    "    margin=dict(\n",
    "        l=10,\n",
    "        r=10,\n",
    "        b=10,\n",
    "        t=10,\n",
    "        pad=4\n",
    "    ),\n",
    ")\n",
    "fig_tab.show(renderer=\"jupyterlab\")"
   ]
  },
  {
   "cell_type": "markdown",
   "id": "8773a167-41b2-41bf-8c81-d1974bc968d1",
   "metadata": {
    "tags": []
   },
   "source": [
    "### From FOVs to single-cell images\n",
    "The original hiPSC Single-Cell Image dataset consists of **215,081** single-cell images which were extracted from **18,100** fields of view (FOVs) of our cell colonies. Segmentations were computed at the FOV level using the Allen Cell and Structure Segmenter (Chen et al., 2018), with code and trained models available at https://github.com/AllenCell/segmenter_model_zoo. Single cells were extracted from the FOVs using the cell segmentation results. All images were rescaled to isotropic voxel sizes by interpolating along the z dimension to upscale the voxel size from 0.108333 $\\mu$m x 0.108333 $\\mu$m x 0.29 $\\mu$m  to 0.108333 $\\mu$m x 0.108333 $\\mu$m x 0.108333 $\\mu$m. ROIs were determined by extending the 3D bounding box of the cell by 40 pixels in x and y, and 10 pixels in z. \n",
    "\n",
    "The single-cell images were further processed via a filtering in which outliers were identified based on cell and nuclear metrics e.g. cell surface area and nuclear volume. For our purposes we have removed any cells that were originally identified as an  `outlier` from our processing. The version of the dataset we're working with has outliers removed, resulting in **214,037** single-cell images. The code for this processing is available at https://github.com/AllenCell/cvapipe_analysis/tree/master/cvapipe_analysis/steps/preprocessing. You'll learn more about the cell processing steps in the next chapter.\n"
   ]
  },
  {
   "cell_type": "markdown",
   "id": "e137e7e5-ba90-413b-8f9f-a83ddbd3cd3b",
   "metadata": {
    "tags": []
   },
   "source": [
    "#### Load the manifest\n",
    "\n",
    "In order to access the dataset we have created a manifest where each row is a cell and each column has different meta-data, metrics, and paths relating to those cells. This will be the primarily way to access and manipulate the data. We begin by first loading the manifest using the pandas read_parquet function. We then set the index of the data frame using the CellId column to ensure that the CellId is propgated throughout any of our filtering steps."
   ]
  },
  {
   "cell_type": "code",
   "execution_count": null,
   "id": "91a51b69-aab2-44e6-a71d-05350769706e",
   "metadata": {},
   "outputs": [],
   "source": [
    "df = pd.read_parquet(\"s3://allencell-hipsc-cytodata/hackathon_manifest_17oct2022.parquet\")\n",
    "df.set_index(df['CellId'].astype(int), inplace=True)\n",
    "print(f'Number of cells: {len(df)}')\n",
    "print(f'Number of columns: {len(df.columns)}')"
   ]
  },
  {
   "cell_type": "markdown",
   "id": "ef8e4f21-9bed-431f-bcfe-cc2d5dfef989",
   "metadata": {},
   "source": [
    "The manifest contains **214037** rows which represent the cells and **77** columns of metrics, metadata, and image paths which will be described later!"
   ]
  },
  {
   "cell_type": "markdown",
   "id": "8cbae424-b92e-4be5-beac-0dccdb00cb47",
   "metadata": {},
   "source": [
    "### Overview - FOVs per gene"
   ]
  },
  {
   "cell_type": "markdown",
   "id": "e6ecbff2-37f3-4d11-a24a-9633688cd18c",
   "metadata": {},
   "source": [
    "The cell images came from over 18K FOVs and are scattered across the 25 different cell lines. We can parse the manifest and utilize it to understand how many FOV's were captured per gene.  The below code takes the manifest `df` and groups the data by the `gene` column. This allows us to perform any operation on our grouped data, and in this instance we'll access the`FOVId` column and count the number of FOVId's that were captured per gene."
   ]
  },
  {
   "cell_type": "code",
   "execution_count": null,
   "id": "914e0761-b432-4e30-a83e-becf0df259f8",
   "metadata": {},
   "outputs": [],
   "source": [
    "fig_fovstruc = px.bar(df.groupby(['gene']).FOVId.nunique(),text_auto=True,title=\"# of FOV per gene\")\n",
    "fig_fovstruc.update_layout(xaxis=dict(categoryorder=\"total descending\"),overwrite=True)\n",
    "fig_fovstruc.show()"
   ]
  },
  {
   "cell_type": "markdown",
   "id": "206a165a-0080-4318-be69-c186aa9811df",
   "metadata": {},
   "source": [
    "The number of FOVs isn't evenly distributed between the cell lines! It ranges from almost 2000 to 150 FOVs per cell line.\n",
    "\n",
    "The groupby function is very handy for performing operations across different grouped columns. For example we can easily replace the above code with a different column - say `cell component` to understand how many FOVs were captured for structures residing in particular cellular localizations."
   ]
  },
  {
   "cell_type": "code",
   "execution_count": null,
   "id": "b239600b-53ef-4502-8b71-843ac5cfe270",
   "metadata": {},
   "outputs": [],
   "source": [
    "fig_fovstruc = px.bar(df.groupby(['Cellular Component']).FOVId.nunique(),text_auto=True,title=\"# of FOV per cellular localization\")\n",
    "fig_fovstruc.update_layout(xaxis=dict(categoryorder=\"total descending\"),overwrite=True)\n",
    "fig_fovstruc.show()"
   ]
  },
  {
   "cell_type": "markdown",
   "id": "9a633c1c-2641-4ce4-b92f-84cd735f230f",
   "metadata": {
    "tags": []
   },
   "source": [
    "### Overview - Cells per FOV\n",
    "\n",
    "Each FOV contains a different numbers of cells that is determined by a variety of factors including confluency (how dense the cells are on the plate) as well as colony position (some FOVs can be centered on the colony while others are at the edges of our colonies). We can quickly look at the number of cells per FOV by using our groupby function. However in this case, we'll do some more advanced filtering in order to retain an FOVId which we will use in the next step.\n",
    "\n",
    "The code below groups the manifest again by `gene` and then again counts the number cells contained in each`FOVId` and creates a new dataframe `cell_count_per_FOV` this ultimately is used to create a dataframe that has FOVID and cell count as the columns all grouped by the `gene`. We can then plot this as a combination violin and box plot to understand the distribution of cells per FOV."
   ]
  },
  {
   "cell_type": "code",
   "execution_count": null,
   "id": "e7601212-66a2-456f-aa67-15f3651cf142",
   "metadata": {},
   "outputs": [],
   "source": [
    "cells_per_fov = (\n",
    "    df.groupby('gene').FOVId \n",
    "    .value_counts()\n",
    "    .to_frame(name=\"cell_count_per_FOV\")\n",
    "    .reset_index()\n",
    "    .set_index('FOVId')\n",
    "    .merge(\n",
    "        df[['FOVId']]\n",
    "        .drop_duplicates(subset=['FOVId'])\n",
    "        .set_index('FOVId'),\n",
    "        left_index=True,\n",
    "        right_index=True\n",
    "    )\n",
    "    .reset_index()\n",
    ")"
   ]
  },
  {
   "cell_type": "code",
   "execution_count": null,
   "id": "afb00a68-2124-4c0c-a0d0-720a63c545c5",
   "metadata": {},
   "outputs": [],
   "source": [
    "fig_cells_fov = px.violin(\n",
    "    cells_per_fov,\n",
    "    x=cells_per_fov.gene,\n",
    "    y=cells_per_fov.cell_count_per_FOV,\n",
    "    box=True,\n",
    "    points='all',\n",
    "    color=cells_per_fov.gene,\n",
    "    hover_data=cells_per_fov,\n",
    "    title=\"Cells per FOV for each gene\"\n",
    ")\n",
    "fig_cells_fov.show()"
   ]
  },
  {
   "cell_type": "markdown",
   "id": "a25feb60-ce50-4ee4-8286-8bb9c1be8209",
   "metadata": {},
   "source": [
    "Visualizing the data we can see that overall the distribution of the number of cells is consistent through the different cell lines. We can see that it FOV's generally contain between 2 and 20+ cells with a median around 14.  Though the FOV data is not included for the purposes of this task we can still visualize the FOVs as they are publically available data.  First we'll create a simple function that uses the FOVId to identify a Cell ID which we can use in our browser based cell viewer. You'll learn more ways to visualize the cells in the next chapters. But for now we can take a quick peek with the link below."
   ]
  },
  {
   "cell_type": "code",
   "execution_count": null,
   "id": "4ffa2aad-99e7-4f30-9baa-0462c5e295b7",
   "metadata": {},
   "outputs": [],
   "source": [
    "def generate_url(FOV_of_interest):\n",
    "    cell_id = df[df['FOVId']==FOV_of_interest].CellId.tolist()[0]\n",
    "    print(f\"Click this link https://allen-cell-animated.github.io/website-3d-cell-viewer/?dataset=aics_hipsc_v2021.1&id={int(cell_id)} and select the Full Field at the top of the screen\")"
   ]
  },
  {
   "cell_type": "markdown",
   "id": "b553605b-2156-49d5-b4cc-9f73afef4c2e",
   "metadata": {},
   "source": [
    "We can hover the data from the violin plot above and select the highest point within the **ACTB** scatter plot and see that the **FOVID is 5785**. We'll use this to look at an FOV with 34 cells! "
   ]
  },
  {
   "cell_type": "code",
   "execution_count": null,
   "id": "e5e49c89-a798-4d4a-b21c-73c367446510",
   "metadata": {},
   "outputs": [],
   "source": [
    "FOV_of_interest = 5785 # CHANGE ME -  Enter FOV of interest in this case 5785 which comes from the max number of cells of of ACTB\n",
    "generate_url(FOV_of_interest)"
   ]
  },
  {
   "cell_type": "markdown",
   "id": "32fce355-fc5a-43ed-b3ea-23566ef7b0b7",
   "metadata": {},
   "source": [
    "The above code is just one of the many ways you'll learn how to visualize the cells that is included in **Chapter 3**."
   ]
  },
  {
   "cell_type": "markdown",
   "id": "7e654219-ee8c-4362-97df-4f82290424e2",
   "metadata": {
    "tags": []
   },
   "source": [
    "### Overview - Cells per gene\n",
    "\n",
    "The dataset consists of over 200K cells and based on the number distribution of FOVs we can assume that they are not evenly spraed across the 25 cell lines. We can visualize the number of cells per gene by further parsing the data frame."
   ]
  },
  {
   "cell_type": "code",
   "execution_count": null,
   "id": "42b34da5-9424-46ed-acbf-1c69ea0289c0",
   "metadata": {},
   "outputs": [],
   "source": [
    "fig_total = px.bar(df.gene.value_counts(),text_auto=True,title=\"Total cells per gene\",labels=dict(value=\"# of Cells\"))\n",
    "fig_total.show()"
   ]
  },
  {
   "cell_type": "markdown",
   "id": "f98e656b-c1b0-404e-b591-2b90111e31dd",
   "metadata": {
    "jp-MarkdownHeadingCollapsed": true,
    "tags": []
   },
   "source": [
    "## <a id='sub'></a> 2.2 Subsetting the dataset"
   ]
  },
  {
   "cell_type": "markdown",
   "id": "b460331d-7cbc-4f54-ba46-60e3797aac7f",
   "metadata": {
    "tags": []
   },
   "source": [
    "### Dataset Categories\n",
    "\n",
    "The dataset is quite complex representing multiple cell lines that span different cellular structures as well cellular localizations. In addition we have **78** metadata columns that are associated with each cell! In order to help with parsing we have broken down the dataset columns into 4 Categories [`cell metadata`, `field-of-view metadata`,`cell metric`,`cell images`] with a brief description of them below:\n",
    "\n",
    "**cell metadata**: These 10 columns contain metadata pertaing to the cells, for example the cell cycle stage (cell_stage) and the tagged structure name (Structure).\n",
    "\n",
    "**field-of-view metadata**: These 20 columns that annotate the field-of-view including: instrument used (instrumentId) plate confluency (meta_plate_confluency) and more.\n",
    "\n",
    "**cell metric**: These 36 columns are metrics that pertain to the cell such as angle of rotation and bounding box information, structure volume, and nuclear volume.\n",
    "\n",
    "**cell images**: These 11 columns give the paths to various types of images including max projections and center slices.\n",
    "\n",
    "<img src=\"resources/Chapter2_columns.jpeg\"/>\n",
    "\n",
    "\n",
    "For ease of use we've decided to use a pivot table in order to filter the columns. We'll give some examples on how this will work below. First we need to read in the pivot table."
   ]
  },
  {
   "cell_type": "code",
   "execution_count": null,
   "id": "df898cec-4244-4ba8-a281-51d39c4cf706",
   "metadata": {},
   "outputs": [],
   "source": [
    "col_df = pd.read_csv(\"resources/hackathon_column_descriptions.csv\",delimiter=\",\")\n",
    "col_df.columns = [\"column name\",\"description\",\"category\"]\n",
    "col_df.head(3)"
   ]
  },
  {
   "cell_type": "markdown",
   "id": "4c9215f3-b8b6-42f6-99cc-0a57b6af44d4",
   "metadata": {
    "tags": []
   },
   "source": [
    "### Creating Sub-Datasets"
   ]
  },
  {
   "cell_type": "markdown",
   "id": "ad5457f5-835a-4dd6-8f90-45bce0c2c581",
   "metadata": {},
   "source": [
    "With the pivot table we can quickly and easily parse the data set select out specific categories of data. For example, if we wanted to see all the columns that pertained to the *cell metatdata* we would use the code below. \n",
    "We take our dataframe `df` and filter for only the `column name` that are associated with `cell metadata` in our pivot table `col_df`. "
   ]
  },
  {
   "cell_type": "code",
   "execution_count": null,
   "id": "34829c61-e6d4-4d42-bdd4-3a8d138c9483",
   "metadata": {},
   "outputs": [],
   "source": [
    "df_cell_metadata = df.filter(items=(col_df[col_df.category==\"cell metadata\"]['column name']))\n",
    "df_cell_metadata.head(3)"
   ]
  },
  {
   "cell_type": "markdown",
   "id": "2b5c7838-b16b-4f71-9e8e-1bac394d5ab0",
   "metadata": {},
   "source": [
    "The above code can be changed to any of the four categories [`cell metadata`, `field-of-view metadata`,`cell metric`,`cell images`] to quickly get the corresponding information. In section 2.4 we have verbose descriptions of our columns which will allow you to get a better understanding of what each of these values represents."
   ]
  },
  {
   "cell_type": "markdown",
   "id": "959ec25e-1c00-46bf-baa8-6ab60750ef9f",
   "metadata": {
    "tags": []
   },
   "source": [
    "#### Compute mean volume of cells by cell line\n",
    "\n",
    "We've already previously learned of ways to split the data based on the broad column categories such as cell_metadata. But we can also quickly operate on specific columns in the usual pandas syntax. For example the cells all have a metric for `cell_volume`. A question we may have is if all the cell lines had a simliar cell volume. To address this we simply need two columns,  1) **cell_volume**  and 2) **gene** from the manifest. Below is code to access these columns.\n",
    "\n",
    "First we create a new dataframe with only the columns we are interested in. Then we groupby gene and calculate the mean of the volumes."
   ]
  },
  {
   "cell_type": "code",
   "execution_count": null,
   "id": "83f522a5-288d-43b4-95ac-8f825bca1aba",
   "metadata": {},
   "outputs": [],
   "source": [
    "# Same as \n",
    "df_cell_vol = df[['cell_volume','gene']].copy()\n",
    "df_cell_vol.groupby('gene').mean()"
   ]
  },
  {
   "cell_type": "markdown",
   "id": "4a26745c-7e7f-430d-8649-c3db0cd6b04c",
   "metadata": {},
   "source": [
    "Parsing the data this way we can see the mean cell volumes for each cell line. "
   ]
  },
  {
   "cell_type": "markdown",
   "id": "f4de8f6d-afca-4e54-b3d2-136672ec0aea",
   "metadata": {
    "jp-MarkdownHeadingCollapsed": true,
    "tags": []
   },
   "source": [
    "## <a id='interact'></a> 2.3 Interacting with the dataset"
   ]
  },
  {
   "cell_type": "markdown",
   "id": "06cb8db0-c778-418a-bee7-9fed48a93d7f",
   "metadata": {},
   "source": [
    "Throughout this hackathon you will often interact with Pandas DataFrames. For those unfamiliar with Pandas DataFrames, some helpful querying and grouping functions are explored within this sub-chapter. "
   ]
  },
  {
   "cell_type": "markdown",
   "id": "c91f3ca6-c4fc-4d77-bab5-dbb543f383ad",
   "metadata": {},
   "source": [
    "Subdatasets can be generated based upon some conditional, these conditionals follow standard boolean logic. Say for example you want to subset on very specific criteria and are interested in using only the `NUP153` cell line that were in interphase `M0` and had a `nuclear height` > 3 microns. That would be represented by the below code:"
   ]
  },
  {
   "cell_type": "markdown",
   "id": "ff26a9c7-b5d9-4045-ab9c-82fb47d6c989",
   "metadata": {
    "tags": []
   },
   "source": [
    "#### Filtering"
   ]
  },
  {
   "cell_type": "code",
   "execution_count": null,
   "id": "af4503b8-784e-4e23-8fc8-fe9ad2e9f9eb",
   "metadata": {},
   "outputs": [],
   "source": [
    "# Boolean Indexing\n",
    "df_filtered_boolean_indexing = df[\n",
    "    (df['gene'] == \"NUP153\") &\n",
    "    (df['cell_stage'] == \"M0\") &\n",
    "    (df['nuclear_height'] > 3)\n",
    "]\n",
    "\n",
    "df_filtered_boolean_indexing.shape"
   ]
  },
  {
   "cell_type": "markdown",
   "id": "118aa451-2b21-41d6-9712-dcd41ad3da6c",
   "metadata": {},
   "source": [
    "We now have a new dataframe that contains **16817** cells all of NUP153 at interphase and having a nuclear height greater than 3 microns!"
   ]
  },
  {
   "cell_type": "markdown",
   "id": "4abfea3b-025d-49b0-aa22-fb89b072a3a8",
   "metadata": {},
   "source": [
    "Similarly you can filter catagorical variables using list indexing. This allows us to gather data across multiple different values and in this case we are creating a new data frame with `NUP153` `PXN` and `TOMM20`."
   ]
  },
  {
   "cell_type": "code",
   "execution_count": null,
   "id": "5cf9f83b-4c7f-4848-9560-3313a7c0aea9",
   "metadata": {},
   "outputs": [],
   "source": [
    "# List Indexing \n",
    "value_list = [\n",
    "    \"NUP153\",\n",
    "    \"PXN\",\n",
    "    \"TOMM20\",\n",
    "]\n",
    "\n",
    "df_list_index = df[df[\"gene\"].isin(value_list)]\n",
    "df_list_index.shape"
   ]
  },
  {
   "cell_type": "markdown",
   "id": "7a74ca70-63ae-4541-b1e8-78472ed36218",
   "metadata": {
    "tags": []
   },
   "source": [
    "#### Grouping\n",
    "\n",
    "Being able to group data by some criteria is a useful tool for analysis. Using Pandas built in function .groupby we gather useful information on a particular slice of the data. We've already used this function quite extensively in the previous code blocks. But here we demonstrate the useful function `describe`. Say for example we quickly want to understand what the number, mean, std, min, and max of a specific metric is. Below we take a look at the `nuclear_volume` for each `gene` by simply adding .describe to the end of the column metric we are interested in."
   ]
  },
  {
   "cell_type": "code",
   "execution_count": null,
   "id": "989e844b-7429-4940-890f-d21693e7687b",
   "metadata": {},
   "outputs": [],
   "source": [
    "# Grouping\n",
    "df_groupby = df.groupby(['gene'])\n",
    "df_groupby.nuclear_volume.describe()"
   ]
  },
  {
   "cell_type": "markdown",
   "id": "1db1a836-670c-438b-8d50-1bac3da3a01c",
   "metadata": {
    "tags": []
   },
   "source": [
    "#### Missing Data\n",
    "\n",
    "The dataset contains many columns that may be missing values, though sparse, this omittence can affect your process. In this subsection some simple ways to interact with empty cells are explored."
   ]
  },
  {
   "cell_type": "code",
   "execution_count": null,
   "id": "d6a191f7-4589-4cbb-a3ee-e381d025bc1e",
   "metadata": {},
   "outputs": [],
   "source": [
    "# Dropping missing values by column or whole dataset\n",
    "df_dropna = df.copy()\n",
    "df_dropna.dropna(subset=['shape_mode_3_major_tilt'], inplace = True)\n",
    "df_dropna.shape"
   ]
  },
  {
   "cell_type": "code",
   "execution_count": null,
   "id": "6cb235d1-64b6-4c34-90b1-6f8d6ca70d9a",
   "metadata": {},
   "outputs": [],
   "source": [
    "# Filling, either by single column or whole dataset \n",
    "df_fill_na = df.copy()\n",
    "df_fill_na['shape_mode_3_major_tilt'] = df_fill_na['shape_mode_3_major_tilt'].fillna(0)\n",
    "df_fill_na.shape"
   ]
  },
  {
   "cell_type": "markdown",
   "id": "1adff68b-01a7-4d09-9a80-18bd7126f75c",
   "metadata": {
    "jp-MarkdownHeadingCollapsed": true,
    "tags": []
   },
   "source": [
    "## <a id='columns'></a> 2.4 Interacting with a table to query column descriptions"
   ]
  },
  {
   "cell_type": "markdown",
   "id": "79011bb9-db36-4bbf-a189-b8fe25226a3f",
   "metadata": {},
   "source": [
    "The dataset contains 77 columns with important metrics which you may want to incorporate during the challenge. In this section we'll create a tiny dash app that runs within the notebook in order to display an interactive table of the columns and their descriptions. **The table is searchable** lending itself to more efficient querying."
   ]
  },
  {
   "cell_type": "code",
   "execution_count": null,
   "id": "4bf576a8-3152-4b29-89bb-7292e63c34aa",
   "metadata": {},
   "outputs": [],
   "source": [
    "from jupyter_dash import JupyterDash\n",
    "import dash\n",
    "from dash import dcc\n",
    "from dash import html \n",
    "\n",
    "col_df = pd.read_csv(\"resources/hackathon_column_descriptions.csv\",delimiter=\",\") #Already read in but just in case\n",
    "col_df.columns = [\"column name\",\"description\",\"category\"] "
   ]
  },
  {
   "cell_type": "code",
   "execution_count": null,
   "id": "6467641d-c485-43f3-881c-9aaf27502eae",
   "metadata": {},
   "outputs": [],
   "source": [
    "JupyterDash.infer_jupyter_proxy_config()"
   ]
  },
  {
   "cell_type": "code",
   "execution_count": null,
   "id": "4268882e-3255-4b00-bcba-4eadb49d3fd5",
   "metadata": {},
   "outputs": [],
   "source": [
    "# Some sort of Look up method built in for looking at column definitions \n",
    "from dash import dash_table\n",
    "app = JupyterDash(__name__)\n",
    "server = app.server\n",
    "\n",
    "app.layout = dash_table.DataTable(\n",
    "    col_df.to_dict('records'), \n",
    "    [{\"name\": i, \"id\": i} for i in col_df.columns],\n",
    "    style_data={\n",
    "        'whiteSpace':'normal',\n",
    "        'height': 'auto',\n",
    "        'lineHeight':'15px',\n",
    "        'backgroundColor': 'rgb(50,50,50)',\n",
    "        'color': 'white',\n",
    "    },\n",
    "    style_header={\n",
    "        'backgroundColor':'rgb(30,30,30)',\n",
    "        'color':'white'\n",
    "    },  \n",
    "    style_cell={\n",
    "        'textAlign':'left'\n",
    "    },\n",
    "    filter_action=\"native\",\n",
    ")\n"
   ]
  },
  {
   "cell_type": "code",
   "execution_count": null,
   "id": "ad3389b0-0f14-45a2-8675-d56df48985b3",
   "metadata": {},
   "outputs": [],
   "source": [
    "app.run_server(mode=\"jupyterlab\",debug=False) "
   ]
  },
  {
   "cell_type": "markdown",
   "id": "b6a70f2d-991a-4842-9b92-b7067c20df63",
   "metadata": {},
   "source": [
    "## <a id='conclusion'></a> Conclusion\n",
    "\n",
    "In this chapter we introduced the variance dataset and demonstrated various ways to group and parse the data. In Chapter 3 you'll learn how to visualize the cells."
   ]
  }
 ],
 "metadata": {
  "kernelspec": {
   "display_name": "Python 3 (ipykernel)",
   "language": "python",
   "name": "python3"
  },
  "language_info": {
   "codemirror_mode": {
    "name": "ipython",
    "version": 3
   },
   "file_extension": ".py",
   "mimetype": "text/x-python",
   "name": "python",
   "nbconvert_exporter": "python",
   "pygments_lexer": "ipython3",
   "version": "3.10.6"
  }
 },
 "nbformat": 4,
 "nbformat_minor": 5
}
