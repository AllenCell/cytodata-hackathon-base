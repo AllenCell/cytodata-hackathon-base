{
 "cells": [
  {
   "cell_type": "code",
   "execution_count": 24,
   "id": "9c4776e1-85e5-44b9-a28f-41ce23605be1",
   "metadata": {},
   "outputs": [
    {
     "name": "stdout",
     "output_type": "stream",
     "text": [
      "Requirement already satisfied: ome-zarr in /opt/conda/lib/python3.9/site-packages (0.5.2)\n",
      "Requirement already satisfied: requests in /opt/conda/lib/python3.9/site-packages (from ome-zarr) (2.28.1)\n",
      "Requirement already satisfied: aiohttp<4 in /opt/conda/lib/python3.9/site-packages (from ome-zarr) (3.8.1)\n",
      "Requirement already satisfied: fsspec[s3]!=2021.07.0 in /opt/conda/lib/python3.9/site-packages (from ome-zarr) (2022.7.1)\n",
      "Requirement already satisfied: scikit-image in /opt/conda/lib/python3.9/site-packages (from ome-zarr) (0.19.3)\n",
      "Requirement already satisfied: zarr>=2.8.1 in /opt/conda/lib/python3.9/site-packages (from ome-zarr) (2.12.0)\n",
      "Requirement already satisfied: dask in /opt/conda/lib/python3.9/site-packages (from ome-zarr) (2022.8.0)\n",
      "Requirement already satisfied: numpy in /opt/conda/lib/python3.9/site-packages (from ome-zarr) (1.19.5)\n",
      "Requirement already satisfied: toolz in /opt/conda/lib/python3.9/site-packages (from ome-zarr) (0.12.0)\n",
      "Requirement already satisfied: charset-normalizer<3.0,>=2.0 in /opt/conda/lib/python3.9/site-packages (from aiohttp<4->ome-zarr) (2.1.0)\n",
      "Requirement already satisfied: frozenlist>=1.1.1 in /opt/conda/lib/python3.9/site-packages (from aiohttp<4->ome-zarr) (1.3.1)\n",
      "Requirement already satisfied: attrs>=17.3.0 in /opt/conda/lib/python3.9/site-packages (from aiohttp<4->ome-zarr) (22.1.0)\n",
      "Requirement already satisfied: multidict<7.0,>=4.5 in /opt/conda/lib/python3.9/site-packages (from aiohttp<4->ome-zarr) (6.0.2)\n",
      "Requirement already satisfied: yarl<2.0,>=1.0 in /opt/conda/lib/python3.9/site-packages (from aiohttp<4->ome-zarr) (1.8.1)\n",
      "Requirement already satisfied: aiosignal>=1.1.2 in /opt/conda/lib/python3.9/site-packages (from aiohttp<4->ome-zarr) (1.2.0)\n",
      "Requirement already satisfied: async-timeout<5.0,>=4.0.0a3 in /opt/conda/lib/python3.9/site-packages (from aiohttp<4->ome-zarr) (4.0.2)\n",
      "Requirement already satisfied: s3fs in /opt/conda/lib/python3.9/site-packages (from fsspec[s3]!=2021.07.0->ome-zarr) (2022.7.1)\n",
      "Requirement already satisfied: asciitree in /opt/conda/lib/python3.9/site-packages (from zarr>=2.8.1->ome-zarr) (0.3.3)\n",
      "Requirement already satisfied: fasteners in /opt/conda/lib/python3.9/site-packages (from zarr>=2.8.1->ome-zarr) (0.17.3)\n",
      "Requirement already satisfied: numcodecs>=0.6.4 in /opt/conda/lib/python3.9/site-packages (from zarr>=2.8.1->ome-zarr) (0.10.2)\n",
      "Requirement already satisfied: packaging>=20.0 in /opt/conda/lib/python3.9/site-packages (from dask->ome-zarr) (20.9)\n",
      "Requirement already satisfied: cloudpickle>=1.1.1 in /opt/conda/lib/python3.9/site-packages (from dask->ome-zarr) (2.1.0)\n",
      "Requirement already satisfied: partd>=0.3.10 in /opt/conda/lib/python3.9/site-packages (from dask->ome-zarr) (1.3.0)\n",
      "Requirement already satisfied: pyyaml>=5.3.1 in /opt/conda/lib/python3.9/site-packages (from dask->ome-zarr) (6.0)\n",
      "Requirement already satisfied: urllib3<1.27,>=1.21.1 in /opt/conda/lib/python3.9/site-packages (from requests->ome-zarr) (1.26.11)\n",
      "Requirement already satisfied: certifi>=2017.4.17 in /opt/conda/lib/python3.9/site-packages (from requests->ome-zarr) (2022.6.15)\n",
      "Requirement already satisfied: idna<4,>=2.5 in /opt/conda/lib/python3.9/site-packages (from requests->ome-zarr) (3.3)\n",
      "Requirement already satisfied: PyWavelets>=1.1.1 in /opt/conda/lib/python3.9/site-packages (from scikit-image->ome-zarr) (1.3.0)\n",
      "Requirement already satisfied: networkx>=2.2 in /opt/conda/lib/python3.9/site-packages (from scikit-image->ome-zarr) (2.8.5)\n",
      "Requirement already satisfied: imageio>=2.4.1 in /opt/conda/lib/python3.9/site-packages (from scikit-image->ome-zarr) (2.21.1)\n",
      "Requirement already satisfied: tifffile>=2019.7.26 in /opt/conda/lib/python3.9/site-packages (from scikit-image->ome-zarr) (2022.8.12)\n",
      "Requirement already satisfied: scipy>=1.4.1 in /opt/conda/lib/python3.9/site-packages (from scikit-image->ome-zarr) (1.9.0)\n",
      "Requirement already satisfied: pillow!=7.1.0,!=7.1.1,!=8.3.0,>=6.1.0 in /opt/conda/lib/python3.9/site-packages (from scikit-image->ome-zarr) (9.2.0)\n",
      "Requirement already satisfied: typing-extensions>=3.7.4 in /opt/conda/lib/python3.9/site-packages (from numcodecs>=0.6.4->zarr>=2.8.1->ome-zarr) (4.3.0)\n",
      "Requirement already satisfied: entrypoints in /opt/conda/lib/python3.9/site-packages (from numcodecs>=0.6.4->zarr>=2.8.1->ome-zarr) (0.4)\n",
      "Requirement already satisfied: pyparsing>=2.0.2 in /opt/conda/lib/python3.9/site-packages (from packaging>=20.0->dask->ome-zarr) (3.0.9)\n",
      "Requirement already satisfied: locket in /opt/conda/lib/python3.9/site-packages (from partd>=0.3.10->dask->ome-zarr) (1.0.0)\n",
      "Requirement already satisfied: aiobotocore~=2.3.4 in /opt/conda/lib/python3.9/site-packages (from s3fs->fsspec[s3]!=2021.07.0->ome-zarr) (2.3.4)\n",
      "Requirement already satisfied: aioitertools>=0.5.1 in /opt/conda/lib/python3.9/site-packages (from aiobotocore~=2.3.4->s3fs->fsspec[s3]!=2021.07.0->ome-zarr) (0.10.0)\n",
      "Requirement already satisfied: botocore<1.24.22,>=1.24.21 in /opt/conda/lib/python3.9/site-packages (from aiobotocore~=2.3.4->s3fs->fsspec[s3]!=2021.07.0->ome-zarr) (1.24.21)\n",
      "Requirement already satisfied: wrapt>=1.10.10 in /opt/conda/lib/python3.9/site-packages (from aiobotocore~=2.3.4->s3fs->fsspec[s3]!=2021.07.0->ome-zarr) (1.12.1)\n",
      "Requirement already satisfied: python-dateutil<3.0.0,>=2.1 in /opt/conda/lib/python3.9/site-packages (from botocore<1.24.22,>=1.24.21->aiobotocore~=2.3.4->s3fs->fsspec[s3]!=2021.07.0->ome-zarr) (2.8.2)\n",
      "Requirement already satisfied: jmespath<2.0.0,>=0.7.1 in /opt/conda/lib/python3.9/site-packages (from botocore<1.24.22,>=1.24.21->aiobotocore~=2.3.4->s3fs->fsspec[s3]!=2021.07.0->ome-zarr) (1.0.1)\n",
      "Requirement already satisfied: six>=1.5 in /opt/conda/lib/python3.9/site-packages (from python-dateutil<3.0.0,>=2.1->botocore<1.24.22,>=1.24.21->aiobotocore~=2.3.4->s3fs->fsspec[s3]!=2021.07.0->ome-zarr) (1.15.0)\n"
     ]
    }
   ],
   "source": [
    "!pip install ome-zarr"
   ]
  },
  {
   "cell_type": "markdown",
   "id": "8492028e-9684-4e7a-8774-1585fe85e3c5",
   "metadata": {},
   "source": [
    "Load libraries, define some functions"
   ]
  },
  {
   "cell_type": "code",
   "execution_count": 25,
   "id": "62cfa78a-6325-47ac-a85a-a00c32e5a687",
   "metadata": {},
   "outputs": [],
   "source": [
    "import warnings\n",
    "import pandas as pd\n",
    "import numpy as np\n",
    "import matplotlib.pyplot as plt\n",
    "import nbvv\n",
    "from upath import UPath as Path\n",
    "from aicsimageio import AICSImage\n",
    "from ome_zarr.reader import Reader\n",
    "from ome_zarr.io import parse_url\n",
    "import logging\n",
    "logging.getLogger(\"bfio\").setLevel(logging.ERROR)\n",
    "logging.getLogger(\"aicsimageio\").setLevel(logging.ERROR)\n",
    "\n",
    "\n",
    "def read_ome_zarr(path, level=0, image_name=\"default\"):\n",
    "    path = str(path if image_name is None else Path(path) / image_name)\n",
    "    reader = Reader(parse_url(path))\n",
    "\n",
    "    node = next(iter(reader()))\n",
    "    pps = node.metadata[\"coordinateTransformations\"][0][0][\"scale\"][-3:]\n",
    "   \n",
    "    return AICSImage(\n",
    "        node.data[level].compute(),\n",
    "        channel_names=node.metadata[\"name\"],\n",
    "        physical_pixel_sizes=pps\n",
    "    )\n",
    "\n",
    "def rescale_image(img_data, channels):\n",
    "    img_data = img_data.squeeze().astype(np.float32)\n",
    "    \n",
    "    for ix, channel in enumerate(channels):\n",
    "        if \"_seg\" not in channel:\n",
    "            img_data[ix] -= 1\n",
    "            \n",
    "            img_data[ix] = np.where(\n",
    "                img_data[ix] >= 0,\n",
    "                img_data[ix] / img_data.max(),\n",
    "                -1\n",
    "            )\n",
    "    return img_data.astype(np.float16)"
   ]
  },
  {
   "cell_type": "markdown",
   "id": "ee5bb9c5-7500-4a1b-a046-757a56de4979",
   "metadata": {},
   "source": [
    "Load the dataframe"
   ]
  },
  {
   "cell_type": "code",
   "execution_count": 26,
   "id": "40e751ed-de95-4c23-9b33-e0b1148457a0",
   "metadata": {},
   "outputs": [
    {
     "name": "stdout",
     "output_type": "stream",
     "text": [
      "Number of cells: 215081\n",
      "Number of columns: 1242\n"
     ]
    }
   ],
   "source": [
    "cells_df = pd.read_parquet(\"s3://variance-dataset/processed/manifest.parquet\")\n",
    "print(f'Number of cells: {len(cells_df)}')\n",
    "print(f'Number of columns: {len(cells_df.columns)}')"
   ]
  },
  {
   "cell_type": "code",
   "execution_count": 27,
   "id": "16f6c075-bc8e-45e3-b213-cdbefaeeb38a",
   "metadata": {
    "tags": []
   },
   "outputs": [],
   "source": [
    "some_cell = cells_df.sample(1).iloc[0]"
   ]
  },
  {
   "cell_type": "code",
   "execution_count": 28,
   "id": "ffa8401f-0453-46dd-a974-45e6576f8604",
   "metadata": {
    "tags": []
   },
   "outputs": [],
   "source": [
    "full_img = read_ome_zarr(some_cell[\"registered_path\"])"
   ]
  },
  {
   "cell_type": "code",
   "execution_count": 29,
   "id": "296156de-4cc7-46b5-8fca-f60db911a496",
   "metadata": {},
   "outputs": [
    {
     "data": {
      "text/plain": [
       "['bf',\n",
       " 'dna',\n",
       " 'membrane',\n",
       " 'structure',\n",
       " 'dna_segmentation',\n",
       " 'membrane_segmentation',\n",
       " 'struct_segmentation_roof']"
      ]
     },
     "execution_count": 29,
     "metadata": {},
     "output_type": "execute_result"
    }
   ],
   "source": [
    "full_img.channel_names"
   ]
  },
  {
   "cell_type": "code",
   "execution_count": 30,
   "id": "7d1eb0f1-39e7-401b-832b-dde9c574b0a3",
   "metadata": {},
   "outputs": [],
   "source": [
    "img_data = full_img.data.squeeze()"
   ]
  },
  {
   "cell_type": "code",
   "execution_count": 31,
   "id": "460ed2e1-72cb-4e4b-a593-60d7c5d6913f",
   "metadata": {},
   "outputs": [
    {
     "data": {
      "text/plain": [
       "(7, 136, 245, 381)"
      ]
     },
     "execution_count": 31,
     "metadata": {},
     "output_type": "execute_result"
    }
   ],
   "source": [
    "img_data.shape"
   ]
  },
  {
   "cell_type": "markdown",
   "id": "24046b86-c69a-4690-9e39-7c0b8235b56c",
   "metadata": {},
   "source": [
    "Now let's examine this data in a 3d viewer.  `nbvv` is a multichannel viewer for interactively examining volume data.\n",
    "\n",
    "We display our image with the `volshow` command.   \n",
    "\n",
    "`volshow` accepts either a 3d or 4d data array.  If the array is 4D, it will be treated as multi-channel. \n",
    "\n",
    "You can also tell `volshow` the physical spacing between the volume pixels in X, Y and Z dimensions (`spacing`).  In our case the data has already been re-scaled to have equal-sized x, y, and z pixels so we just pass in \\[1,1,1\\] (the defaults) as an example.\n",
    "\n",
    "We also provide the names of the channels (`channel_names`) for display.\n",
    "\n",
    "Here are some of the main features you will use in the user interface:\n",
    "\n",
    "3D / XY / XZ / YZ\n",
    "Click these buttons to switch between full 3D view and side projections.  \n",
    "\n",
    "In the side projection modes, you will see one cross-sectional \"slice\" through the volume at a time.  \n",
    "\n",
    "You can change the sections you are viewing using the \"Clipping\" tab at the bottom of the viewport.\n",
    "\n",
    "For multi-channel (4D CZYX) data, you can switch displayed channels on and off by clicking the `volume` checkbox next to each channel.\n",
    "You can also change the colors for each channel by clicking a swatch to the left.\n",
    "Note that the left panel is scrolling, and if you have many channels you may need to scroll.\n",
    "You can do contrast adjustment using the Settings (gear wheel) button for each channel.  \n",
    "\n"
   ]
  },
  {
   "cell_type": "code",
   "execution_count": 36,
   "id": "0d9864d3-9c5f-486d-a3b3-a6e1b2fd69bd",
   "metadata": {},
   "outputs": [
    {
     "data": {
      "application/vnd.jupyter.widget-view+json": {
       "model_id": "3db67485abe94127b2beefe04c0ab618",
       "version_major": 2,
       "version_minor": 0
      },
      "text/plain": [
       "VolumeWidget(dimensions={'tile_width': 204, 'tile_height': 136, 'rows': 15, 'cols': 10, 'atlas_width': 2040, '…"
      ]
     },
     "metadata": {},
     "output_type": "display_data"
    }
   ],
   "source": [
    "nbvv.volshow(\n",
    "    img_data,\n",
    "    spacing=[1,1,1],  # full_img.physical_pixel_sizes,\n",
    "    channel_names=full_img.channel_names\n",
    ")"
   ]
  },
  {
   "cell_type": "markdown",
   "id": "1a47a838-cf0a-4f9b-8328-082e91468fd6",
   "metadata": {},
   "source": [
    "The viewer has automatically tried to apply some contrast adjustment, but we could easily pre-apply contrast adjustment by doing math on the data array before passing it to the viewer.  \n",
    "\n",
    "The viewer will accept any scalar-valued 3d or 4d array we give it."
   ]
  },
  {
   "cell_type": "code",
   "execution_count": 33,
   "id": "bf5b3cf4-5623-42e5-b183-0da6fb745160",
   "metadata": {},
   "outputs": [],
   "source": [
    "img_data_rescaled = rescale_image(img_data, full_img.channel_names)"
   ]
  },
  {
   "cell_type": "code",
   "execution_count": 34,
   "id": "839461a2-01d9-4e00-9a8b-a73b4aaa6430",
   "metadata": {},
   "outputs": [
    {
     "data": {
      "text/plain": [
       "(7, 136, 245, 381)"
      ]
     },
     "execution_count": 34,
     "metadata": {},
     "output_type": "execute_result"
    }
   ],
   "source": [
    "img_data_rescaled.shape"
   ]
  },
  {
   "cell_type": "code",
   "execution_count": 35,
   "id": "8fd77467-c6c8-432c-9938-f969791246a5",
   "metadata": {},
   "outputs": [
    {
     "data": {
      "application/vnd.jupyter.widget-view+json": {
       "model_id": "8be1a550219e4479994313eb0a410838",
       "version_major": 2,
       "version_minor": 0
      },
      "text/plain": [
       "VolumeWidget(dimensions={'tile_width': 204, 'tile_height': 136, 'rows': 15, 'cols': 10, 'atlas_width': 2040, '…"
      ]
     },
     "metadata": {},
     "output_type": "display_data"
    }
   ],
   "source": [
    "nbvv.volshow(\n",
    "    img_data_rescaled,\n",
    "    spacing=[1,1,1],#full_img.physical_pixel_sizes,\n",
    "    channel_names=full_img.channel_names\n",
    ")"
   ]
  },
  {
   "cell_type": "code",
   "execution_count": null,
   "id": "f65506d4-6d6b-4291-8882-4e2225e2bfd5",
   "metadata": {},
   "outputs": [],
   "source": []
  }
 ],
 "metadata": {
  "kernelspec": {
   "display_name": "Python 3 (ipykernel)",
   "language": "python",
   "name": "python3"
  },
  "language_info": {
   "codemirror_mode": {
    "name": "ipython",
    "version": 3
   },
   "file_extension": ".py",
   "mimetype": "text/x-python",
   "name": "python",
   "nbconvert_exporter": "python",
   "pygments_lexer": "ipython3",
   "version": "3.9.13"
  }
 },
 "nbformat": 4,
 "nbformat_minor": 5
}
