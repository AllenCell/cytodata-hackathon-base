{
 "cells": [
  {
   "cell_type": "markdown",
   "id": "36b67fed-d335-491d-a933-30a5ff088a6c",
   "metadata": {
    "tags": []
   },
   "source": [
    "# Prologue - Welcome to the dry-run hackathon"
   ]
  },
  {
   "cell_type": "code",
   "execution_count": 1,
   "id": "a56f28ba-a40b-47b1-ae17-37148bb5af49",
   "metadata": {},
   "outputs": [
    {
     "name": "stdout",
     "output_type": "stream",
     "text": [
      "Number of cells: 214037\n",
      "Number of columns: 78\n"
     ]
    }
   ],
   "source": [
    "# Load the dataset\n",
    "import pandas as pd\n",
    "df = pd.read_parquet(\"s3://allencell-cytodata-variance-data/variance-dataset/processed/hackathon_manifest_092022.parquet\")\n",
    "print(f'Number of cells: {len(df)}')\n",
    "print(f'Number of columns: {len(df.columns)}')"
   ]
  },
  {
   "cell_type": "code",
   "execution_count": 14,
   "id": "4876e834-7ef4-4a3e-99eb-ccb4d406c11b",
   "metadata": {},
   "outputs": [
    {
     "name": "stdout",
     "output_type": "stream",
     "text": [
      "(7, 136, 245, 381)\n",
      "['bf', 'dna', 'membrane', 'structure', 'dna_segmentation', 'membrane_segmentation', 'struct_segmentation_roof']\n"
     ]
    },
    {
     "data": {
      "application/vnd.jupyter.widget-view+json": {
       "model_id": "09a5a5ea5a874e21a291992acf2c5056",
       "version_major": 2,
       "version_minor": 0
      },
      "text/plain": [
       "VolumeWidget(dimensions={'tile_width': 204, 'tile_height': 136, 'rows': 15, 'cols': 10, 'atlas_width': 2040, '…"
      ]
     },
     "execution_count": 14,
     "metadata": {},
     "output_type": "execute_result"
    }
   ],
   "source": [
    "# Visualize a cell\n",
    "import nbvv\n",
    "from aicsimageprocessing import read_ome_zarr\n",
    "\n",
    "# Boolean Indexing\n",
    "a_cell =df[\n",
    "    (df['gene'] == \"TUBA1B\") &       #microtubules\n",
    "    (df['cell_stage'] == \"M4M5\") &   #\"M4/M5\" - prometaphase/metaphase\n",
    "    (df['cell_volume'] > 5000)       #pretty large cell\n",
    "].sample(1).iloc[0]\n",
    "\n",
    "full_img = read_ome_zarr(a_cell[\"registered_path\"])\n",
    "img_data = full_img.data.squeeze()\n",
    "print(img_data.shape)\n",
    "channel_names = full_img.channel_names\n",
    "print(channel_names)\n",
    "\n",
    "nbvv.volshow(\n",
    "    img_data,\n",
    "    spacing=[1,1,1],  # full_img.physical_pixel_sizes,\n",
    "    channel_names=channel_names\n",
    ")"
   ]
  },
  {
   "cell_type": "code",
   "execution_count": null,
   "id": "5cf9f83b-4c7f-4848-9560-3313a7c0aea9",
   "metadata": {},
   "outputs": [],
   "source": [
    "# List Indexing \n",
    "value_list = [\n",
    "    \"NUP153\",\n",
    "    \"PXN\",\n",
    "    \"TOMM20\",\n",
    "]\n",
    "\n",
    "df_list_index = df[df[\"gene\"].isin(value_list)]\n",
    "df_list_index.shape"
   ]
  }
 ],
 "metadata": {
  "kernelspec": {
   "display_name": "Python 3 (ipykernel)",
   "language": "python",
   "name": "python3"
  },
  "language_info": {
   "codemirror_mode": {
    "name": "ipython",
    "version": 3
   },
   "file_extension": ".py",
   "mimetype": "text/x-python",
   "name": "python",
   "nbconvert_exporter": "python",
   "pygments_lexer": "ipython3",
   "version": "3.10.6"
  }
 },
 "nbformat": 4,
 "nbformat_minor": 5
}
