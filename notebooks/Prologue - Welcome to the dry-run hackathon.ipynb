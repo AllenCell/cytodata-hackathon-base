{
 "cells": [
  {
   "cell_type": "markdown",
   "id": "36b67fed-d335-491d-a933-30a5ff088a6c",
   "metadata": {
    "tags": []
   },
   "source": [
    "# Prologue - Welcome to the dry-run hackathon"
   ]
  },
  {
   "cell_type": "code",
   "execution_count": null,
   "id": "a56f28ba-a40b-47b1-ae17-37148bb5af49",
   "metadata": {},
   "outputs": [],
   "source": [
    "# Load the dataset\n",
    "import pandas as pd\n",
    "df = pd.read_parquet(\"s3://allencell-cytodata-variance-data/processed/hackathon_manifest_092022.parquet\")\n",
    "print(f'Number of cells: {len(df)}')\n",
    "print(f'Number of columns: {len(df.columns)}')"
   ]
  },
  {
   "cell_type": "code",
   "execution_count": null,
   "id": "4876e834-7ef4-4a3e-99eb-ccb4d406c11b",
   "metadata": {},
   "outputs": [],
   "source": [
    "# Visualize a cell\n",
    "import nbvv\n",
    "from datetime import datetime\n",
    "from aicsimageprocessing import read_ome_zarr\n",
    "\n",
    "# Make random seed\n",
    "seed = int(datetime.now().strftime(\"%S%f\"))\n",
    "\n",
    "# Indexing to find a cell\n",
    "a_cell =df[\n",
    "    (df['gene'] == \"TUBA1B\") &       #microtubules\n",
    "    (df['cell_stage'] == \"M4M5\") &   #\"M4/M5\" - prometaphase/metaphase\n",
    "    (df['cell_volume'] > 3000)       #pretty large cell\n",
    "].sample(1,random_state=seed).iloc[0]\n",
    "\n",
    "full_img = read_ome_zarr(a_cell[\"registered_path\"])\n",
    "img_data = full_img.data.squeeze()\n",
    "print(img_data.shape)\n",
    "channel_names = full_img.channel_names\n",
    "print(channel_names)\n",
    "\n",
    "nbvv.volshow(\n",
    "    img_data,\n",
    "    spacing=[1,1,1],  # full_img.physical_pixel_sizes,\n",
    "    channel_names=channel_names\n",
    ")"
   ]
  },
  {
   "cell_type": "code",
   "execution_count": null,
   "id": "d4c3fc56-50a4-4ef5-8ecd-6fcc424a1824",
   "metadata": {},
   "outputs": [],
   "source": []
  }
 ],
 "metadata": {
  "kernelspec": {
   "display_name": "Python 3 (ipykernel)",
   "language": "python",
   "name": "python3"
  },
  "language_info": {
   "codemirror_mode": {
    "name": "ipython",
    "version": 3
   },
   "file_extension": ".py",
   "mimetype": "text/x-python",
   "name": "python",
   "nbconvert_exporter": "python",
   "pygments_lexer": "ipython3",
   "version": "3.10.6"
  }
 },
 "nbformat": 4,
 "nbformat_minor": 5
}
