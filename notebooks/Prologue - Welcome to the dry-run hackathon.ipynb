{
 "cells": [
  {
   "cell_type": "markdown",
   "id": "36b67fed-d335-491d-a933-30a5ff088a6c",
   "metadata": {
    "tags": []
   },
   "source": [
    "# Prologue - Welcome to the dry-run hackathon"
   ]
  },
  {
   "cell_type": "code",
   "execution_count": 1,
   "id": "a56f28ba-a40b-47b1-ae17-37148bb5af49",
   "metadata": {},
   "outputs": [
    {
     "name": "stdout",
     "output_type": "stream",
     "text": [
      "Number of cells: 214037\n",
      "Number of columns: 78\n"
     ]
    }
   ],
   "source": [
    "# Load the dataset\n",
    "import pandas as pd\n",
    "df = pd.read_parquet(\"s3://allencell-cytodata-variance-data/variance-dataset/processed/hackathon_manifest_092025.parquet\")\n",
    "print(f'Number of cells: {len(df)}')\n",
    "print(f'Number of columns: {len(df.columns)}')"
   ]
  },
  {
   "cell_type": "code",
   "execution_count": 2,
   "id": "4876e834-7ef4-4a3e-99eb-ccb4d406c11b",
   "metadata": {},
   "outputs": [
    {
     "name": "stderr",
     "output_type": "stream",
     "text": [
      "26-Sep-22 04:17:15 - bfio.backends - WARNING  - Java backend is not available. This could be due to a missing dependency (jpype).\n"
     ]
    },
    {
     "name": "stdout",
     "output_type": "stream",
     "text": [
      "(7, 129, 238, 374)\n",
      "['bf', 'dna', 'membrane', 'structure', 'dna_segmentation', 'membrane_segmentation', 'struct_segmentation_roof']\n"
     ]
    },
    {
     "data": {
      "application/vnd.jupyter.widget-view+json": {
       "model_id": "ef74a92c66564c1da9a76c6904ae4942",
       "version_major": 2,
       "version_minor": 0
      },
      "text/plain": [
       "VolumeWidget(dimensions={'tile_width': 227, 'tile_height': 136, 'rows': 15, 'cols': 9, 'atlas_width': 2043, 'a…"
      ]
     },
     "execution_count": 2,
     "metadata": {},
     "output_type": "execute_result"
    }
   ],
   "source": [
    "# Visualize a cell\n",
    "import nbvv\n",
    "from aicsimageprocessing import read_ome_zarr\n",
    "\n",
    "# Boolean Indexing\n",
    "a_cell =df[\n",
    "    (df['gene'] == \"TUBA1B\") &       #microtubules\n",
    "    (df['cell_stage'] == \"M4M5\") &   #\"M4/M5\" - prometaphase/metaphase\n",
    "    (df['cell_volume'] > 5000)       #pretty large cell\n",
    "].sample(1).iloc[0]\n",
    "\n",
    "full_img = read_ome_zarr(a_cell[\"registered_path\"])\n",
    "img_data = full_img.data.squeeze()\n",
    "print(img_data.shape)\n",
    "channel_names = full_img.channel_names\n",
    "print(channel_names)\n",
    "\n",
    "nbvv.volshow(\n",
    "    img_data,\n",
    "    spacing=[1,1,1],  # full_img.physical_pixel_sizes,\n",
    "    channel_names=channel_names\n",
    ")"
   ]
  },
  {
   "cell_type": "code",
   "execution_count": null,
   "id": "21eb8f92-2152-497b-af9a-76fd55e913d9",
   "metadata": {},
   "outputs": [],
   "source": []
  }
 ],
 "metadata": {
  "kernelspec": {
   "display_name": "Python 3 (ipykernel)",
   "language": "python",
   "name": "python3"
  },
  "language_info": {
   "codemirror_mode": {
    "name": "ipython",
    "version": 3
   },
   "file_extension": ".py",
   "mimetype": "text/x-python",
   "name": "python",
   "nbconvert_exporter": "python",
   "pygments_lexer": "ipython3",
   "version": "3.10.6"
  }
 },
 "nbformat": 4,
 "nbformat_minor": 5
}
