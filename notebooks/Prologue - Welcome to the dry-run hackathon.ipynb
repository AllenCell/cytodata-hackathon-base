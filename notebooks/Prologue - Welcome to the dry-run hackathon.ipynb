{
 "cells": [
  {
   "cell_type": "markdown",
   "id": "36b67fed-d335-491d-a933-30a5ff088a6c",
   "metadata": {
    "tags": []
   },
   "source": [
    "# Prologue - Welcome to the dry-run hackathon"
   ]
  },
  {
   "cell_type": "code",
   "execution_count": 1,
   "id": "a56f28ba-a40b-47b1-ae17-37148bb5af49",
   "metadata": {},
   "outputs": [
    {
     "name": "stdout",
     "output_type": "stream",
     "text": [
      "Number of cells: 214037\n",
      "Number of columns: 78\n"
     ]
    }
   ],
   "source": [
    "# Load the dataset\n",
    "import pandas as pd\n",
    "df = pd.read_parquet(\"s3://allencell-cytodata-variance-data/variance-dataset/processed/hackathon_manifest_092022.parquet\")\n",
    "print(f'Number of cells: {len(df)}')\n",
    "print(f'Number of columns: {len(df.columns)}')"
   ]
  },
  {
   "cell_type": "code",
   "execution_count": 2,
   "id": "4876e834-7ef4-4a3e-99eb-ccb4d406c11b",
   "metadata": {},
   "outputs": [
    {
     "name": "stderr",
     "output_type": "stream",
     "text": [
      "24-Sep-22 23:54:00 - bfio.backends - WARNING  - Java backend is not available. This could be due to a missing dependency (jpype).\n"
     ]
    },
    {
     "data": {
      "application/vnd.jupyter.widget-view+json": {
       "model_id": "89af0b7902684479b8dc987a437a3eb7",
       "version_major": 2,
       "version_minor": 0
      },
      "text/plain": [
       "VolumeWidget(dimensions={'tile_width': 204, 'tile_height': 136, 'rows': 15, 'cols': 10, 'atlas_width': 2040, '…"
      ]
     },
     "execution_count": 2,
     "metadata": {},
     "output_type": "execute_result"
    }
   ],
   "source": [
    "# Visualize a cell\n",
    "import nbvv\n",
    "from serotiny.io.image import image_loader\n",
    "\n",
    "# Boolean Indexing\n",
    "a_cell =df[\n",
    "    (df['gene'] == \"TUBA1B\") &\n",
    "    (df['cell_stage'] == \"M3\") &\n",
    "    (df['cell_volume'] > 3000)\n",
    "].sample(1).iloc[0]\n",
    "\n",
    "img_data,channel_names = image_loader(a_cell[\"registered_path\"],return_as_torch=False,return_channels=True)\n",
    "\n",
    "nbvv.volshow(\n",
    "    img_data,\n",
    "    spacing=[1,1,1],  # full_img.physical_pixel_sizes,\n",
    "    channel_names=channel_names\n",
    ")"
   ]
  },
  {
   "cell_type": "code",
   "execution_count": null,
   "id": "d2a9d3b2-f2fb-462f-addb-8e66f3eb7b98",
   "metadata": {},
   "outputs": [],
   "source": [
    "# # Load the dataset\n",
    "# import pandas as pd\n",
    "# df = pd.read_parquet(\"s3://variance-dataset/processed/manifest.parquet\")\n",
    "# print(f'Number of cells: {len(df)}')\n",
    "# print(f'Number of columns: {len(df.columns)}')"
   ]
  },
  {
   "cell_type": "code",
   "execution_count": null,
   "id": "f47460d1-d97c-405c-8cd3-fedfd3fa73e4",
   "metadata": {},
   "outputs": [],
   "source": [
    "# # Visualize a cell\n",
    "# import nbvv\n",
    "# from aicsimageprocessing import read_ome_zarr\n",
    "\n",
    "# # Boolean Indexing\n",
    "# a_cell =df[\n",
    "#     (df['gene'] == \"TUBA1B\") &\n",
    "#     (df['cell_stage'] == \"M3\") &\n",
    "#     (df['cell_volume'] > 3000)\n",
    "# ].sample(1).iloc[0]\n",
    "\n",
    "# full_img = read_ome_zarr(a_cell[\"registered_path\"])\n",
    "# img_data = full_img.data.squeeze()\n",
    "# print(img_data.shape)\n",
    "# channel_names = full_img.channel_names\n",
    "# print(channel_names)\n",
    "\n",
    "# nbvv.volshow(\n",
    "#     img_data,\n",
    "#     spacing=[1,1,1],  # full_img.physical_pixel_sizes,\n",
    "#     channel_names=channel_names\n",
    "# )"
   ]
  },
  {
   "cell_type": "code",
   "execution_count": null,
   "id": "34829c61-e6d4-4d42-bdd4-3a8d138c9483",
   "metadata": {},
   "outputs": [],
   "source": [
    "df_cell_metadata = df.filter(items=(col_df[col_df.category==\"cell metadata\"]['column name']))\n",
    "df_cell_metadata.head(3)"
   ]
  },
  {
   "cell_type": "markdown",
   "id": "2b5c7838-b16b-4f71-9e8e-1bac394d5ab0",
   "metadata": {},
   "source": [
    "The above code can be changed to any of the four categories [`cell metadata`, `field-of-view metadata`,`cell metric`,`cell images`] to quickly get the corresponding information. In section 2.4 we have verbose descriptions of our columns which will allow you to get a better understanding of what each of these values represents."
   ]
  },
  {
   "cell_type": "markdown",
   "id": "959ec25e-1c00-46bf-baa8-6ab60750ef9f",
   "metadata": {
    "tags": []
   },
   "source": [
    "#### Compute mean volume of cells by cell line\n",
    "\n",
    "We've already previously learned of ways to split the data based on the broad column categories such as cell_metadata. But we can also quickly operate on specific columns in the usual pandas syntax. For example the cells all have a metric for `cell_volume`. A question we may have is if all the cell lines had a simliar cell volume. To address this we simply need two columns,  1) **cell_volume**  and 2) **gene** from the manifest. Below is code to access these columns.\n",
    "\n",
    "First we create a new dataframe with only the columns we are interested in. Then we groupby gene and calculate the mean of the volumes."
   ]
  },
  {
   "cell_type": "code",
   "execution_count": null,
   "id": "83f522a5-288d-43b4-95ac-8f825bca1aba",
   "metadata": {},
   "outputs": [],
   "source": [
    "# Same as \n",
    "df_cell_vol = df[['cell_volume','gene']].copy()\n",
    "df_cell_vol.groupby('gene').mean()"
   ]
  },
  {
   "cell_type": "markdown",
   "id": "4a26745c-7e7f-430d-8649-c3db0cd6b04c",
   "metadata": {},
   "source": [
    "Parsing the data this way we can see the mean cell volumes for each cell line. "
   ]
  },
  {
   "cell_type": "markdown",
   "id": "042e8e57-5f53-4686-926b-23f903cbf370",
   "metadata": {
    "tags": []
   },
   "source": [
    "### Advanced"
   ]
  },
  {
   "cell_type": "code",
   "execution_count": null,
   "id": "64c407d1-d936-4edb-a63d-5bdf691ad23d",
   "metadata": {},
   "outputs": [],
   "source": [
    "#See if you can try and plot the results from above in this code block"
   ]
  },
  {
   "cell_type": "markdown",
   "id": "06cb8db0-c778-418a-bee7-9fed48a93d7f",
   "metadata": {},
   "source": [
    "Throughout this hackathon you will often interact with Pandas DataFrames. For those unfamiliar with Pandas DataFrames, some helpful querying and grouping functions are explored within this sub-chapter. "
   ]
  },
  {
   "cell_type": "markdown",
   "id": "c91f3ca6-c4fc-4d77-bab5-dbb543f383ad",
   "metadata": {},
   "source": [
    "Subdatasets can be generated based upon some conditional, these conditionals follow standard boolean logic. Say for example you want to subset on very specific criteria and are interested in using only the `NUP153` cell line that were in interphase `M0` and had a `nuclear height` > 3 microns. That would be represented by the below code:"
   ]
  },
  {
   "cell_type": "markdown",
   "id": "ff26a9c7-b5d9-4045-ab9c-82fb47d6c989",
   "metadata": {
    "jp-MarkdownHeadingCollapsed": true,
    "tags": []
   },
   "source": [
    "#### Filtering"
   ]
  },
  {
   "cell_type": "code",
   "execution_count": null,
   "id": "af4503b8-784e-4e23-8fc8-fe9ad2e9f9eb",
   "metadata": {},
   "outputs": [],
   "source": [
    "# Boolean Indexing\n",
    "df_filtered_boolean_indexing = df[\n",
    "    (df['gene'] == \"NUP153\") &\n",
    "    (df['cell_stage'] == \"M0\") &\n",
    "    (df['nuclear_height'] > 3)\n",
    "]\n",
    "\n",
    "df_filtered_boolean_indexing.shape"
   ]
  },
  {
   "cell_type": "markdown",
   "id": "118aa451-2b21-41d6-9712-dcd41ad3da6c",
   "metadata": {},
   "source": [
    "We now have a new dataframe that contains **16817** cells all of NUP153 at interphase and having a nuclear height greater than 3 microns!"
   ]
  },
  {
   "cell_type": "markdown",
   "id": "4abfea3b-025d-49b0-aa22-fb89b072a3a8",
   "metadata": {},
   "source": [
    "Similarly you can filter catagorical variables using list indexing. This allows us to gather data across multiple different values and in this case we are creating a new data frame with `NUP153` `PXN` and `TOMM20`."
   ]
  },
  {
   "cell_type": "code",
   "execution_count": null,
   "id": "5cf9f83b-4c7f-4848-9560-3313a7c0aea9",
   "metadata": {},
   "outputs": [],
   "source": [
    "# List Indexing \n",
    "value_list = [\n",
    "    \"NUP153\",\n",
    "    \"PXN\",\n",
    "    \"TOMM20\",\n",
    "]\n",
    "\n",
    "df_list_index = df[df[\"gene\"].isin(value_list)]\n",
    "df_list_index.shape"
   ]
  },
  {
   "cell_type": "markdown",
   "id": "7a74ca70-63ae-4541-b1e8-78472ed36218",
   "metadata": {
    "tags": []
   },
   "source": [
    "#### Grouping\n",
    "\n",
    "Being able to group data by some criteria is a useful tool for analysis. Using Pandas built in function .groupby we gather useful information on a particular slice of the data. We've already used this function quite extensively in the previous code blocks. But here we demonstrate the useful function `describe`. Say for example we quickly want to understand what the number, mean, std, min, and max of a specific metric is. Below we take a look at the `nuclear_volume` for each `gene` by simply adding .describe to the end of the column metric we are interested in."
   ]
  },
  {
   "cell_type": "code",
   "execution_count": null,
   "id": "989e844b-7429-4940-890f-d21693e7687b",
   "metadata": {},
   "outputs": [],
   "source": [
    "# Grouping\n",
    "df_groupby = df.groupby(['gene'])\n",
    "df_groupby.nuclear_volume.describe()"
   ]
  },
  {
   "cell_type": "markdown",
   "id": "1db1a836-670c-438b-8d50-1bac3da3a01c",
   "metadata": {
    "tags": []
   },
   "source": [
    "#### Missing Data\n",
    "\n",
    "The dataset contains many columns that may be missing values, though sparse, this omittence can affect your process. In this subsection some simple ways to interact with empty cells are explored."
   ]
  },
  {
   "cell_type": "code",
   "execution_count": null,
   "id": "d6a191f7-4589-4cbb-a3ee-e381d025bc1e",
   "metadata": {},
   "outputs": [],
   "source": [
    "# Dropping missing values by column or whole dataset\n",
    "df_dropna = df.copy()\n",
    "df_dropna.dropna(subset=['shape_mode_3_major_tilt'], inplace = True)\n",
    "df_dropna.shape"
   ]
  },
  {
   "cell_type": "code",
   "execution_count": null,
   "id": "6cb235d1-64b6-4c34-90b1-6f8d6ca70d9a",
   "metadata": {},
   "outputs": [],
   "source": [
    "# Filling, either by single column or whole dataset \n",
    "df_fill_na = df.copy()\n",
    "df_fill_na['shape_mode_3_major_tilt'] = df_fill_na['shape_mode_3_major_tilt'].fillna(0)\n",
    "df_fill_na.shape"
   ]
  },
  {
   "cell_type": "markdown",
   "id": "79011bb9-db36-4bbf-a189-b8fe25226a3f",
   "metadata": {},
   "source": [
    "The dataset contains 79 columns with important metrics which you may want to incorporate during the challenge. In this section we'll create a tiny dash app that runs within the notebook in order to display an interactive table of the columns and their descriptions. **The table is searchable** lending itself to more efficient querying."
   ]
  },
  {
   "cell_type": "code",
   "execution_count": null,
   "id": "4bf576a8-3152-4b29-89bb-7292e63c34aa",
   "metadata": {},
   "outputs": [],
   "source": [
    "from jupyter_dash import JupyterDash\n",
    "import dash\n",
    "from dash import dcc\n",
    "from dash import html \n",
    "JupyterDash.infer_jupyter_proxy_config()\n",
    "col_df = pd.read_csv(\"resources/hackathon_column_descriptions.csv\",delimiter=\",\") #Already read in but just in case\n",
    "col_df.columns = [\"column name\",\"description\",\"category\"] "
   ]
  },
  {
   "cell_type": "code",
   "execution_count": null,
   "id": "4268882e-3255-4b00-bcba-4eadb49d3fd5",
   "metadata": {},
   "outputs": [],
   "source": [
    "# Some sort of Look up method built in for looking at column definitions \n",
    "from dash import dash_table\n",
    "app = JupyterDash(__name__)\n",
    "server = app.server\n",
    "\n",
    "app.layout = dash_table.DataTable(\n",
    "    col_df.to_dict('records'), \n",
    "    [{\"name\": i, \"id\": i} for i in col_df.columns],\n",
    "    style_data={\n",
    "        'whiteSpace':'normal',\n",
    "        'height': 'auto',\n",
    "        'lineHeight':'15px',\n",
    "        'backgroundColor': 'rgb(50,50,50)',\n",
    "        'color': 'white',\n",
    "    },\n",
    "    style_header={\n",
    "        'backgroundColor':'rgb(30,30,30)',\n",
    "        'color':'white'\n",
    "    },  \n",
    "    style_cell={\n",
    "        'textAlign':'left'\n",
    "    },\n",
    "    filter_action=\"native\",\n",
    ")\n"
   ]
  },
  {
   "cell_type": "code",
   "execution_count": null,
   "id": "ad3389b0-0f14-45a2-8675-d56df48985b3",
   "metadata": {},
   "outputs": [],
   "source": [
    "app.run_server(mode=\"jupyterlab\",debug=False) # This runs on a specified port. Either enable port forwarding on your maching. #TODO work with Gui to enable this directly from the app rather than port forwarding. "
   ]
  }
 ],
 "metadata": {
  "kernelspec": {
   "display_name": "Python 3 (ipykernel)",
   "language": "python",
   "name": "python3"
  },
  "language_info": {
   "codemirror_mode": {
    "name": "ipython",
    "version": 3
   },
   "file_extension": ".py",
   "mimetype": "text/x-python",
   "name": "python",
   "nbconvert_exporter": "python",
   "pygments_lexer": "ipython3",
   "version": "3.10.6"
  }
 },
 "nbformat": 4,
 "nbformat_minor": 5
}
