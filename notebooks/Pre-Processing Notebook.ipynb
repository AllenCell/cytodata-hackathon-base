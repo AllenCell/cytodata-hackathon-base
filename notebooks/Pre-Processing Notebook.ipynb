{
 "cells": [
  {
   "cell_type": "code",
   "execution_count": 1,
   "id": "78d07305-d44d-4591-b310-411af2ceb5e8",
   "metadata": {},
   "outputs": [],
   "source": [
    "import os\n",
    "import pandas as pd\n",
    "os.environ[\"FSSPEC_CONFIG_DIR\"] = \"/allen/aics/assay-dev/users/Alex/cytodata/fsspec.d\""
   ]
  },
  {
   "cell_type": "code",
   "execution_count": 2,
   "id": "5432cfd6-a673-490a-9558-3d2b2338fd78",
   "metadata": {},
   "outputs": [],
   "source": [
    "# Read in Datasets\n",
    "df = pd.read_parquet(\"s3://variance-dataset/processed/manifest.parquet\")\n",
    "columns = pd.read_csv(\"./resources/Cytodata 2022 Hackathon Chapter 2 Columns - main_dataframe (3).csv\")\n",
    "cell_line_anno = pd.read_csv(\"./resources/cell_line_annotation.txt\",delimiter=\"\\t\")\n",
    "updated_edge = pd.read_csv(\"./resources/updatedEDGEcalls_22020914.csv\")\n",
    "human_mito_annotations = pd.read_csv(\"./resources/draft_plus_human_mito_annotations.csv\")"
   ]
  },
  {
   "cell_type": "code",
   "execution_count": 3,
   "id": "5cab4e4d-329a-441e-a933-6f2adf490e22",
   "metadata": {},
   "outputs": [
    {
     "data": {
      "text/plain": [
       "True     30004\n",
       "False      493\n",
       "Name: Draft M6/M7 complete, dtype: int64"
      ]
     },
     "execution_count": 3,
     "metadata": {},
     "output_type": "execute_result"
    }
   ],
   "source": [
    "human_mito_annotations['Draft M6/M7 complete'].value_counts()"
   ]
  },
  {
   "cell_type": "code",
   "execution_count": 4,
   "id": "5310b988-65e3-4ed3-8743-bb2f1b50f1da",
   "metadata": {},
   "outputs": [
    {
     "data": {
      "text/plain": [
       "Index(['CellId', 'roi', 'crop_raw', 'crop_seg', 'name_dict', 'fov_path',\n",
       "       'fov_seg_path', 'struct_seg_path', 'structure_name',\n",
       "       'this_cell_nbr_complete', 'this_cell_nbr_dist_2d', 'scale_micron',\n",
       "       'edge_flag', 'FOVId', 'this_cell_index', 'PlateId', 'WellId',\n",
       "       'cell_stage', 'InstrumentId', 'WorkflowId', 'ProtocolId', 'PiezoId',\n",
       "       'ChannelNumberStruct', 'ChannelNumberBrightfield', 'ChannelNumber405',\n",
       "       'ChannelNumber638', 'meta_fov_position', 'meta_imaging_mode',\n",
       "       'meta_fov_outside_overview', 'meta_fov_xcoord', 'meta_fov_ycoord',\n",
       "       'meta_fov_edgedist', 'meta_colony_label', 'meta_colony_centroid',\n",
       "       'meta_colony_area', 'meta_plate_bad_segmentation',\n",
       "       'meta_plate_confluency', 'meta_well_passage_at_imaging',\n",
       "       'meta_well_passage_at_thaw', 'outlier', 'NUC_shape_volume',\n",
       "       'NUC_position_depth', 'NUC_roundness_surface_area', 'MEM_shape_volume',\n",
       "       'MEM_position_depth', 'MEM_roundness_surface_area', 'STR_shape_volume',\n",
       "       'STR_connectivity_cc', 'NUC_MEM_PC1', 'NUC_MEM_PC2', 'NUC_MEM_PC3',\n",
       "       'NUC_MEM_PC4', 'NUC_MEM_PC5', 'NUC_MEM_PC6', 'NUC_MEM_PC7',\n",
       "       'NUC_MEM_PC8', 'success', 'angle', 'bbox_min_z', 'bbox_max_z',\n",
       "       'bbox_min_y', 'bbox_max_y', 'bbox_min_x', 'bbox_max_x', 'bf_clip_lo',\n",
       "       'bf_clip_hi', 'dna_clip_lo', 'dna_clip_hi', 'membrane_clip_lo',\n",
       "       'membrane_clip_hi', 'structure_clip_lo', 'structure_clip_hi',\n",
       "       'registered_path', 'max_projection_z', 'mean_projection_z',\n",
       "       'median_projection_z', 'max_projection_y', 'mean_projection_y',\n",
       "       'median_projection_y', 'max_projection_x', 'mean_projection_x',\n",
       "       'median_projection_x', 'center_slice', 'fits_z', 'fits_y', 'fits_x'],\n",
       "      dtype='object')"
      ]
     },
     "execution_count": 4,
     "metadata": {},
     "output_type": "execute_result"
    }
   ],
   "source": [
    "# Remove spherical harmonics coeff columns\n",
    "df_filt = df[df.columns.drop(list(df.filter(regex='shcoeffs')))]\n",
    "df_filt.columns"
   ]
  },
  {
   "cell_type": "code",
   "execution_count": 5,
   "id": "d91d69ef-1482-492c-98ea-75e846c56390",
   "metadata": {},
   "outputs": [
    {
     "data": {
      "text/plain": [
       "(215081, 86)"
      ]
     },
     "execution_count": 5,
     "metadata": {},
     "output_type": "execute_result"
    }
   ],
   "source": [
    "# Add Updated Edge data\n",
    "df_filt = pd.merge(df_filt, updated_edge, on='CellId')\n",
    "df_filt = df_filt.drop(columns=['edge_flag','edge_flag_OLDandWRONG','Unnamed: 0'])\n",
    "df_filt = df_filt.rename(columns={\"edge_flag_NEWandCORRECT\": \"edge_flag\"})\n",
    "df_filt.shape"
   ]
  },
  {
   "cell_type": "code",
   "execution_count": 6,
   "id": "31fa9842-0fc6-4407-a91f-3ec260713952",
   "metadata": {},
   "outputs": [
    {
     "data": {
      "text/plain": [
       "(215082, 90)"
      ]
     },
     "execution_count": 6,
     "metadata": {},
     "output_type": "execute_result"
    }
   ],
   "source": [
    "#  Add Cell line Annotations (4 New Columns)\n",
    "df_filt_cell_anno = pd.merge(df_filt,cell_line_anno, left_on='structure_name',right_on='Gene', how = 'outer' )\n",
    "df_filt = df_filt_cell_anno.drop(columns = ['Gene'])\n",
    "df_filt.shape"
   ]
  },
  {
   "cell_type": "code",
   "execution_count": 7,
   "id": "1a7e7711-131a-4daf-b39c-e0ae45182ae4",
   "metadata": {},
   "outputs": [
    {
     "data": {
      "text/plain": [
       "(215082, 96)"
      ]
     },
     "execution_count": 7,
     "metadata": {},
     "output_type": "execute_result"
    }
   ],
   "source": [
    "# Add Mito Annotations (6 New Columns)\n",
    "df_filt = pd.merge(df_filt,human_mito_annotations, on = ['CellId','FOVId'], how = 'outer')\n",
    "df_filt = df_filt.drop(columns=['Unnamed: 0'])\n",
    "df_filt.shape"
   ]
  },
  {
   "cell_type": "code",
   "execution_count": 8,
   "id": "5392131a-e7c4-4ae8-ab53-5f3ca9b46518",
   "metadata": {},
   "outputs": [
    {
     "data": {
      "text/plain": [
       "(214037, 96)"
      ]
     },
     "execution_count": 8,
     "metadata": {},
     "output_type": "execute_result"
    }
   ],
   "source": [
    "# Remove Outlier Cells \n",
    "df_filt = df_filt[df_filt['outlier']  == 'No']\n",
    "df_filt.shape"
   ]
  },
  {
   "cell_type": "code",
   "execution_count": 9,
   "id": "d670c392-9235-41ca-983a-dfe3bf64ccdc",
   "metadata": {},
   "outputs": [
    {
     "data": {
      "text/plain": [
       "(214037, 87)"
      ]
     },
     "execution_count": 9,
     "metadata": {},
     "output_type": "execute_result"
    }
   ],
   "source": [
    "# Drop Columns that contain /allen paths (+ outlier)\n",
    "column_criteria = ['success','roi','crop_raw','crop_seg','name_dict','fov_path','fov_seg_path','struct_seg_path','outlier']\n",
    "df_filt = df_filt.drop(columns= column_criteria, axis = 1)\n",
    "df_filt.shape"
   ]
  },
  {
   "cell_type": "code",
   "execution_count": 10,
   "id": "f746b2d6-ea8d-4aac-8e02-769f8f3c1129",
   "metadata": {},
   "outputs": [],
   "source": [
    "# Alphabatize\n",
    "df_filt = df_filt.reindex(sorted(df_filt.columns), axis=1)"
   ]
  },
  {
   "cell_type": "code",
   "execution_count": 18,
   "id": "1b80a6fb-f41b-4c12-8aea-7b0010b3ac2d",
   "metadata": {},
   "outputs": [
    {
     "data": {
      "text/plain": [
       "Index(['CellId', 'CellIndex', 'Cellular Component', 'ChannelNumber405',\n",
       "       'ChannelNumber638', 'ChannelNumberBrightfield', 'ChannelNumberStruct',\n",
       "       'Description (from Uniprot)', 'Draft M6/M7 complete',\n",
       "       'Draft mitotic state coarse', 'Draft mitotic state resolved',\n",
       "       'Expert mitotic state coarse', 'Expert mitotic state resolved', 'FOVId',\n",
       "       'InstrumentId', 'MEM_position_depth', 'MEM_roundness_surface_area',\n",
       "       'MEM_shape_volume', 'NUC_MEM_PC1', 'NUC_MEM_PC2', 'NUC_MEM_PC3',\n",
       "       'NUC_MEM_PC4', 'NUC_MEM_PC5', 'NUC_MEM_PC6', 'NUC_MEM_PC7',\n",
       "       'NUC_MEM_PC8', 'NUC_position_depth', 'NUC_roundness_surface_area',\n",
       "       'NUC_shape_volume', 'PiezoId', 'PlateId', 'Protein', 'ProtocolId',\n",
       "       'STR_connectivity_cc', 'STR_shape_volume', 'Structure', 'WellId',\n",
       "       'WorkflowId', 'angle', 'bbox_max_x', 'bbox_max_y', 'bbox_max_z',\n",
       "       'bbox_min_x', 'bbox_min_y', 'bbox_min_z', 'bf_clip_hi', 'bf_clip_lo',\n",
       "       'cell_stage', 'center_slice', 'dna_clip_hi', 'dna_clip_lo', 'edge_flag',\n",
       "       'fits_x', 'fits_y', 'fits_z', 'max_projection_x', 'max_projection_y',\n",
       "       'max_projection_z', 'mean_projection_x', 'mean_projection_y',\n",
       "       'mean_projection_z', 'median_projection_x', 'median_projection_y',\n",
       "       'median_projection_z', 'membrane_clip_hi', 'membrane_clip_lo',\n",
       "       'meta_colony_area', 'meta_colony_centroid', 'meta_colony_label',\n",
       "       'meta_fov_edgedist', 'meta_fov_outside_overview', 'meta_fov_position',\n",
       "       'meta_fov_xcoord', 'meta_fov_ycoord', 'meta_imaging_mode',\n",
       "       'meta_plate_bad_segmentation', 'meta_plate_confluency',\n",
       "       'meta_well_passage_at_imaging', 'meta_well_passage_at_thaw',\n",
       "       'registered_path', 'scale_micron', 'structure_clip_hi',\n",
       "       'structure_clip_lo', 'structure_name', 'this_cell_index',\n",
       "       'this_cell_nbr_complete', 'this_cell_nbr_dist_2d'],\n",
       "      dtype='object')"
      ]
     },
     "execution_count": 18,
     "metadata": {},
     "output_type": "execute_result"
    }
   ],
   "source": [
    "# List of all columns\n",
    "df_filt.columns"
   ]
  },
  {
   "cell_type": "code",
   "execution_count": 12,
   "id": "371e0a70-f5a0-4873-b43d-80b3ff76d147",
   "metadata": {},
   "outputs": [
    {
     "data": {
      "text/plain": [
       "(214037, 87)"
      ]
     },
     "execution_count": 12,
     "metadata": {},
     "output_type": "execute_result"
    }
   ],
   "source": [
    "df_filt.shape\n",
    "# Fliter Columns dataframe to just needed Columns Should have shape [(# of columns), 7]\n",
    "import numpy as np\n",
    "columns_filtered  = columns[np.intersect1d(columns.Col_ID.tolist(), ['CellId'])]\n",
    "columns_filtered.shape"
   ]
  },
  {
   "cell_type": "code",
   "execution_count": 28,
   "id": "35e011c6-b6ea-4040-8c1f-c807ff680736",
   "metadata": {},
   "outputs": [],
   "source": [
    "columns_filtered = columns.filter(df_filt.columns.tolist())"
   ]
  },
  {
   "cell_type": "code",
   "execution_count": 31,
   "id": "527ddc72-aba1-4963-a5fa-881ecfb2d3cb",
   "metadata": {},
   "outputs": [
    {
     "data": {
      "text/html": [
       "<div>\n",
       "<style scoped>\n",
       "    .dataframe tbody tr th:only-of-type {\n",
       "        vertical-align: middle;\n",
       "    }\n",
       "\n",
       "    .dataframe tbody tr th {\n",
       "        vertical-align: top;\n",
       "    }\n",
       "\n",
       "    .dataframe thead th {\n",
       "        text-align: right;\n",
       "    }\n",
       "</style>\n",
       "<table border=\"1\" class=\"dataframe\">\n",
       "  <thead>\n",
       "    <tr style=\"text-align: right;\">\n",
       "      <th></th>\n",
       "    </tr>\n",
       "  </thead>\n",
       "  <tbody>\n",
       "    <tr>\n",
       "      <th>0</th>\n",
       "    </tr>\n",
       "    <tr>\n",
       "      <th>1</th>\n",
       "    </tr>\n",
       "    <tr>\n",
       "      <th>2</th>\n",
       "    </tr>\n",
       "    <tr>\n",
       "      <th>3</th>\n",
       "    </tr>\n",
       "    <tr>\n",
       "      <th>4</th>\n",
       "    </tr>\n",
       "  </tbody>\n",
       "</table>\n",
       "</div>"
      ],
      "text/plain": [
       "Empty DataFrame\n",
       "Columns: []\n",
       "Index: [0, 1, 2, 3, 4]"
      ]
     },
     "execution_count": 31,
     "metadata": {},
     "output_type": "execute_result"
    }
   ],
   "source": [
    "columns_filtered.head()"
   ]
  },
  {
   "cell_type": "code",
   "execution_count": 15,
   "id": "9718dc70-5c57-49a5-9c50-eda6669dee16",
   "metadata": {},
   "outputs": [
    {
     "ename": "NameError",
     "evalue": "name 'needed_columns' is not defined",
     "output_type": "error",
     "traceback": [
      "\u001b[0;31m---------------------------------------------------------------------------\u001b[0m",
      "\u001b[0;31mNameError\u001b[0m                                 Traceback (most recent call last)",
      "Input \u001b[0;32mIn [15]\u001b[0m, in \u001b[0;36m<cell line: 1>\u001b[0;34m()\u001b[0m\n\u001b[0;32m----> 1\u001b[0m \u001b[43mneeded_columns\u001b[49m\n",
      "\u001b[0;31mNameError\u001b[0m: name 'needed_columns' is not defined"
     ]
    }
   ],
   "source": [
    "needed_columns"
   ]
  },
  {
   "cell_type": "code",
   "execution_count": null,
   "id": "4330e4aa-214d-4037-baa7-b70123361a34",
   "metadata": {},
   "outputs": [],
   "source": [
    "# Adding Catagory as a Secondary Header \n",
    "headers = [columns['Category'],df_filt.columns.tolist()]\n",
    "df_filt.columns = headers"
   ]
  },
  {
   "cell_type": "code",
   "execution_count": null,
   "id": "be308d82-521a-4a4d-a37e-fd77a55d8ccc",
   "metadata": {},
   "outputs": [],
   "source": [
    "# Rename Confusing Columns \n",
    "new_names = {\n",
    "    \"structure_name\":\"gene\",\n",
    "    \"NUC_shape_volume\":\"nuclear_volume\",\n",
    "    \"NUC_position_depth\":\"nuclear_height\",\n",
    "    \"NUC_roundness_surface_area\":\"nuclear_surface_area\",\n",
    "    \"MEM_shape_volume\":\"cell_volume\",\n",
    "    \"MEM_position_depth\":\"cell_height\",\n",
    "    \"MEM_roundness_surface_area\":\"cell_surface_area\",\n",
    "    \"STR_shape_volume\":\"structure_volume\",\n",
    "    \"STR_connectivity_cc\":\"structure_connected_components\",\n",
    "    \"NUC_MEM_PC1\":\"shape_mode_1_height\",\n",
    "    \"NUC_MEM_PC2\":\"shape_mode_2_volume\",\n",
    "    \"NUC_MEM_PC3\":\"shape_mode_3_major_tilt\",\n",
    "    \"NUC_MEM_PC4\":\"shape_mode_4_minor_tilt\",\n",
    "    \"NUC_MEM_PC5\":\"shape_mode_5_elongation\",\n",
    "    \"NUC_MEM_PC6\":\"shape_mode_6_bean-ness\",\n",
    "    \"NUC_MEM_PC7\":\"shape_mode_7_pear-ness\",\n",
    "    \"NUC_MEM_PC8\":\"shape_mode_8_wedge\",\n",
    "}\n",
    "\n",
    "df_filt.rename(columns = new_names,inplace=True, level = 1)"
   ]
  },
  {
   "cell_type": "code",
   "execution_count": null,
   "id": "c65d0661-ba9b-4d12-a07c-41dab6706a79",
   "metadata": {},
   "outputs": [],
   "source": [
    "df_filt.head()"
   ]
  },
  {
   "cell_type": "code",
   "execution_count": null,
   "id": "0a374619-088e-460f-9202-889813323c97",
   "metadata": {},
   "outputs": [],
   "source": [
    "df_filt.columns"
   ]
  },
  {
   "cell_type": "code",
   "execution_count": null,
   "id": "198a3928-deed-44dc-ab1f-8b708340f281",
   "metadata": {},
   "outputs": [],
   "source": []
  },
  {
   "cell_type": "code",
   "execution_count": null,
   "id": "4376405b-5a99-44f9-983a-1ac09dd5f464",
   "metadata": {},
   "outputs": [],
   "source": []
  },
  {
   "cell_type": "code",
   "execution_count": null,
   "id": "b4e906f5-d0ec-4c9b-90e0-9f7c2cdd1c61",
   "metadata": {},
   "outputs": [],
   "source": []
  }
 ],
 "metadata": {
  "kernelspec": {
   "display_name": "Python 3 (ipykernel)",
   "language": "python",
   "name": "python3"
  },
  "language_info": {
   "codemirror_mode": {
    "name": "ipython",
    "version": 3
   },
   "file_extension": ".py",
   "mimetype": "text/x-python",
   "name": "python",
   "nbconvert_exporter": "python",
   "pygments_lexer": "ipython3",
   "version": "3.9.13"
  }
 },
 "nbformat": 4,
 "nbformat_minor": 5
}
