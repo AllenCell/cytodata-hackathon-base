{
 "cells": [
  {
   "cell_type": "code",
   "execution_count": 1,
   "id": "78d07305-d44d-4591-b310-411af2ceb5e8",
   "metadata": {},
   "outputs": [],
   "source": [
    "import os\n",
    "import pandas as pd\n",
    "os.environ[\"FSSPEC_CONFIG_DIR\"] = \"/allen/aics/assay-dev/users/Alex/cytodata/fsspec.d\""
   ]
  },
  {
   "cell_type": "code",
   "execution_count": 2,
   "id": "5432cfd6-a673-490a-9558-3d2b2338fd78",
   "metadata": {},
   "outputs": [],
   "source": [
    "# Read in Datasets\n",
    "df = pd.read_parquet(\"s3://variance-dataset/processed/manifest.parquet\")\n",
    "columns = pd.read_csv(\"./resources/cytodata_column_manifest.csv.csv\")\n",
    "cell_line_anno = pd.read_csv(\"./resources/cell_line_annotation.txt\",delimiter=\"\\t\")\n",
    "updated_edge = pd.read_csv(\"./resources/updatedEDGEcalls_22020914.csv\")\n",
    "human_mito_annotations = pd.read_csv(\"./resources/draft_plus_human_mito_annotations.csv\")"
   ]
  },
  {
   "cell_type": "code",
   "execution_count": 3,
   "id": "5310b988-65e3-4ed3-8743-bb2f1b50f1da",
   "metadata": {},
   "outputs": [
    {
     "data": {
      "text/plain": [
       "Index(['CellId', 'roi', 'crop_raw', 'crop_seg', 'name_dict', 'fov_path',\n",
       "       'fov_seg_path', 'struct_seg_path', 'structure_name',\n",
       "       'this_cell_nbr_complete', 'this_cell_nbr_dist_2d', 'scale_micron',\n",
       "       'edge_flag', 'FOVId', 'this_cell_index', 'PlateId', 'WellId',\n",
       "       'cell_stage', 'InstrumentId', 'WorkflowId', 'ProtocolId', 'PiezoId',\n",
       "       'ChannelNumberStruct', 'ChannelNumberBrightfield', 'ChannelNumber405',\n",
       "       'ChannelNumber638', 'meta_fov_position', 'meta_imaging_mode',\n",
       "       'meta_fov_outside_overview', 'meta_fov_xcoord', 'meta_fov_ycoord',\n",
       "       'meta_fov_edgedist', 'meta_colony_label', 'meta_colony_centroid',\n",
       "       'meta_colony_area', 'meta_plate_bad_segmentation',\n",
       "       'meta_plate_confluency', 'meta_well_passage_at_imaging',\n",
       "       'meta_well_passage_at_thaw', 'outlier', 'NUC_shape_volume',\n",
       "       'NUC_position_depth', 'NUC_roundness_surface_area', 'MEM_shape_volume',\n",
       "       'MEM_position_depth', 'MEM_roundness_surface_area', 'STR_shape_volume',\n",
       "       'STR_connectivity_cc', 'NUC_MEM_PC1', 'NUC_MEM_PC2', 'NUC_MEM_PC3',\n",
       "       'NUC_MEM_PC4', 'NUC_MEM_PC5', 'NUC_MEM_PC6', 'NUC_MEM_PC7',\n",
       "       'NUC_MEM_PC8', 'success', 'angle', 'bbox_min_z', 'bbox_max_z',\n",
       "       'bbox_min_y', 'bbox_max_y', 'bbox_min_x', 'bbox_max_x', 'bf_clip_lo',\n",
       "       'bf_clip_hi', 'dna_clip_lo', 'dna_clip_hi', 'membrane_clip_lo',\n",
       "       'membrane_clip_hi', 'structure_clip_lo', 'structure_clip_hi',\n",
       "       'registered_path', 'max_projection_z', 'mean_projection_z',\n",
       "       'median_projection_z', 'max_projection_y', 'mean_projection_y',\n",
       "       'median_projection_y', 'max_projection_x', 'mean_projection_x',\n",
       "       'median_projection_x', 'center_slice', 'fits_z', 'fits_y', 'fits_x'],\n",
       "      dtype='object')"
      ]
     },
     "execution_count": 3,
     "metadata": {},
     "output_type": "execute_result"
    }
   ],
   "source": [
    "# Remove spherical harmonics coeff columns\n",
    "df_filt = df[df.columns.drop(list(df.filter(regex='shcoeffs')))]\n",
    "df_filt.columns"
   ]
  },
  {
   "cell_type": "code",
   "execution_count": 4,
   "id": "d91d69ef-1482-492c-98ea-75e846c56390",
   "metadata": {},
   "outputs": [
    {
     "data": {
      "text/plain": [
       "(215081, 86)"
      ]
     },
     "execution_count": 4,
     "metadata": {},
     "output_type": "execute_result"
    }
   ],
   "source": [
    "# Add Updated Edge data\n",
    "df_filt = pd.merge(df_filt, updated_edge, on='CellId')\n",
    "df_filt = df_filt.drop(columns=['edge_flag','edge_flag_OLDandWRONG','Unnamed: 0'])\n",
    "df_filt = df_filt.rename(columns={\"edge_flag_NEWandCORRECT\": \"edge_flag\"})\n",
    "df_filt.shape"
   ]
  },
  {
   "cell_type": "code",
   "execution_count": 5,
   "id": "31fa9842-0fc6-4407-a91f-3ec260713952",
   "metadata": {},
   "outputs": [
    {
     "data": {
      "text/plain": [
       "(215082, 90)"
      ]
     },
     "execution_count": 5,
     "metadata": {},
     "output_type": "execute_result"
    }
   ],
   "source": [
    "#  Add Cell line Annotations (4 New Columns)\n",
    "df_filt_cell_anno = pd.merge(df_filt,cell_line_anno, left_on='structure_name',right_on='Gene', how = 'outer' )\n",
    "df_filt = df_filt_cell_anno.drop(columns = ['Gene'])\n",
    "df_filt.shape"
   ]
  },
  {
   "cell_type": "code",
   "execution_count": 6,
   "id": "1a7e7711-131a-4daf-b39c-e0ae45182ae4",
   "metadata": {},
   "outputs": [
    {
     "data": {
      "text/plain": [
       "(215082, 96)"
      ]
     },
     "execution_count": 6,
     "metadata": {},
     "output_type": "execute_result"
    }
   ],
   "source": [
    "# Add Mito Annotations (6 New Columns)\n",
    "df_filt = pd.merge(df_filt,human_mito_annotations, on = ['CellId','FOVId'], how = 'outer')\n",
    "df_filt = df_filt.drop(columns=['Unnamed: 0'])\n",
    "df_filt.shape"
   ]
  },
  {
   "cell_type": "code",
   "execution_count": 7,
   "id": "5392131a-e7c4-4ae8-ab53-5f3ca9b46518",
   "metadata": {},
   "outputs": [
    {
     "data": {
      "text/plain": [
       "(214037, 96)"
      ]
     },
     "execution_count": 7,
     "metadata": {},
     "output_type": "execute_result"
    }
   ],
   "source": [
    "# Remove Outlier Cells \n",
    "df_filt = df_filt[df_filt['outlier']  == 'No']\n",
    "df_filt.shape"
   ]
  },
  {
   "cell_type": "code",
   "execution_count": 8,
   "id": "1da0642c-1c93-47ba-894a-b57c48b3897d",
   "metadata": {},
   "outputs": [],
   "source": [
    "# Drop Columns that contain /allen paths (+ outlier)\n",
    "column_criteria = [\n",
    "    'success',\n",
    "    'roi',\n",
    "    'crop_raw',\n",
    "    'crop_seg',\n",
    "    'name_dict',\n",
    "    'fov_path',\n",
    "    'fov_seg_path',\n",
    "    'struct_seg_path'\n",
    "]\n",
    "\n",
    "df_filt = df_filt.drop(columns= column_criteria, axis = 1)"
   ]
  },
  {
   "cell_type": "code",
   "execution_count": 9,
   "id": "d670c392-9235-41ca-983a-dfe3bf64ccdc",
   "metadata": {},
   "outputs": [
    {
     "data": {
      "text/plain": [
       "(214037, 78)"
      ]
     },
     "execution_count": 9,
     "metadata": {},
     "output_type": "execute_result"
    }
   ],
   "source": [
    "# Drop Misc Columns\n",
    "column_criteria = [\n",
    "    'outlier',\n",
    "    'ChannelNumber405',\n",
    "    'ChannelNumber638',\n",
    "    'ChannelNumberBrightfield',\n",
    "    'ChannelNumberStruct',\n",
    "    'Draft M6/M7 complete',\n",
    "    'Expert mitotic state resolved',\n",
    "    'CellIndex',\n",
    "    'Draft mitotic state coarse',\n",
    "    'Expert mitotic state coarse',\n",
    "]\n",
    "\n",
    "df_filt = df_filt.drop(columns = column_criteria,axis = 1 )\n",
    "df_filt.shape"
   ]
  },
  {
   "cell_type": "code",
   "execution_count": 10,
   "id": "a0352a61-a306-4ba5-8121-b98f32924df1",
   "metadata": {},
   "outputs": [],
   "source": [
    "#Alphabatize\n",
    "df_filt = df_filt[sorted(df_filt.columns.tolist(), key=str.casefold)]"
   ]
  },
  {
   "cell_type": "code",
   "execution_count": 11,
   "id": "371e0a70-f5a0-4873-b43d-80b3ff76d147",
   "metadata": {},
   "outputs": [],
   "source": [
    "# Fliter Columns dataframe to just needed Columns Should have shape [(# of columns), 7]\n",
    "lst = df_filt.columns.tolist()\n",
    "columns_filtered  = columns.query('Col_ID in @lst')"
   ]
  },
  {
   "cell_type": "code",
   "execution_count": 12,
   "id": "4330e4aa-214d-4037-baa7-b70123361a34",
   "metadata": {},
   "outputs": [],
   "source": [
    "# Adding Catagory as a Secondary Header \n",
    "headers = [columns_filtered['Category'], df_filt.columns.tolist()]\n",
    "df_filt.columns = headers"
   ]
  },
  {
   "cell_type": "code",
   "execution_count": 13,
   "id": "be308d82-521a-4a4d-a37e-fd77a55d8ccc",
   "metadata": {},
   "outputs": [],
   "source": [
    "# Rename Confusing Columns \n",
    "new_names = {\n",
    "    \"structure_name\":\"gene\",\n",
    "    \"NUC_shape_volume\":\"nuclear_volume\",\n",
    "    \"NUC_position_depth\":\"nuclear_height\",\n",
    "    \"NUC_roundness_surface_area\":\"nuclear_surface_area\",\n",
    "    \"MEM_shape_volume\":\"cell_volume\",\n",
    "    \"MEM_position_depth\":\"cell_height\",\n",
    "    \"MEM_roundness_surface_area\":\"cell_surface_area\",\n",
    "    \"STR_shape_volume\":\"structure_volume\",\n",
    "    \"STR_connectivity_cc\":\"structure_connected_components\",\n",
    "    \"NUC_MEM_PC1\":\"shape_mode_1_height\",\n",
    "    \"NUC_MEM_PC2\":\"shape_mode_2_volume\",\n",
    "    \"NUC_MEM_PC3\":\"shape_mode_3_major_tilt\",\n",
    "    \"NUC_MEM_PC4\":\"shape_mode_4_minor_tilt\",\n",
    "    \"NUC_MEM_PC5\":\"shape_mode_5_elongation\",\n",
    "    \"NUC_MEM_PC6\":\"shape_mode_6_bean-ness\",\n",
    "    \"NUC_MEM_PC7\":\"shape_mode_7_pear-ness\",\n",
    "    \"NUC_MEM_PC8\":\"shape_mode_8_wedge\",\n",
    "}\n",
    "\n",
    "df_filt.rename(columns = new_names,inplace=True, level = 1)"
   ]
  },
  {
   "cell_type": "code",
   "execution_count": 14,
   "id": "0a374619-088e-460f-9202-889813323c97",
   "metadata": {},
   "outputs": [
    {
     "data": {
      "text/plain": [
       "MultiIndex([(           'cell metric',                          'angle'),\n",
       "            (           'cell metric',                     'bbox_max_x'),\n",
       "            (           'cell metric',                     'bbox_max_y'),\n",
       "            (           'cell metric',                     'bbox_max_z'),\n",
       "            (           'cell metric',                     'bbox_min_x'),\n",
       "            (           'cell metric',                     'bbox_min_y'),\n",
       "            (           'cell metric',                     'bbox_min_z'),\n",
       "            (           'cell metric',                     'bf_clip_hi'),\n",
       "            (           'cell metric',                     'bf_clip_lo'),\n",
       "            (         'cell metadata',                     'cell_stage'),\n",
       "            (         'cell metadata',                         'CellId'),\n",
       "            (         'cell metadata',             'Cellular Component'),\n",
       "            (           'cell images',                   'center_slice'),\n",
       "            (         'cell metadata',     'Description (from Uniprot)'),\n",
       "            (           'cell metric',                    'dna_clip_hi'),\n",
       "            (           'cell metric',                    'dna_clip_lo'),\n",
       "            (         'cell metadata',   'Draft mitotic state resolved'),\n",
       "            (         'cell metadata',                      'edge_flag'),\n",
       "            (           'cell metric',                         'fits_x'),\n",
       "            (           'cell metric',                         'fits_y'),\n",
       "            (           'cell metric',                         'fits_z'),\n",
       "            ('field-of-view metadata',                          'FOVId'),\n",
       "            ('field-of-view metadata',                   'InstrumentId'),\n",
       "            (           'cell images',               'max_projection_x'),\n",
       "            (           'cell images',               'max_projection_y'),\n",
       "            (           'cell images',               'max_projection_z'),\n",
       "            (           'cell images',              'mean_projection_x'),\n",
       "            (           'cell images',              'mean_projection_y'),\n",
       "            (           'cell images',              'mean_projection_z'),\n",
       "            (           'cell images',            'median_projection_x'),\n",
       "            (           'cell images',            'median_projection_y'),\n",
       "            (           'cell images',            'median_projection_z'),\n",
       "            (           'cell metric',                    'cell_height'),\n",
       "            (           'cell metric',              'cell_surface_area'),\n",
       "            (           'cell metric',                    'cell_volume'),\n",
       "            (           'cell metric',               'membrane_clip_hi'),\n",
       "            (           'cell metric',               'membrane_clip_lo'),\n",
       "            (       'colony metadata',               'meta_colony_area'),\n",
       "            (       'colony metadata',           'meta_colony_centroid'),\n",
       "            (       'colony metadata',              'meta_colony_label'),\n",
       "            ('field-of-view metadata',              'meta_fov_edgedist'),\n",
       "            (       'colony metadata',      'meta_fov_outside_overview'),\n",
       "            ('field-of-view metadata',              'meta_fov_position'),\n",
       "            ('field-of-view metadata',                'meta_fov_xcoord'),\n",
       "            ('field-of-view metadata',                'meta_fov_ycoord'),\n",
       "            (       'colony metadata',              'meta_imaging_mode'),\n",
       "            ('field-of-view metadata',    'meta_plate_bad_segmentation'),\n",
       "            ('field-of-view metadata',          'meta_plate_confluency'),\n",
       "            ('field-of-view metadata',   'meta_well_passage_at_imaging'),\n",
       "            ('field-of-view metadata',      'meta_well_passage_at_thaw'),\n",
       "            (           'cell metric',            'shape_mode_1_height'),\n",
       "            (           'cell metric',            'shape_mode_2_volume'),\n",
       "            (           'cell metric',        'shape_mode_3_major_tilt'),\n",
       "            (           'cell metric',        'shape_mode_4_minor_tilt'),\n",
       "            (           'cell metric',        'shape_mode_5_elongation'),\n",
       "            (           'cell metric',         'shape_mode_6_bean-ness'),\n",
       "            (           'cell metric',         'shape_mode_7_pear-ness'),\n",
       "            (           'cell metric',             'shape_mode_8_wedge'),\n",
       "            (           'cell metric',                 'nuclear_height'),\n",
       "            (           'cell metric',           'nuclear_surface_area'),\n",
       "            (           'cell metric',                 'nuclear_volume'),\n",
       "            ('field-of-view metadata',                        'PiezoId'),\n",
       "            ('field-of-view metadata',                        'PlateId'),\n",
       "            (         'cell metadata',                        'Protein'),\n",
       "            ('field-of-view metadata',                     'ProtocolId'),\n",
       "            (           'cell images',                'registered_path'),\n",
       "            (           'cell metric',                   'scale_micron'),\n",
       "            (           'cell metric', 'structure_connected_components'),\n",
       "            (           'cell metric',               'structure_volume'),\n",
       "            (         'cell metadata',                      'Structure'),\n",
       "            (           'cell images',              'structure_clip_hi'),\n",
       "            (           'cell metric',              'structure_clip_lo'),\n",
       "            (         'cell metadata',                           'gene'),\n",
       "            (         'cell metadata',                'this_cell_index'),\n",
       "            (         'cell metadata',         'this_cell_nbr_complete'),\n",
       "            (           'cell metric',          'this_cell_nbr_dist_2d'),\n",
       "            ('field-of-view metadata',                         'WellId'),\n",
       "            ('field-of-view metadata',                     'WorkflowId')],\n",
       "           names=['Category', None])"
      ]
     },
     "execution_count": 14,
     "metadata": {},
     "output_type": "execute_result"
    }
   ],
   "source": [
    "df_filt.columns"
   ]
  },
  {
   "cell_type": "code",
   "execution_count": null,
   "id": "198a3928-deed-44dc-ab1f-8b708340f281",
   "metadata": {},
   "outputs": [],
   "source": []
  },
  {
   "cell_type": "code",
   "execution_count": null,
   "id": "4376405b-5a99-44f9-983a-1ac09dd5f464",
   "metadata": {},
   "outputs": [],
   "source": []
  },
  {
   "cell_type": "code",
   "execution_count": null,
   "id": "b4e906f5-d0ec-4c9b-90e0-9f7c2cdd1c61",
   "metadata": {},
   "outputs": [],
   "source": []
  }
 ],
 "metadata": {
  "kernelspec": {
   "display_name": "Python 3 (ipykernel)",
   "language": "python",
   "name": "python3"
  },
  "language_info": {
   "codemirror_mode": {
    "name": "ipython",
    "version": 3
   },
   "file_extension": ".py",
   "mimetype": "text/x-python",
   "name": "python",
   "nbconvert_exporter": "python",
   "pygments_lexer": "ipython3",
   "version": "3.9.13"
  }
 },
 "nbformat": 4,
 "nbformat_minor": 5
}
