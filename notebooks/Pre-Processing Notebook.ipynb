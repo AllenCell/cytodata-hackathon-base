{
 "cells": [
  {
   "cell_type": "code",
   "execution_count": null,
   "id": "78d07305-d44d-4591-b310-411af2ceb5e8",
   "metadata": {},
   "outputs": [],
   "source": [
    "import os\n",
    "import pandas as pd\n",
    "os.environ[\"FSSPEC_CONFIG_DIR\"] = \"/allen/aics/assay-dev/users/Alex/cytodata/fsspec.d\""
   ]
  },
  {
   "cell_type": "code",
   "execution_count": null,
   "id": "5432cfd6-a673-490a-9558-3d2b2338fd78",
   "metadata": {},
   "outputs": [],
   "source": [
    "# Read in Datasets\n",
    "df = pd.read_parquet(\"s3://variance-dataset/processed/manifest.parquet\")\n",
    "columns = pd.read_csv(\"./resources/cytodata_column_manifest_092122.csv\")\n",
    "cell_line_anno = pd.read_csv(\"./resources/cell_line_annotation.txt\",delimiter=\"\\t\")\n",
    "updated_edge = pd.read_csv(\"./resources/updatedEDGEcalls_22020914.csv\")\n",
    "human_mito_annotations = pd.read_csv(\"./resources/draft_plus_human_mito_annotations.csv\")"
   ]
  },
  {
   "cell_type": "code",
   "execution_count": null,
   "id": "5310b988-65e3-4ed3-8743-bb2f1b50f1da",
   "metadata": {},
   "outputs": [],
   "source": [
    "# Remove spherical harmonics coeff columns\n",
    "df_filt = df[df.columns.drop(list(df.filter(regex='shcoeffs')))]\n",
    "df_filt.columns"
   ]
  },
  {
   "cell_type": "code",
   "execution_count": null,
   "id": "d91d69ef-1482-492c-98ea-75e846c56390",
   "metadata": {},
   "outputs": [],
   "source": [
    "# Add Updated Edge data\n",
    "df_filt = pd.merge(df_filt, updated_edge, on='CellId')\n",
    "df_filt = df_filt.drop(columns=['edge_flag','edge_flag_OLDandWRONG','Unnamed: 0'])\n",
    "df_filt = df_filt.rename(columns={\"edge_flag_NEWandCORRECT\": \"edge_flag\"})\n",
    "df_filt.shape"
   ]
  },
  {
   "cell_type": "code",
   "execution_count": null,
   "id": "31fa9842-0fc6-4407-a91f-3ec260713952",
   "metadata": {},
   "outputs": [],
   "source": [
    "#  Add Cell line Annotations (4 New Columns) #Change AAVS1 name to match annotation\n",
    "df_filt['structure_name'] = df_filt['structure_name'].replace({'AAVS1':'Safe Harbor Locus (AAVS1)'})\n",
    "df_filt_cell_anno = pd.merge(df_filt,cell_line_anno, left_on='structure_name',right_on='Gene', how = 'outer' )\n",
    "df_filt = df_filt_cell_anno.drop(columns = ['Gene'])\n",
    "df_filt.shape"
   ]
  },
  {
   "cell_type": "code",
   "execution_count": null,
   "id": "1a7e7711-131a-4daf-b39c-e0ae45182ae4",
   "metadata": {},
   "outputs": [],
   "source": [
    "# Add Mito Annotations (6 New Columns)\n",
    "df_filt = pd.merge(df_filt,human_mito_annotations, on = ['CellId','FOVId'], how = 'outer')\n",
    "df_filt = df_filt.drop(columns=['Unnamed: 0'])\n",
    "df_filt.shape"
   ]
  },
  {
   "cell_type": "code",
   "execution_count": null,
   "id": "5392131a-e7c4-4ae8-ab53-5f3ca9b46518",
   "metadata": {},
   "outputs": [],
   "source": [
    "# Remove Outlier Cells \n",
    "df_filt = df_filt[df_filt['outlier']  == 'No']\n",
    "df_filt.shape"
   ]
  },
  {
   "cell_type": "code",
   "execution_count": null,
   "id": "1da0642c-1c93-47ba-894a-b57c48b3897d",
   "metadata": {},
   "outputs": [],
   "source": [
    "# Drop Columns that contain /allen paths (+ outlier)\n",
    "column_criteria = [\n",
    "    'success',\n",
    "    'roi',\n",
    "    'crop_raw',\n",
    "    'crop_seg',\n",
    "    'name_dict',\n",
    "    'fov_path',\n",
    "    'fov_seg_path',\n",
    "    'struct_seg_path'\n",
    "]\n",
    "\n",
    "df_filt = df_filt.drop(columns= column_criteria, axis = 1)"
   ]
  },
  {
   "cell_type": "code",
   "execution_count": null,
   "id": "d670c392-9235-41ca-983a-dfe3bf64ccdc",
   "metadata": {},
   "outputs": [],
   "source": [
    "# Drop Misc Columns\n",
    "column_criteria = [\n",
    "    'outlier',\n",
    "    'ChannelNumber405',\n",
    "    'ChannelNumber638',\n",
    "    'ChannelNumberBrightfield',\n",
    "    'ChannelNumberStruct',\n",
    "    'Draft M6/M7 complete',\n",
    "    'Expert mitotic state resolved',\n",
    "    'CellIndex',\n",
    "    'Draft mitotic state coarse',\n",
    "    'Expert mitotic state coarse',\n",
    "]\n",
    "\n",
    "df_filt = df_filt.drop(columns = column_criteria,axis = 1 )\n",
    "df_filt.shape"
   ]
  },
  {
   "cell_type": "code",
   "execution_count": null,
   "id": "a0352a61-a306-4ba5-8121-b98f32924df1",
   "metadata": {},
   "outputs": [],
   "source": [
    "#Alphabatize\n",
    "df_filt = df_filt[sorted(df_filt.columns.tolist(), key=str.casefold)]"
   ]
  },
  {
   "cell_type": "code",
   "execution_count": null,
   "id": "371e0a70-f5a0-4873-b43d-80b3ff76d147",
   "metadata": {},
   "outputs": [],
   "source": [
    "# Fliter Columns dataframe to just needed Columns Should have shape [(# of columns), 7]\n",
    "lst = df_filt.columns.tolist()\n",
    "columns_filtered  = columns.query('Col_ID in @lst')"
   ]
  },
  {
   "cell_type": "code",
   "execution_count": null,
   "id": "4330e4aa-214d-4037-baa7-b70123361a34",
   "metadata": {},
   "outputs": [],
   "source": [
    "# Adding Catagory as a Secondary Header \n",
    "#headers = [columns_filtered['Category'], df_filt.columns.tolist()]\n",
    "#df_filt.columns = headers"
   ]
  },
  {
   "cell_type": "code",
   "execution_count": null,
   "id": "be308d82-521a-4a4d-a37e-fd77a55d8ccc",
   "metadata": {},
   "outputs": [],
   "source": [
    "# Rename Confusing Columns \n",
    "new_names = {\n",
    "    \"structure_name\":\"gene\",\n",
    "    \"NUC_shape_volume\":\"nuclear_volume\",\n",
    "    \"NUC_position_depth\":\"nuclear_height\",\n",
    "    \"NUC_roundness_surface_area\":\"nuclear_surface_area\",\n",
    "    \"MEM_shape_volume\":\"cell_volume\",\n",
    "    \"MEM_position_depth\":\"cell_height\",\n",
    "    \"MEM_roundness_surface_area\":\"cell_surface_area\",\n",
    "    \"STR_shape_volume\":\"structure_volume\",\n",
    "    \"STR_connectivity_cc\":\"structure_connected_components\",\n",
    "    \"NUC_MEM_PC1\":\"shape_mode_1_height\",\n",
    "    \"NUC_MEM_PC2\":\"shape_mode_2_volume\",\n",
    "    \"NUC_MEM_PC3\":\"shape_mode_3_major_tilt\",\n",
    "    \"NUC_MEM_PC4\":\"shape_mode_4_minor_tilt\",\n",
    "    \"NUC_MEM_PC5\":\"shape_mode_5_elongation\",\n",
    "    \"NUC_MEM_PC6\":\"shape_mode_6_bean-ness\",\n",
    "    \"NUC_MEM_PC7\":\"shape_mode_7_pear-ness\",\n",
    "    \"NUC_MEM_PC8\":\"shape_mode_8_wedge\",\n",
    "}\n",
    "\n",
    "df_filt.rename(columns = new_names,inplace=True,)"
   ]
  },
  {
   "cell_type": "code",
   "execution_count": null,
   "id": "53419fde-6fa6-40bc-8fd4-ce0b079145e2",
   "metadata": {},
   "outputs": [],
   "source": [
    "df_filt.columns.tolist()"
   ]
  },
  {
   "cell_type": "code",
   "execution_count": null,
   "id": "1a80ffa1-fde5-4013-877e-17a71716e6df",
   "metadata": {},
   "outputs": [],
   "source": [
    "df_filt['nuclear_height'].head()"
   ]
  },
  {
   "cell_type": "code",
   "execution_count": null,
   "id": "5b42d8cb-5f9f-41a5-963a-7af8907f4cff",
   "metadata": {},
   "outputs": [],
   "source": [
    "#scale to microns from pixels\n",
    "# columns to scele :nuclear_height, nuclear_surface_area, nuclear_volume, cell_height, cell_volume, cell_surface_area,structure_volume  \n",
    "\n",
    "pix_size = 0.108333\n",
    "#df_filt[('cell metric', 'nuclear_height')] = df_filt[('cell metric', 'nuclear_height')]*pix_size\n",
    "#df_filt[('cell metric', 'cell_height')] = df_filt[('cell metric', 'cell_height')]*pix_size\n",
    "#df_filt[('cell metric', 'cell_volume')] = df_filt[('cell metric', 'cell_volume')] * (pix_size**3)\n",
    "#df_filt[('cell metric', 'nuclear_volume')] = df_filt[('cell metric', 'nuclear_volume')] * (pix_size**3)\n",
    "#df_filt[('cell metric', 'cell_surface_area')] = df_filt[('cell metric', 'cell_surface_area')] * (pix_size**2)\n",
    "#df_filt[('cell metric', 'nuclear_surface_area')] = df_filt[('cell metric', 'nuclear_surface_area')] * (pix_size**2)\n",
    "#df_filt[('cell metric', 'structure_volume')] = df_filt[('cell metric', 'structure_volume')] * (pix_size**3)\n",
    "\n",
    "df_filt['nuclear_height'] = df_filt['nuclear_height']*pix_size\n",
    "df_filt['cell_height'] = df_filt['cell_height']*pix_size\n",
    "\n",
    "df_filt['nuclear_surface_area'] = df_filt['nuclear_surface_area']*pix_size**2\n",
    "df_filt['cell_surface_area'] = df_filt['cell_surface_area']*pix_size**2\n",
    "\n",
    "df_filt['nuclear_volume'] = df_filt['nuclear_volume']*pix_size**3\n",
    "df_filt['cell_volume'] = df_filt['cell_volume']*pix_size**3\n",
    "df_filt['structure_volume'] = df_filt['structure_volume']*pix_size**3\n",
    "\n"
   ]
  },
  {
   "cell_type": "code",
   "execution_count": null,
   "id": "ea387d60-1e1b-4592-8094-b0012ed771ed",
   "metadata": {},
   "outputs": [],
   "source": [
    "#df_filt[('cell metric', 'nuclear_height')].head()\n",
    "df_filt['nuclear_height']"
   ]
  },
  {
   "cell_type": "code",
   "execution_count": null,
   "id": "df761038-905d-4721-94ed-159dfe9c20d7",
   "metadata": {},
   "outputs": [],
   "source": [
    "df_filt.to_parquet(\"./resources/hackathon_manifest_09292022.parquet\")"
   ]
  },
  {
   "cell_type": "code",
   "execution_count": null,
   "id": "bf6fbae4-f008-4b99-8556-3c1e8913adf5",
   "metadata": {},
   "outputs": [],
   "source": []
  },
  {
   "cell_type": "code",
   "execution_count": null,
   "id": "198a3928-deed-44dc-ab1f-8b708340f281",
   "metadata": {},
   "outputs": [],
   "source": []
  },
  {
   "cell_type": "code",
   "execution_count": null,
   "id": "4376405b-5a99-44f9-983a-1ac09dd5f464",
   "metadata": {},
   "outputs": [],
   "source": []
  },
  {
   "cell_type": "code",
   "execution_count": null,
   "id": "b4e906f5-d0ec-4c9b-90e0-9f7c2cdd1c61",
   "metadata": {},
   "outputs": [],
   "source": []
  }
 ],
 "metadata": {
  "kernelspec": {
   "display_name": "Python 3 (ipykernel)",
   "language": "python",
   "name": "python3"
  },
  "language_info": {
   "codemirror_mode": {
    "name": "ipython",
    "version": 3
   },
   "file_extension": ".py",
   "mimetype": "text/x-python",
   "name": "python",
   "nbconvert_exporter": "python",
   "pygments_lexer": "ipython3",
   "version": "3.10.6"
  }
 },
 "nbformat": 4,
 "nbformat_minor": 5
}
